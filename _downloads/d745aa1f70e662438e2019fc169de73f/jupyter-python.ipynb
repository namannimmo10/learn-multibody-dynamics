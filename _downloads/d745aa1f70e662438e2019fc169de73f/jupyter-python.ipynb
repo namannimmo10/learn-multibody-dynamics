{
 "cells": [
  {
   "cell_type": "code",
   "execution_count": 1,
   "id": "9c8584a8",
   "metadata": {
    "execution": {
     "iopub.execute_input": "2022-04-18T21:54:46.898683Z",
     "iopub.status.busy": "2022-04-18T21:54:46.898409Z",
     "iopub.status.idle": "2022-04-18T21:54:46.916128Z",
     "shell.execute_reply": "2022-04-18T21:54:46.915425Z"
    }
   },
   "outputs": [
    {
     "data": {
      "application/json": {
       "cell": {
        "!": "OSMagics",
        "HTML": "Other",
        "SVG": "Other",
        "bash": "Other",
        "capture": "ExecutionMagics",
        "debug": "ExecutionMagics",
        "file": "Other",
        "html": "DisplayMagics",
        "javascript": "DisplayMagics",
        "js": "DisplayMagics",
        "latex": "DisplayMagics",
        "markdown": "DisplayMagics",
        "perl": "Other",
        "prun": "ExecutionMagics",
        "pypy": "Other",
        "python": "Other",
        "python2": "Other",
        "python3": "Other",
        "ruby": "Other",
        "script": "ScriptMagics",
        "sh": "Other",
        "svg": "DisplayMagics",
        "sx": "OSMagics",
        "system": "OSMagics",
        "time": "ExecutionMagics",
        "timeit": "ExecutionMagics",
        "writefile": "OSMagics"
       },
       "line": {
        "alias": "OSMagics",
        "alias_magic": "BasicMagics",
        "autoawait": "AsyncMagics",
        "autocall": "AutoMagics",
        "automagic": "AutoMagics",
        "autosave": "KernelMagics",
        "bookmark": "OSMagics",
        "cat": "Other",
        "cd": "OSMagics",
        "clear": "KernelMagics",
        "colors": "BasicMagics",
        "conda": "PackagingMagics",
        "config": "ConfigMagics",
        "connect_info": "KernelMagics",
        "cp": "Other",
        "debug": "ExecutionMagics",
        "dhist": "OSMagics",
        "dirs": "OSMagics",
        "doctest_mode": "BasicMagics",
        "ed": "Other",
        "edit": "KernelMagics",
        "env": "OSMagics",
        "gui": "BasicMagics",
        "hist": "Other",
        "history": "HistoryMagics",
        "killbgscripts": "ScriptMagics",
        "ldir": "Other",
        "less": "KernelMagics",
        "lf": "Other",
        "lk": "Other",
        "ll": "Other",
        "load": "CodeMagics",
        "load_ext": "ExtensionMagics",
        "loadpy": "CodeMagics",
        "logoff": "LoggingMagics",
        "logon": "LoggingMagics",
        "logstart": "LoggingMagics",
        "logstate": "LoggingMagics",
        "logstop": "LoggingMagics",
        "ls": "Other",
        "lsmagic": "BasicMagics",
        "lx": "Other",
        "macro": "ExecutionMagics",
        "magic": "BasicMagics",
        "man": "KernelMagics",
        "matplotlib": "PylabMagics",
        "mkdir": "Other",
        "more": "KernelMagics",
        "mv": "Other",
        "notebook": "BasicMagics",
        "page": "BasicMagics",
        "pastebin": "CodeMagics",
        "pdb": "ExecutionMagics",
        "pdef": "NamespaceMagics",
        "pdoc": "NamespaceMagics",
        "pfile": "NamespaceMagics",
        "pinfo": "NamespaceMagics",
        "pinfo2": "NamespaceMagics",
        "pip": "PackagingMagics",
        "popd": "OSMagics",
        "pprint": "BasicMagics",
        "precision": "BasicMagics",
        "prun": "ExecutionMagics",
        "psearch": "NamespaceMagics",
        "psource": "NamespaceMagics",
        "pushd": "OSMagics",
        "pwd": "OSMagics",
        "pycat": "OSMagics",
        "pylab": "PylabMagics",
        "qtconsole": "KernelMagics",
        "quickref": "BasicMagics",
        "recall": "HistoryMagics",
        "rehashx": "OSMagics",
        "reload_ext": "ExtensionMagics",
        "rep": "Other",
        "rerun": "HistoryMagics",
        "reset": "NamespaceMagics",
        "reset_selective": "NamespaceMagics",
        "rm": "Other",
        "rmdir": "Other",
        "run": "ExecutionMagics",
        "save": "CodeMagics",
        "sc": "OSMagics",
        "set_env": "OSMagics",
        "store": "StoreMagics",
        "sx": "OSMagics",
        "system": "OSMagics",
        "tb": "ExecutionMagics",
        "time": "ExecutionMagics",
        "timeit": "ExecutionMagics",
        "unalias": "OSMagics",
        "unload_ext": "ExtensionMagics",
        "who": "NamespaceMagics",
        "who_ls": "NamespaceMagics",
        "whos": "NamespaceMagics",
        "xdel": "NamespaceMagics",
        "xmode": "BasicMagics"
       }
      },
      "text/plain": [
       "Available line magics:\n",
       "%alias  %alias_magic  %autoawait  %autocall  %automagic  %autosave  %bookmark  %cat  %cd  %clear  %colors  %conda  %config  %connect_info  %cp  %debug  %dhist  %dirs  %doctest_mode  %ed  %edit  %env  %gui  %hist  %history  %killbgscripts  %ldir  %less  %lf  %lk  %ll  %load  %load_ext  %loadpy  %logoff  %logon  %logstart  %logstate  %logstop  %ls  %lsmagic  %lx  %macro  %magic  %man  %matplotlib  %mkdir  %more  %mv  %notebook  %page  %pastebin  %pdb  %pdef  %pdoc  %pfile  %pinfo  %pinfo2  %pip  %popd  %pprint  %precision  %prun  %psearch  %psource  %pushd  %pwd  %pycat  %pylab  %qtconsole  %quickref  %recall  %rehashx  %reload_ext  %rep  %rerun  %reset  %reset_selective  %rm  %rmdir  %run  %save  %sc  %set_env  %store  %sx  %system  %tb  %time  %timeit  %unalias  %unload_ext  %who  %who_ls  %whos  %xdel  %xmode\n",
       "\n",
       "Available cell magics:\n",
       "%%!  %%HTML  %%SVG  %%bash  %%capture  %%debug  %%file  %%html  %%javascript  %%js  %%latex  %%markdown  %%perl  %%prun  %%pypy  %%python  %%python2  %%python3  %%ruby  %%script  %%sh  %%svg  %%sx  %%system  %%time  %%timeit  %%writefile\n",
       "\n",
       "Automagic is ON, % prefix IS NOT needed for line magics."
      ]
     },
     "execution_count": 1,
     "metadata": {},
     "output_type": "execute_result"
    }
   ],
   "source": [
    "%lsmagic"
   ]
  },
  {
   "cell_type": "code",
   "execution_count": 2,
   "id": "fb1fb81e",
   "metadata": {
    "execution": {
     "iopub.execute_input": "2022-04-18T21:54:46.919328Z",
     "iopub.status.busy": "2022-04-18T21:54:46.919153Z",
     "iopub.status.idle": "2022-04-18T21:54:46.923183Z",
     "shell.execute_reply": "2022-04-18T21:54:46.922573Z"
    }
   },
   "outputs": [
    {
     "name": "stdout",
     "output_type": "stream",
     "text": [
      "Variable   Type    Data/Info\n",
      "----------------------------\n",
      "a          int     5\n"
     ]
    }
   ],
   "source": [
    "a = 5\n",
    "\n",
    "%whos"
   ]
  },
  {
   "cell_type": "code",
   "execution_count": 3,
   "id": "8f8a8fde",
   "metadata": {
    "execution": {
     "iopub.execute_input": "2022-04-18T21:54:46.927272Z",
     "iopub.status.busy": "2022-04-18T21:54:46.926796Z",
     "iopub.status.idle": "2022-04-18T21:54:46.930268Z",
     "shell.execute_reply": "2022-04-18T21:54:46.929461Z"
    }
   },
   "outputs": [],
   "source": [
    "?"
   ]
  },
  {
   "cell_type": "code",
   "execution_count": 4,
   "id": "2b66efdf",
   "metadata": {
    "execution": {
     "iopub.execute_input": "2022-04-18T21:54:46.933301Z",
     "iopub.status.busy": "2022-04-18T21:54:46.932839Z",
     "iopub.status.idle": "2022-04-18T21:54:46.937807Z",
     "shell.execute_reply": "2022-04-18T21:54:46.937005Z"
    }
   },
   "outputs": [],
   "source": [
    "%quickref"
   ]
  },
  {
   "cell_type": "code",
   "execution_count": 5,
   "id": "e87d6d3e",
   "metadata": {
    "execution": {
     "iopub.execute_input": "2022-04-18T21:54:46.940818Z",
     "iopub.status.busy": "2022-04-18T21:54:46.940359Z",
     "iopub.status.idle": "2022-04-18T21:54:46.998798Z",
     "shell.execute_reply": "2022-04-18T21:54:46.997087Z"
    }
   },
   "outputs": [],
   "source": [
    "round?"
   ]
  },
  {
   "cell_type": "code",
   "execution_count": 6,
   "id": "a205fdb2",
   "metadata": {
    "execution": {
     "iopub.execute_input": "2022-04-18T21:54:47.002176Z",
     "iopub.status.busy": "2022-04-18T21:54:47.001842Z",
     "iopub.status.idle": "2022-04-18T21:54:47.007719Z",
     "shell.execute_reply": "2022-04-18T21:54:47.007021Z"
    }
   },
   "outputs": [
    {
     "data": {
      "text/plain": [
       "(int, float, float, str, str)"
      ]
     },
     "execution_count": 6,
     "metadata": {},
     "output_type": "execute_result"
    }
   ],
   "source": [
    "a = 5\n",
    "b = 5.0\n",
    "c = float(5)\n",
    "d = 'dee'\n",
    "e = 'e'\n",
    "\n",
    "type(a), type(b), type(c), type(d), type(e)"
   ]
  },
  {
   "cell_type": "code",
   "execution_count": 7,
   "id": "7fcb1e9c",
   "metadata": {
    "execution": {
     "iopub.execute_input": "2022-04-18T21:54:47.011408Z",
     "iopub.status.busy": "2022-04-18T21:54:47.011086Z",
     "iopub.status.idle": "2022-04-18T21:54:47.015613Z",
     "shell.execute_reply": "2022-04-18T21:54:47.014993Z"
    }
   },
   "outputs": [],
   "source": [
    "empty_list = []\n",
    "\n",
    "string_list = ['lions', 'tigers', 'bears', 'sharks', 'hamsters']\n",
    "\n",
    "int_list = [0, 1, 2, 3, 4]\n",
    "\n",
    "int_list2 = list(range(5,10))\n",
    "\n",
    "list_from_variables = [a,b,c,d,e]\n",
    "\n",
    "list_of_lists = [empty_list,\n",
    "                 string_list,\n",
    "                 list_from_variables,\n",
    "                 int_list,\n",
    "                 int_list2]"
   ]
  },
  {
   "cell_type": "code",
   "execution_count": 8,
   "id": "ec5af493",
   "metadata": {
    "execution": {
     "iopub.execute_input": "2022-04-18T21:54:47.018474Z",
     "iopub.status.busy": "2022-04-18T21:54:47.018175Z",
     "iopub.status.idle": "2022-04-18T21:54:47.022835Z",
     "shell.execute_reply": "2022-04-18T21:54:47.022211Z"
    }
   },
   "outputs": [
    {
     "data": {
      "text/plain": [
       "[]"
      ]
     },
     "execution_count": 8,
     "metadata": {},
     "output_type": "execute_result"
    }
   ],
   "source": [
    "empty_list"
   ]
  },
  {
   "cell_type": "code",
   "execution_count": 9,
   "id": "dbf3a07f",
   "metadata": {
    "execution": {
     "iopub.execute_input": "2022-04-18T21:54:47.027079Z",
     "iopub.status.busy": "2022-04-18T21:54:47.026491Z",
     "iopub.status.idle": "2022-04-18T21:54:47.031071Z",
     "shell.execute_reply": "2022-04-18T21:54:47.030470Z"
    }
   },
   "outputs": [
    {
     "data": {
      "text/plain": [
       "['lions', 'tigers', 'bears', 'sharks', 'hamsters']"
      ]
     },
     "execution_count": 9,
     "metadata": {},
     "output_type": "execute_result"
    }
   ],
   "source": [
    "string_list"
   ]
  },
  {
   "cell_type": "code",
   "execution_count": 10,
   "id": "91e67d07",
   "metadata": {
    "execution": {
     "iopub.execute_input": "2022-04-18T21:54:47.034001Z",
     "iopub.status.busy": "2022-04-18T21:54:47.033537Z",
     "iopub.status.idle": "2022-04-18T21:54:47.038585Z",
     "shell.execute_reply": "2022-04-18T21:54:47.037946Z"
    }
   },
   "outputs": [
    {
     "data": {
      "text/plain": [
       "[0, 1, 2, 3, 4]"
      ]
     },
     "execution_count": 10,
     "metadata": {},
     "output_type": "execute_result"
    }
   ],
   "source": [
    "int_list"
   ]
  },
  {
   "cell_type": "code",
   "execution_count": 11,
   "id": "2a316cec",
   "metadata": {
    "execution": {
     "iopub.execute_input": "2022-04-18T21:54:47.041988Z",
     "iopub.status.busy": "2022-04-18T21:54:47.041524Z",
     "iopub.status.idle": "2022-04-18T21:54:47.046272Z",
     "shell.execute_reply": "2022-04-18T21:54:47.045671Z"
    }
   },
   "outputs": [
    {
     "data": {
      "text/plain": [
       "[5, 6, 7, 8, 9]"
      ]
     },
     "execution_count": 11,
     "metadata": {},
     "output_type": "execute_result"
    }
   ],
   "source": [
    "int_list2"
   ]
  },
  {
   "cell_type": "code",
   "execution_count": 12,
   "id": "40c32448",
   "metadata": {
    "execution": {
     "iopub.execute_input": "2022-04-18T21:54:47.049703Z",
     "iopub.status.busy": "2022-04-18T21:54:47.049315Z",
     "iopub.status.idle": "2022-04-18T21:54:47.053759Z",
     "shell.execute_reply": "2022-04-18T21:54:47.053134Z"
    }
   },
   "outputs": [
    {
     "data": {
      "text/plain": [
       "[5, 5.0, 5.0, 'dee', 'e']"
      ]
     },
     "execution_count": 12,
     "metadata": {},
     "output_type": "execute_result"
    }
   ],
   "source": [
    "list_from_variables"
   ]
  },
  {
   "cell_type": "code",
   "execution_count": 13,
   "id": "af77b8b2",
   "metadata": {
    "execution": {
     "iopub.execute_input": "2022-04-18T21:54:47.057395Z",
     "iopub.status.busy": "2022-04-18T21:54:47.057097Z",
     "iopub.status.idle": "2022-04-18T21:54:47.062730Z",
     "shell.execute_reply": "2022-04-18T21:54:47.062285Z"
    }
   },
   "outputs": [
    {
     "data": {
      "text/plain": [
       "[[],\n",
       " ['lions', 'tigers', 'bears', 'sharks', 'hamsters'],\n",
       " [5, 5.0, 5.0, 'dee', 'e'],\n",
       " [0, 1, 2, 3, 4],\n",
       " [5, 6, 7, 8, 9]]"
      ]
     },
     "execution_count": 13,
     "metadata": {},
     "output_type": "execute_result"
    }
   ],
   "source": [
    "list_of_lists"
   ]
  },
  {
   "cell_type": "code",
   "execution_count": 14,
   "id": "41d2c219",
   "metadata": {
    "execution": {
     "iopub.execute_input": "2022-04-18T21:54:47.065683Z",
     "iopub.status.busy": "2022-04-18T21:54:47.064994Z",
     "iopub.status.idle": "2022-04-18T21:54:47.069485Z",
     "shell.execute_reply": "2022-04-18T21:54:47.068906Z"
    }
   },
   "outputs": [
    {
     "data": {
      "text/plain": [
       "'lions'"
      ]
     },
     "execution_count": 14,
     "metadata": {},
     "output_type": "execute_result"
    }
   ],
   "source": [
    "string_list[0]"
   ]
  },
  {
   "cell_type": "code",
   "execution_count": 15,
   "id": "592c9b29",
   "metadata": {
    "execution": {
     "iopub.execute_input": "2022-04-18T21:54:47.072005Z",
     "iopub.status.busy": "2022-04-18T21:54:47.071838Z",
     "iopub.status.idle": "2022-04-18T21:54:47.076111Z",
     "shell.execute_reply": "2022-04-18T21:54:47.075485Z"
    }
   },
   "outputs": [
    {
     "data": {
      "text/plain": [
       "['tigers', 'bears', 'sharks']"
      ]
     },
     "execution_count": 15,
     "metadata": {},
     "output_type": "execute_result"
    }
   ],
   "source": [
    "string_list[1:4]"
   ]
  },
  {
   "cell_type": "code",
   "execution_count": 16,
   "id": "655175b1",
   "metadata": {
    "execution": {
     "iopub.execute_input": "2022-04-18T21:54:47.081071Z",
     "iopub.status.busy": "2022-04-18T21:54:47.079079Z",
     "iopub.status.idle": "2022-04-18T21:54:47.085180Z",
     "shell.execute_reply": "2022-04-18T21:54:47.084593Z"
    }
   },
   "outputs": [
    {
     "data": {
      "text/plain": [
       "[0, 2, 4]"
      ]
     },
     "execution_count": 16,
     "metadata": {},
     "output_type": "execute_result"
    }
   ],
   "source": [
    "int_list[::2]"
   ]
  },
  {
   "cell_type": "code",
   "execution_count": 17,
   "id": "175d5630",
   "metadata": {
    "execution": {
     "iopub.execute_input": "2022-04-18T21:54:47.090001Z",
     "iopub.status.busy": "2022-04-18T21:54:47.088098Z",
     "iopub.status.idle": "2022-04-18T21:54:47.093804Z",
     "shell.execute_reply": "2022-04-18T21:54:47.093339Z"
    }
   },
   "outputs": [
    {
     "data": {
      "text/plain": [
       "'hamsters'"
      ]
     },
     "execution_count": 17,
     "metadata": {},
     "output_type": "execute_result"
    }
   ],
   "source": [
    "list_of_lists[1][4]"
   ]
  },
  {
   "cell_type": "code",
   "execution_count": 18,
   "id": "b90e1e79",
   "metadata": {
    "execution": {
     "iopub.execute_input": "2022-04-18T21:54:47.096525Z",
     "iopub.status.busy": "2022-04-18T21:54:47.096126Z",
     "iopub.status.idle": "2022-04-18T21:54:47.099682Z",
     "shell.execute_reply": "2022-04-18T21:54:47.099070Z"
    }
   },
   "outputs": [],
   "source": [
    "int_list[2] = 222\n",
    "\n",
    "int_list.append(5)\n",
    "\n",
    "string_list.remove('lions')\n",
    "\n",
    "list_from_variables.extend(int_list)"
   ]
  },
  {
   "cell_type": "code",
   "execution_count": 19,
   "id": "fe744e4a",
   "metadata": {
    "execution": {
     "iopub.execute_input": "2022-04-18T21:54:47.102667Z",
     "iopub.status.busy": "2022-04-18T21:54:47.102204Z",
     "iopub.status.idle": "2022-04-18T21:54:47.106539Z",
     "shell.execute_reply": "2022-04-18T21:54:47.105922Z"
    }
   },
   "outputs": [
    {
     "data": {
      "text/plain": [
       "[0, 1, 222, 3, 4, 5]"
      ]
     },
     "execution_count": 19,
     "metadata": {},
     "output_type": "execute_result"
    }
   ],
   "source": [
    "int_list"
   ]
  },
  {
   "cell_type": "code",
   "execution_count": 20,
   "id": "9430d263",
   "metadata": {
    "execution": {
     "iopub.execute_input": "2022-04-18T21:54:47.109980Z",
     "iopub.status.busy": "2022-04-18T21:54:47.109503Z",
     "iopub.status.idle": "2022-04-18T21:54:47.113747Z",
     "shell.execute_reply": "2022-04-18T21:54:47.113120Z"
    }
   },
   "outputs": [
    {
     "data": {
      "text/plain": [
       "['tigers', 'bears', 'sharks', 'hamsters']"
      ]
     },
     "execution_count": 20,
     "metadata": {},
     "output_type": "execute_result"
    }
   ],
   "source": [
    "string_list"
   ]
  },
  {
   "cell_type": "code",
   "execution_count": 21,
   "id": "034e9b97",
   "metadata": {
    "execution": {
     "iopub.execute_input": "2022-04-18T21:54:47.117258Z",
     "iopub.status.busy": "2022-04-18T21:54:47.116877Z",
     "iopub.status.idle": "2022-04-18T21:54:47.121369Z",
     "shell.execute_reply": "2022-04-18T21:54:47.120743Z"
    }
   },
   "outputs": [
    {
     "data": {
      "text/plain": [
       "[5, 5.0, 5.0, 'dee', 'e', 0, 1, 222, 3, 4, 5]"
      ]
     },
     "execution_count": 21,
     "metadata": {},
     "output_type": "execute_result"
    }
   ],
   "source": [
    "list_from_variables"
   ]
  },
  {
   "cell_type": "code",
   "execution_count": 22,
   "id": "c9fa73eb",
   "metadata": {
    "execution": {
     "iopub.execute_input": "2022-04-18T21:54:47.124690Z",
     "iopub.status.busy": "2022-04-18T21:54:47.124147Z",
     "iopub.status.idle": "2022-04-18T21:54:47.128681Z",
     "shell.execute_reply": "2022-04-18T21:54:47.128101Z"
    }
   },
   "outputs": [
    {
     "data": {
      "text/plain": [
       "(32, 'tall', 'likes hats')"
      ]
     },
     "execution_count": 22,
     "metadata": {},
     "output_type": "execute_result"
    }
   ],
   "source": [
    "joe_blow = (32, 'tall', 'likes hats')\n",
    "joe_blow"
   ]
  },
  {
   "cell_type": "code",
   "execution_count": 23,
   "id": "7123a42f",
   "metadata": {
    "execution": {
     "iopub.execute_input": "2022-04-18T21:54:47.131775Z",
     "iopub.status.busy": "2022-04-18T21:54:47.131310Z",
     "iopub.status.idle": "2022-04-18T21:54:47.135434Z",
     "shell.execute_reply": "2022-04-18T21:54:47.134860Z"
    }
   },
   "outputs": [
    {
     "data": {
      "text/plain": [
       "'tall'"
      ]
     },
     "execution_count": 23,
     "metadata": {},
     "output_type": "execute_result"
    }
   ],
   "source": [
    "joe_blow[1]"
   ]
  },
  {
   "cell_type": "code",
   "execution_count": 24,
   "id": "4a16d6b2",
   "metadata": {
    "execution": {
     "iopub.execute_input": "2022-04-18T21:54:47.138887Z",
     "iopub.status.busy": "2022-04-18T21:54:47.138426Z",
     "iopub.status.idle": "2022-04-18T21:54:47.723989Z",
     "shell.execute_reply": "2022-04-18T21:54:47.723225Z"
    }
   },
   "outputs": [
    {
     "ename": "AttributeError",
     "evalue": "'tuple' object has no attribute 'append'",
     "output_type": "error",
     "traceback": [
      "\u001b[0;31m---------------------------------------------------------------------------\u001b[0m",
      "\u001b[0;31mAttributeError\u001b[0m                            Traceback (most recent call last)",
      "Input \u001b[0;32mIn [24]\u001b[0m, in \u001b[0;36m<cell line: 1>\u001b[0;34m()\u001b[0m\n\u001b[0;32m----> 1\u001b[0m \u001b[43mjoe_blow\u001b[49m\u001b[38;5;241;43m.\u001b[39;49m\u001b[43mappend\u001b[49m(\u001b[38;5;124m'\u001b[39m\u001b[38;5;124mmarried\u001b[39m\u001b[38;5;124m'\u001b[39m)\n",
      "\u001b[0;31mAttributeError\u001b[0m: 'tuple' object has no attribute 'append'"
     ]
    }
   ],
   "source": [
    "joe_blow.append('married')"
   ]
  },
  {
   "cell_type": "code",
   "execution_count": 25,
   "id": "fdbfdb89",
   "metadata": {
    "execution": {
     "iopub.execute_input": "2022-04-18T21:54:47.727514Z",
     "iopub.status.busy": "2022-04-18T21:54:47.727152Z",
     "iopub.status.idle": "2022-04-18T21:54:47.747366Z",
     "shell.execute_reply": "2022-04-18T21:54:47.746748Z"
    }
   },
   "outputs": [
    {
     "ename": "TypeError",
     "evalue": "'tuple' object does not support item assignment",
     "output_type": "error",
     "traceback": [
      "\u001b[0;31m---------------------------------------------------------------------------\u001b[0m",
      "\u001b[0;31mTypeError\u001b[0m                                 Traceback (most recent call last)",
      "Input \u001b[0;32mIn [25]\u001b[0m, in \u001b[0;36m<cell line: 1>\u001b[0;34m()\u001b[0m\n\u001b[0;32m----> 1\u001b[0m joe_blow[\u001b[38;5;241m2\u001b[39m] \u001b[38;5;241m=\u001b[39m \u001b[38;5;124m'\u001b[39m\u001b[38;5;124mnot really a fan of hats\u001b[39m\u001b[38;5;124m'\u001b[39m\n",
      "\u001b[0;31mTypeError\u001b[0m: 'tuple' object does not support item assignment"
     ]
    }
   ],
   "source": [
    "joe_blow[2] = 'not really a fan of hats'"
   ]
  },
  {
   "cell_type": "code",
   "execution_count": 26,
   "id": "cdf93186",
   "metadata": {
    "execution": {
     "iopub.execute_input": "2022-04-18T21:54:47.750784Z",
     "iopub.status.busy": "2022-04-18T21:54:47.750133Z",
     "iopub.status.idle": "2022-04-18T21:54:47.755214Z",
     "shell.execute_reply": "2022-04-18T21:54:47.754613Z"
    }
   },
   "outputs": [
    {
     "data": {
      "text/plain": [
       "'elephant'"
      ]
     },
     "execution_count": 26,
     "metadata": {},
     "output_type": "execute_result"
    }
   ],
   "source": [
    "pets = ('elephant', 'cow', 'rock')\n",
    "\n",
    "pet1, pet2, pet3 = pets\n",
    "\n",
    "pet1"
   ]
  },
  {
   "cell_type": "code",
   "execution_count": 27,
   "id": "1f99a2ed",
   "metadata": {
    "execution": {
     "iopub.execute_input": "2022-04-18T21:54:47.758454Z",
     "iopub.status.busy": "2022-04-18T21:54:47.757989Z",
     "iopub.status.idle": "2022-04-18T21:54:47.762416Z",
     "shell.execute_reply": "2022-04-18T21:54:47.761822Z"
    }
   },
   "outputs": [
    {
     "data": {
      "text/plain": [
       "('elephant',)"
      ]
     },
     "execution_count": 27,
     "metadata": {},
     "output_type": "execute_result"
    }
   ],
   "source": [
    "tuple_with_one_item = pet1,\n",
    "\n",
    "tuple_with_one_item"
   ]
  },
  {
   "cell_type": "code",
   "execution_count": 28,
   "id": "e65c1821",
   "metadata": {
    "execution": {
     "iopub.execute_input": "2022-04-18T21:54:47.766144Z",
     "iopub.status.busy": "2022-04-18T21:54:47.765620Z",
     "iopub.status.idle": "2022-04-18T21:54:47.771300Z",
     "shell.execute_reply": "2022-04-18T21:54:47.770662Z"
    }
   },
   "outputs": [
    {
     "data": {
      "text/plain": [
       "{'key1': 'value1', 'key2': 'value2', 'key3': 'value3'}"
      ]
     },
     "execution_count": 28,
     "metadata": {},
     "output_type": "execute_result"
    }
   ],
   "source": [
    "dictionary0 = {'key1': 'value1', 'key2': 'value2', 'key3': 'value3'}\n",
    "dictionary0"
   ]
  },
  {
   "cell_type": "code",
   "execution_count": 29,
   "id": "f7b23578",
   "metadata": {
    "execution": {
     "iopub.execute_input": "2022-04-18T21:54:47.774375Z",
     "iopub.status.busy": "2022-04-18T21:54:47.773901Z",
     "iopub.status.idle": "2022-04-18T21:54:47.778951Z",
     "shell.execute_reply": "2022-04-18T21:54:47.778336Z"
    }
   },
   "outputs": [
    {
     "data": {
      "text/plain": [
       "{1: 'value1', 2: 'value2', 3: 'value3'}"
      ]
     },
     "execution_count": 29,
     "metadata": {},
     "output_type": "execute_result"
    }
   ],
   "source": [
    "dictionary1 = {1: 'value1', 2: 'value2', 3: 'value3'}\n",
    "dictionary1"
   ]
  },
  {
   "cell_type": "code",
   "execution_count": 30,
   "id": "21e2b946",
   "metadata": {
    "execution": {
     "iopub.execute_input": "2022-04-18T21:54:47.782472Z",
     "iopub.status.busy": "2022-04-18T21:54:47.782156Z",
     "iopub.status.idle": "2022-04-18T21:54:47.786446Z",
     "shell.execute_reply": "2022-04-18T21:54:47.785999Z"
    }
   },
   "outputs": [
    {
     "data": {
      "text/plain": [
       "[1, 2, 3]"
      ]
     },
     "execution_count": 30,
     "metadata": {},
     "output_type": "execute_result"
    }
   ],
   "source": [
    "list(dictionary1.keys())"
   ]
  },
  {
   "cell_type": "code",
   "execution_count": 31,
   "id": "bcb1f48a",
   "metadata": {
    "execution": {
     "iopub.execute_input": "2022-04-18T21:54:47.790497Z",
     "iopub.status.busy": "2022-04-18T21:54:47.790026Z",
     "iopub.status.idle": "2022-04-18T21:54:47.803970Z",
     "shell.execute_reply": "2022-04-18T21:54:47.803229Z"
    }
   },
   "outputs": [
    {
     "data": {
      "text/plain": [
       "['value1', 'value2', 'value3']"
      ]
     },
     "execution_count": 31,
     "metadata": {},
     "output_type": "execute_result"
    }
   ],
   "source": [
    "list(dictionary1.values())"
   ]
  },
  {
   "cell_type": "code",
   "execution_count": 32,
   "id": "1a45102e",
   "metadata": {
    "execution": {
     "iopub.execute_input": "2022-04-18T21:54:47.807229Z",
     "iopub.status.busy": "2022-04-18T21:54:47.806593Z",
     "iopub.status.idle": "2022-04-18T21:54:47.811450Z",
     "shell.execute_reply": "2022-04-18T21:54:47.810841Z"
    }
   },
   "outputs": [
    {
     "data": {
      "text/plain": [
       "50"
      ]
     },
     "execution_count": 32,
     "metadata": {},
     "output_type": "execute_result"
    }
   ],
   "source": [
    "cylinder = {'mass': 50, 'base': 10, 'height': 100}\n",
    "cylinder['mass']"
   ]
  },
  {
   "cell_type": "code",
   "execution_count": 33,
   "id": "1aab5645",
   "metadata": {
    "execution": {
     "iopub.execute_input": "2022-04-18T21:54:47.815129Z",
     "iopub.status.busy": "2022-04-18T21:54:47.814635Z",
     "iopub.status.idle": "2022-04-18T21:54:47.820001Z",
     "shell.execute_reply": "2022-04-18T21:54:47.819384Z"
    }
   },
   "outputs": [
    {
     "data": {
      "text/plain": [
       "{'mass01': 10, 'inertia01': 1, 'mass02': 50, 'inertia02': 5}"
      ]
     },
     "execution_count": 33,
     "metadata": {},
     "output_type": "execute_result"
    }
   ],
   "source": [
    "keys = ['mass01', 'inertia01', 'mass02', 'inertia02']\n",
    "values = [10, 1, 50, 5]\n",
    "dict(zip(keys, values))"
   ]
  },
  {
   "cell_type": "code",
   "execution_count": 34,
   "id": "1cd9af8d",
   "metadata": {
    "execution": {
     "iopub.execute_input": "2022-04-18T21:54:47.823691Z",
     "iopub.status.busy": "2022-04-18T21:54:47.823219Z",
     "iopub.status.idle": "2022-04-18T21:54:47.828107Z",
     "shell.execute_reply": "2022-04-18T21:54:47.827495Z"
    }
   },
   "outputs": [
    {
     "data": {
      "text/plain": [
       "100"
      ]
     },
     "execution_count": 34,
     "metadata": {},
     "output_type": "execute_result"
    }
   ],
   "source": [
    "def abs_value(A):\n",
    "    if A < 0:\n",
    "        A = -A\n",
    "    return A\n",
    "\n",
    "abs_value(-100)"
   ]
  },
  {
   "cell_type": "code",
   "execution_count": 35,
   "id": "d514aeb5",
   "metadata": {
    "execution": {
     "iopub.execute_input": "2022-04-18T21:54:47.831921Z",
     "iopub.status.busy": "2022-04-18T21:54:47.831393Z",
     "iopub.status.idle": "2022-04-18T21:54:47.835628Z",
     "shell.execute_reply": "2022-04-18T21:54:47.835039Z"
    }
   },
   "outputs": [
    {
     "data": {
      "text/plain": [
       "123"
      ]
     },
     "execution_count": 35,
     "metadata": {},
     "output_type": "execute_result"
    }
   ],
   "source": [
    "abs_value(123)"
   ]
  },
  {
   "cell_type": "code",
   "execution_count": 36,
   "id": "3207b0c8",
   "metadata": {
    "execution": {
     "iopub.execute_input": "2022-04-18T21:54:47.838895Z",
     "iopub.status.busy": "2022-04-18T21:54:47.838432Z",
     "iopub.status.idle": "2022-04-18T21:54:47.841921Z",
     "shell.execute_reply": "2022-04-18T21:54:47.841333Z"
    }
   },
   "outputs": [],
   "source": [
    "def long_div(dividend, divisor):\n",
    "    quotient = dividend // divisor  # // : floor division\n",
    "    remainder = dividend % divisor  # % : modulo\n",
    "    return quotient, remainder"
   ]
  },
  {
   "cell_type": "code",
   "execution_count": 37,
   "id": "96a8ae35",
   "metadata": {
    "execution": {
     "iopub.execute_input": "2022-04-18T21:54:47.844665Z",
     "iopub.status.busy": "2022-04-18T21:54:47.844477Z",
     "iopub.status.idle": "2022-04-18T21:54:47.849170Z",
     "shell.execute_reply": "2022-04-18T21:54:47.848439Z"
    }
   },
   "outputs": [
    {
     "data": {
      "text/plain": [
       "(17, 5)"
      ]
     },
     "execution_count": 37,
     "metadata": {},
     "output_type": "execute_result"
    }
   ],
   "source": [
    "a = 430\n",
    "b = 25\n",
    "\n",
    "quo, rem = long_div(a, b)\n",
    "\n",
    "quo, rem"
   ]
  },
  {
   "cell_type": "code",
   "execution_count": 38,
   "id": "53f523f1",
   "metadata": {
    "execution": {
     "iopub.execute_input": "2022-04-18T21:54:47.852446Z",
     "iopub.status.busy": "2022-04-18T21:54:47.852263Z",
     "iopub.status.idle": "2022-04-18T21:54:47.855861Z",
     "shell.execute_reply": "2022-04-18T21:54:47.855238Z"
    }
   },
   "outputs": [
    {
     "name": "stdout",
     "output_type": "stream",
     "text": [
      "430 divided 25 is 17 remainder 5\n"
     ]
    }
   ],
   "source": [
    "msg = '{} divided {} is {} remainder {}'.format(a, b, quo, rem)\n",
    "print(msg)"
   ]
  },
  {
   "cell_type": "code",
   "execution_count": 39,
   "id": "d2ae5277",
   "metadata": {
    "execution": {
     "iopub.execute_input": "2022-04-18T21:54:47.859619Z",
     "iopub.status.busy": "2022-04-18T21:54:47.859142Z",
     "iopub.status.idle": "2022-04-18T21:54:47.862706Z",
     "shell.execute_reply": "2022-04-18T21:54:47.862067Z"
    }
   },
   "outputs": [
    {
     "name": "stdout",
     "output_type": "stream",
     "text": [
      "3.9.12 (main, Mar 24 2022, 17:53:18) \n",
      "[GCC 9.4.0]\n"
     ]
    }
   ],
   "source": [
    "import sys\n",
    "\n",
    "print(sys.version)"
   ]
  },
  {
   "cell_type": "code",
   "execution_count": 40,
   "id": "23c62c0a",
   "metadata": {
    "execution": {
     "iopub.execute_input": "2022-04-18T21:54:47.866343Z",
     "iopub.status.busy": "2022-04-18T21:54:47.866054Z",
     "iopub.status.idle": "2022-04-18T21:54:47.871309Z",
     "shell.execute_reply": "2022-04-18T21:54:47.870465Z"
    }
   },
   "outputs": [
    {
     "name": "stdout",
     "output_type": "stream",
     "text": [
      "3.9.12 (main, Mar 24 2022, 17:53:18) \n",
      "[GCC 9.4.0]\n"
     ]
    }
   ],
   "source": [
    "from sys import version\n",
    "\n",
    "print(version)"
   ]
  },
  {
   "cell_type": "code",
   "execution_count": 41,
   "id": "5cd078b9",
   "metadata": {
    "execution": {
     "iopub.execute_input": "2022-04-18T21:54:47.874951Z",
     "iopub.status.busy": "2022-04-18T21:54:47.874515Z",
     "iopub.status.idle": "2022-04-18T21:54:49.269528Z",
     "shell.execute_reply": "2022-04-18T21:54:49.268693Z"
    }
   },
   "outputs": [],
   "source": [
    "import sympy as sm\n",
    "import numpy as np\n",
    "import scipy as sp\n",
    "import matplotlib.pyplot as plt"
   ]
  },
  {
   "cell_type": "code",
   "execution_count": 42,
   "id": "294185e3",
   "metadata": {
    "execution": {
     "iopub.execute_input": "2022-04-18T21:54:49.273354Z",
     "iopub.status.busy": "2022-04-18T21:54:49.272876Z",
     "iopub.status.idle": "2022-04-18T21:54:49.286974Z",
     "shell.execute_reply": "2022-04-18T21:54:49.285200Z"
    }
   },
   "outputs": [
    {
     "data": {
      "text/latex": [
       "$\\displaystyle 0.843853958732492$"
      ],
      "text/plain": [
       "0.843853958732492"
      ]
     },
     "execution_count": 42,
     "metadata": {},
     "output_type": "execute_result"
    }
   ],
   "source": [
    "sm.cos(12.0)"
   ]
  },
  {
   "cell_type": "code",
   "execution_count": 43,
   "id": "dbee2488",
   "metadata": {
    "execution": {
     "iopub.execute_input": "2022-04-18T21:54:49.290991Z",
     "iopub.status.busy": "2022-04-18T21:54:49.290486Z",
     "iopub.status.idle": "2022-04-18T21:54:49.295371Z",
     "shell.execute_reply": "2022-04-18T21:54:49.294697Z"
    }
   },
   "outputs": [
    {
     "data": {
      "text/plain": [
       "0.8438539587324921"
      ]
     },
     "execution_count": 43,
     "metadata": {},
     "output_type": "execute_result"
    }
   ],
   "source": [
    "np.cos(12.0)"
   ]
  },
  {
   "cell_type": "code",
   "execution_count": 44,
   "id": "0dba672e",
   "metadata": {
    "execution": {
     "iopub.execute_input": "2022-04-18T21:54:49.298725Z",
     "iopub.status.busy": "2022-04-18T21:54:49.298433Z",
     "iopub.status.idle": "2022-04-18T21:54:49.303137Z",
     "shell.execute_reply": "2022-04-18T21:54:49.302673Z"
    }
   },
   "outputs": [
    {
     "name": "stderr",
     "output_type": "stream",
     "text": [
      "/tmp/ipykernel_2464/3139199006.py:1: DeprecationWarning: scipy.cos is deprecated and will be removed in SciPy 2.0.0, use numpy.cos instead\n",
      "  sp.cos(12.0)\n"
     ]
    },
    {
     "data": {
      "text/plain": [
       "0.8438539587324921"
      ]
     },
     "execution_count": 44,
     "metadata": {},
     "output_type": "execute_result"
    }
   ],
   "source": [
    "sp.cos(12.0)"
   ]
  }
 ],
 "metadata": {
  "kernelspec": {
   "display_name": "Python 3 (ipykernel)",
   "language": "python",
   "name": "python3"
  },
  "language_info": {
   "codemirror_mode": {
    "name": "ipython",
    "version": 3
   },
   "file_extension": ".py",
   "mimetype": "text/x-python",
   "name": "python",
   "nbconvert_exporter": "python",
   "pygments_lexer": "ipython3",
   "version": "3.9.12"
  }
 },
 "nbformat": 4,
 "nbformat_minor": 5
}