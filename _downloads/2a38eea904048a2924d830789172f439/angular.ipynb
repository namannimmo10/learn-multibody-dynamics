{
 "cells": [
  {
   "cell_type": "code",
   "execution_count": 1,
   "id": "d990c727",
   "metadata": {
    "execution": {
     "iopub.execute_input": "2022-04-18T21:54:15.725882Z",
     "iopub.status.busy": "2022-04-18T21:54:15.725457Z",
     "iopub.status.idle": "2022-04-18T21:54:16.417483Z",
     "shell.execute_reply": "2022-04-18T21:54:16.416187Z"
    }
   },
   "outputs": [],
   "source": [
    "import sympy as sm\n",
    "import sympy.physics.mechanics as me\n",
    "me.init_vprinting(use_latex='mathjax')"
   ]
  },
  {
   "cell_type": "code",
   "execution_count": 2,
   "id": "120009e8",
   "metadata": {
    "execution": {
     "iopub.execute_input": "2022-04-18T21:54:16.421432Z",
     "iopub.status.busy": "2022-04-18T21:54:16.421080Z",
     "iopub.status.idle": "2022-04-18T21:54:16.430376Z",
     "shell.execute_reply": "2022-04-18T21:54:16.429788Z"
    }
   },
   "outputs": [],
   "source": [
    "cxx, cyy, czz = me.dynamicsymbols('c_{xx}, c_{yy}, c_{zz}')\n",
    "cxy, cxz, cyx = me.dynamicsymbols('c_{xy}, c_{xz}, c_{yx}')\n",
    "cyz, czx, czy = me.dynamicsymbols('c_{yz}, c_{zx}, c_{zy}')\n",
    "\n",
    "B_C_A = sm.Matrix([[cxx, cxy, cxz],\n",
    "                   [cyx, cyy, cyz],\n",
    "                   [czx, czy, czz]])"
   ]
  },
  {
   "cell_type": "code",
   "execution_count": 3,
   "id": "f7649fd5",
   "metadata": {
    "execution": {
     "iopub.execute_input": "2022-04-18T21:54:16.433452Z",
     "iopub.status.busy": "2022-04-18T21:54:16.432971Z",
     "iopub.status.idle": "2022-04-18T21:54:16.472593Z",
     "shell.execute_reply": "2022-04-18T21:54:16.471889Z"
    }
   },
   "outputs": [
    {
     "data": {
      "text/latex": [
       "$\\displaystyle \\left[\\begin{matrix}c_{xx} & c_{xy} & c_{xz}\\\\c_{yx} & c_{yy} & c_{yz}\\\\c_{zx} & c_{zy} & c_{zz}\\end{matrix}\\right]$"
      ],
      "text/plain": [
       "⎡c_{xx}  c_{xy}  c_{xz}⎤\n",
       "⎢                      ⎥\n",
       "⎢c_{yx}  c_{yy}  c_{yz}⎥\n",
       "⎢                      ⎥\n",
       "⎣c_{zx}  c_{zy}  c_{zz}⎦"
      ]
     },
     "execution_count": 3,
     "metadata": {},
     "output_type": "execute_result"
    }
   ],
   "source": [
    "A = me.ReferenceFrame('A')\n",
    "B = me.ReferenceFrame('B')\n",
    "B.orient_explicit(A, B_C_A.transpose())\n",
    "B.dcm(A)"
   ]
  },
  {
   "cell_type": "code",
   "execution_count": 4,
   "id": "41fca293",
   "metadata": {
    "execution": {
     "iopub.execute_input": "2022-04-18T21:54:16.478235Z",
     "iopub.status.busy": "2022-04-18T21:54:16.477762Z",
     "iopub.status.idle": "2022-04-18T21:54:16.486079Z",
     "shell.execute_reply": "2022-04-18T21:54:16.485630Z"
    }
   },
   "outputs": [
    {
     "data": {
      "text/latex": [
       "$\\displaystyle c_{xx}\\mathbf{\\hat{a}_x} + c_{xy}\\mathbf{\\hat{a}_y} + c_{xz}\\mathbf{\\hat{a}_z}$"
      ],
      "text/plain": [
       "c_{xx} a_x + c_{xy} a_y + c_{xz} a_z"
      ]
     },
     "execution_count": 4,
     "metadata": {},
     "output_type": "execute_result"
    }
   ],
   "source": [
    "B.x.express(A)"
   ]
  },
  {
   "cell_type": "code",
   "execution_count": 5,
   "id": "84c5a4b3",
   "metadata": {
    "execution": {
     "iopub.execute_input": "2022-04-18T21:54:16.489306Z",
     "iopub.status.busy": "2022-04-18T21:54:16.488433Z",
     "iopub.status.idle": "2022-04-18T21:54:16.498353Z",
     "shell.execute_reply": "2022-04-18T21:54:16.497684Z"
    }
   },
   "outputs": [
    {
     "data": {
      "text/latex": [
       "$\\displaystyle c_{yx}\\mathbf{\\hat{a}_x} + c_{yy}\\mathbf{\\hat{a}_y} + c_{yz}\\mathbf{\\hat{a}_z}$"
      ],
      "text/plain": [
       "c_{yx} a_x + c_{yy} a_y + c_{yz} a_z"
      ]
     },
     "execution_count": 5,
     "metadata": {},
     "output_type": "execute_result"
    }
   ],
   "source": [
    "B.y.express(A)"
   ]
  },
  {
   "cell_type": "code",
   "execution_count": 6,
   "id": "1c56a749",
   "metadata": {
    "execution": {
     "iopub.execute_input": "2022-04-18T21:54:16.502157Z",
     "iopub.status.busy": "2022-04-18T21:54:16.501368Z",
     "iopub.status.idle": "2022-04-18T21:54:16.507685Z",
     "shell.execute_reply": "2022-04-18T21:54:16.506946Z"
    }
   },
   "outputs": [
    {
     "data": {
      "text/latex": [
       "$\\displaystyle c_{zx}\\mathbf{\\hat{a}_x} + c_{zy}\\mathbf{\\hat{a}_y} + c_{zz}\\mathbf{\\hat{a}_z}$"
      ],
      "text/plain": [
       "c_{zx} a_x + c_{zy} a_y + c_{zz} a_z"
      ]
     },
     "execution_count": 6,
     "metadata": {},
     "output_type": "execute_result"
    }
   ],
   "source": [
    "B.z.express(A)"
   ]
  },
  {
   "cell_type": "code",
   "execution_count": 7,
   "id": "03d0d0b0",
   "metadata": {
    "execution": {
     "iopub.execute_input": "2022-04-18T21:54:16.510762Z",
     "iopub.status.busy": "2022-04-18T21:54:16.510303Z",
     "iopub.status.idle": "2022-04-18T21:54:16.523134Z",
     "shell.execute_reply": "2022-04-18T21:54:16.522550Z"
    }
   },
   "outputs": [
    {
     "data": {
      "text/latex": [
       "$\\displaystyle \\dot{c}_{yx}\\mathbf{\\hat{a}_x} + \\dot{c}_{yy}\\mathbf{\\hat{a}_y} + \\dot{c}_{yz}\\mathbf{\\hat{a}_z}$"
      ],
      "text/plain": [
       "c_{ẏx} a_x + c_{ẏy} a_y + c_{ẏz} a_z"
      ]
     },
     "execution_count": 7,
     "metadata": {},
     "output_type": "execute_result"
    }
   ],
   "source": [
    "B.y.express(A).dt(A)"
   ]
  },
  {
   "cell_type": "code",
   "execution_count": 8,
   "id": "3d4541aa",
   "metadata": {
    "execution": {
     "iopub.execute_input": "2022-04-18T21:54:16.526080Z",
     "iopub.status.busy": "2022-04-18T21:54:16.525758Z",
     "iopub.status.idle": "2022-04-18T21:54:16.542040Z",
     "shell.execute_reply": "2022-04-18T21:54:16.541406Z"
    }
   },
   "outputs": [
    {
     "data": {
      "text/latex": [
       "$\\displaystyle c_{zx} \\dot{c}_{yx} + c_{zy} \\dot{c}_{yy} + c_{zz} \\dot{c}_{yz}$"
      ],
      "text/plain": [
       "c_{zx}⋅c_{ẏx} + c_{zy}⋅c_{ẏy} + c_{zz}⋅c_{ẏz}"
      ]
     },
     "execution_count": 8,
     "metadata": {},
     "output_type": "execute_result"
    }
   ],
   "source": [
    "mnx = me.dot(B.y.express(A).dt(A), B.z)\n",
    "mnx"
   ]
  },
  {
   "cell_type": "code",
   "execution_count": 9,
   "id": "b47a4097",
   "metadata": {
    "execution": {
     "iopub.execute_input": "2022-04-18T21:54:16.545252Z",
     "iopub.status.busy": "2022-04-18T21:54:16.544894Z",
     "iopub.status.idle": "2022-04-18T21:54:16.558613Z",
     "shell.execute_reply": "2022-04-18T21:54:16.557796Z"
    }
   },
   "outputs": [
    {
     "data": {
      "text/latex": [
       "$\\displaystyle c_{xx} \\dot{c}_{zx} + c_{xy} \\dot{c}_{zy} + c_{xz} \\dot{c}_{zz}$"
      ],
      "text/plain": [
       "c_{xx}⋅c_{żx} + c_{xy}⋅c_{ży} + c_{xz}⋅c_{żz}"
      ]
     },
     "execution_count": 9,
     "metadata": {},
     "output_type": "execute_result"
    }
   ],
   "source": [
    "mny = me.dot(B.z.express(A).dt(A), B.x)\n",
    "mny"
   ]
  },
  {
   "cell_type": "code",
   "execution_count": 10,
   "id": "f11b53be",
   "metadata": {
    "execution": {
     "iopub.execute_input": "2022-04-18T21:54:16.562453Z",
     "iopub.status.busy": "2022-04-18T21:54:16.561877Z",
     "iopub.status.idle": "2022-04-18T21:54:16.576270Z",
     "shell.execute_reply": "2022-04-18T21:54:16.575695Z"
    }
   },
   "outputs": [
    {
     "data": {
      "text/latex": [
       "$\\displaystyle c_{yx} \\dot{c}_{xx} + c_{yy} \\dot{c}_{xy} + c_{yz} \\dot{c}_{xz}$"
      ],
      "text/plain": [
       "c_{yx}⋅c_{ẋx} + c_{yy}⋅c_{ẋy} + c_{yz}⋅c_{ẋz}"
      ]
     },
     "execution_count": 10,
     "metadata": {},
     "output_type": "execute_result"
    }
   ],
   "source": [
    "mnz = me.dot(B.x.express(A).dt(A), B.y)\n",
    "mnz"
   ]
  },
  {
   "cell_type": "code",
   "execution_count": 11,
   "id": "99a25256",
   "metadata": {
    "execution": {
     "iopub.execute_input": "2022-04-18T21:54:16.578999Z",
     "iopub.status.busy": "2022-04-18T21:54:16.578814Z",
     "iopub.status.idle": "2022-04-18T21:54:16.602796Z",
     "shell.execute_reply": "2022-04-18T21:54:16.602286Z"
    }
   },
   "outputs": [
    {
     "data": {
      "text/latex": [
       "$\\displaystyle (c_{zx} \\dot{c}_{yx} + c_{zy} \\dot{c}_{yy} + c_{zz} \\dot{c}_{yz})\\mathbf{\\hat{b}_x} + (c_{xx} \\dot{c}_{zx} + c_{xy} \\dot{c}_{zy} + c_{xz} \\dot{c}_{zz})\\mathbf{\\hat{b}_y} + (c_{yx} \\dot{c}_{xx} + c_{yy} \\dot{c}_{xy} + c_{yz} \\dot{c}_{xz})\\mathbf{\\hat{b}_z}$"
      ],
      "text/plain": [
       "(c_{zx}⋅c_{ẏx} + c_{zy}⋅c_{ẏy} + c_{zz}⋅c_{ẏz}) b_x + (c_{xx}⋅c_{żx} + c_{\n",
       "xy}⋅c_{ży} + c_{xz}⋅c_{żz}) b_y + (c_{yx}⋅c_{ẋx} + c_{yy}⋅c_{ẋy} + c_{yz}⋅\n",
       "c_{ẋz}) b_z"
      ]
     },
     "execution_count": 11,
     "metadata": {},
     "output_type": "execute_result"
    }
   ],
   "source": [
    "A_w_B = mnx*B.x + mny*B.y + mnz*B.z\n",
    "A_w_B"
   ]
  },
  {
   "cell_type": "code",
   "execution_count": 12,
   "id": "6d89e6f8",
   "metadata": {
    "execution": {
     "iopub.execute_input": "2022-04-18T21:54:16.608062Z",
     "iopub.status.busy": "2022-04-18T21:54:16.607859Z",
     "iopub.status.idle": "2022-04-18T21:54:16.620391Z",
     "shell.execute_reply": "2022-04-18T21:54:16.619834Z"
    }
   },
   "outputs": [
    {
     "data": {
      "text/latex": [
       "$\\displaystyle \\left[\\begin{matrix}\\cos{\\left(\\theta \\right)} & \\sin{\\left(\\theta \\right)} & 0\\\\- \\sin{\\left(\\theta \\right)} & \\cos{\\left(\\theta \\right)} & 0\\\\0 & 0 & 1\\end{matrix}\\right]$"
      ],
      "text/plain": [
       "⎡cos(θ)   sin(θ)  0⎤\n",
       "⎢                  ⎥\n",
       "⎢-sin(θ)  cos(θ)  0⎥\n",
       "⎢                  ⎥\n",
       "⎣   0       0     1⎦"
      ]
     },
     "execution_count": 12,
     "metadata": {},
     "output_type": "execute_result"
    }
   ],
   "source": [
    "theta = me.dynamicsymbols('theta')\n",
    "\n",
    "B_C_A = sm.Matrix([[sm.cos(theta), sm.sin(theta), 0],\n",
    "                   [-sm.sin(theta), sm.cos(theta), 0],\n",
    "                   [0, 0, 1]])\n",
    "B_C_A"
   ]
  },
  {
   "cell_type": "code",
   "execution_count": 13,
   "id": "0965722c",
   "metadata": {
    "execution": {
     "iopub.execute_input": "2022-04-18T21:54:16.623016Z",
     "iopub.status.busy": "2022-04-18T21:54:16.622825Z",
     "iopub.status.idle": "2022-04-18T21:54:16.774704Z",
     "shell.execute_reply": "2022-04-18T21:54:16.773954Z"
    }
   },
   "outputs": [
    {
     "data": {
      "text/latex": [
       "$\\displaystyle \\dot{\\theta}\\mathbf{\\hat{b}_z}$"
      ],
      "text/plain": [
       "θ̇ b_z"
      ]
     },
     "execution_count": 13,
     "metadata": {},
     "output_type": "execute_result"
    }
   ],
   "source": [
    "A = me.ReferenceFrame('A')\n",
    "B = me.ReferenceFrame('B')\n",
    "A.orient_explicit(B, B_C_A)\n",
    "\n",
    "mnx = me.dot(B.y.express(A).dt(A), B.z)\n",
    "mny = me.dot(B.z.express(A).dt(A), B.x)\n",
    "mnz = me.dot(B.x.express(A).dt(A), B.y)\n",
    "\n",
    "A_w_B = mnx*B.x + mny*B.y + mnz*B.z\n",
    "A_w_B.simplify()"
   ]
  },
  {
   "cell_type": "code",
   "execution_count": 14,
   "id": "09ca74ce",
   "metadata": {
    "execution": {
     "iopub.execute_input": "2022-04-18T21:54:16.778196Z",
     "iopub.status.busy": "2022-04-18T21:54:16.777799Z",
     "iopub.status.idle": "2022-04-18T21:54:16.790892Z",
     "shell.execute_reply": "2022-04-18T21:54:16.790269Z"
    }
   },
   "outputs": [
    {
     "data": {
      "text/latex": [
       "$\\displaystyle \\dot{\\theta}\\mathbf{\\hat{a}_z}$"
      ],
      "text/plain": [
       "θ̇ a_z"
      ]
     },
     "execution_count": 14,
     "metadata": {},
     "output_type": "execute_result"
    }
   ],
   "source": [
    "A = me.ReferenceFrame('A')\n",
    "B = me.ReferenceFrame('B')\n",
    "B.orient_axis(A, theta, A.z)\n",
    "B.ang_vel_in(A)"
   ]
  },
  {
   "cell_type": "code",
   "execution_count": 15,
   "id": "e1b1004f",
   "metadata": {
    "execution": {
     "iopub.execute_input": "2022-04-18T21:54:16.793768Z",
     "iopub.status.busy": "2022-04-18T21:54:16.793344Z",
     "iopub.status.idle": "2022-04-18T21:54:16.808744Z",
     "shell.execute_reply": "2022-04-18T21:54:16.808148Z"
    }
   },
   "outputs": [
    {
     "data": {
      "text/latex": [
       "$\\displaystyle \\frac{\\sqrt{2} \\dot{\\theta}}{2}\\mathbf{\\hat{a}_x} + \\frac{\\sqrt{2} \\dot{\\theta}}{2}\\mathbf{\\hat{a}_y}$"
      ],
      "text/plain": [
       "√2⋅θ̇       √2⋅θ̇\n",
       "──── a_x + ──── a_y\n",
       " 2          2"
      ]
     },
     "execution_count": 15,
     "metadata": {},
     "output_type": "execute_result"
    }
   ],
   "source": [
    "theta = me.dynamicsymbols('theta')\n",
    "\n",
    "A = me.ReferenceFrame('A')\n",
    "B = me.ReferenceFrame('B')\n",
    "B.orient_axis(A, theta, A.x + A.y)\n",
    "B.ang_vel_in(A)"
   ]
  },
  {
   "cell_type": "code",
   "execution_count": 16,
   "id": "bcad2032",
   "metadata": {
    "execution": {
     "iopub.execute_input": "2022-04-18T21:54:16.812032Z",
     "iopub.status.busy": "2022-04-18T21:54:16.811844Z",
     "iopub.status.idle": "2022-04-18T21:54:16.834053Z",
     "shell.execute_reply": "2022-04-18T21:54:16.833100Z"
    }
   },
   "outputs": [
    {
     "data": {
      "text/latex": [
       "$\\displaystyle \\sqrt{\\dot{\\theta}^{2}}$"
      ],
      "text/plain": [
       "   ____\n",
       "  ╱  2 \n",
       "╲╱ θ̇  "
      ]
     },
     "execution_count": 16,
     "metadata": {},
     "output_type": "execute_result"
    }
   ],
   "source": [
    "B.ang_vel_in(A).magnitude()"
   ]
  },
  {
   "cell_type": "code",
   "execution_count": 17,
   "id": "2abdcb3a",
   "metadata": {
    "execution": {
     "iopub.execute_input": "2022-04-18T21:54:16.836937Z",
     "iopub.status.busy": "2022-04-18T21:54:16.836737Z",
     "iopub.status.idle": "2022-04-18T21:54:21.686231Z",
     "shell.execute_reply": "2022-04-18T21:54:21.685557Z"
    }
   },
   "outputs": [
    {
     "data": {
      "text/latex": [
       "$\\displaystyle (\\sin{\\left(\\theta \\right)} \\sin{\\left(\\varphi \\right)} \\dot{\\psi} + \\cos{\\left(\\varphi \\right)} \\dot{\\theta})\\mathbf{\\hat{b}_x} + (\\sin{\\left(\\theta \\right)} \\cos{\\left(\\varphi \\right)} \\dot{\\psi} - \\sin{\\left(\\varphi \\right)} \\dot{\\theta})\\mathbf{\\hat{b}_y} + (\\cos{\\left(\\theta \\right)} \\dot{\\psi} + \\dot{\\varphi})\\mathbf{\\hat{b}_z}$"
      ],
      "text/plain": [
       "(sin(θ)⋅sin(varphi)⋅ψ̇ + cos(varphi)⋅θ̇) b_x + (sin(θ)⋅cos(varphi)⋅ψ̇ - sin(va\n",
       "rphi)⋅θ̇) b_y + (cos(θ)⋅ψ̇ + varṗhi) b_z"
      ]
     },
     "execution_count": 17,
     "metadata": {},
     "output_type": "execute_result"
    }
   ],
   "source": [
    "psi, theta, phi = me.dynamicsymbols('psi, theta, varphi')\n",
    "\n",
    "A = me.ReferenceFrame('A')\n",
    "B = me.ReferenceFrame('B')\n",
    "B.orient_body_fixed(A, (psi, theta, phi), 'ZXZ')\n",
    "\n",
    "mnx = me.dot(B.y.express(A).dt(A), B.z)\n",
    "mny = me.dot(B.z.express(A).dt(A), B.x)\n",
    "mnz = me.dot(B.x.express(A).dt(A), B.y)\n",
    "\n",
    "A_w_B = mnx*B.x + mny*B.y + mnz*B.z\n",
    "A_w_B.simplify()"
   ]
  },
  {
   "cell_type": "code",
   "execution_count": 18,
   "id": "5ecf989d",
   "metadata": {
    "execution": {
     "iopub.execute_input": "2022-04-18T21:54:21.689914Z",
     "iopub.status.busy": "2022-04-18T21:54:21.689232Z",
     "iopub.status.idle": "2022-04-18T21:54:22.099223Z",
     "shell.execute_reply": "2022-04-18T21:54:22.098464Z"
    }
   },
   "outputs": [
    {
     "data": {
      "text/latex": [
       "$\\displaystyle (\\sin{\\left(\\theta \\right)} \\sin{\\left(\\varphi \\right)} \\dot{\\psi} + \\cos{\\left(\\varphi \\right)} \\dot{\\theta})\\mathbf{\\hat{b}_x} + (\\sin{\\left(\\theta \\right)} \\cos{\\left(\\varphi \\right)} \\dot{\\psi} - \\sin{\\left(\\varphi \\right)} \\dot{\\theta})\\mathbf{\\hat{b}_y} + (\\cos{\\left(\\theta \\right)} \\dot{\\psi} + \\dot{\\varphi})\\mathbf{\\hat{b}_z}$"
      ],
      "text/plain": [
       "(sin(θ)⋅sin(varphi)⋅ψ̇ + cos(varphi)⋅θ̇) b_x + (sin(θ)⋅cos(varphi)⋅ψ̇ - sin(va\n",
       "rphi)⋅θ̇) b_y + (cos(θ)⋅ψ̇ + varṗhi) b_z"
      ]
     },
     "execution_count": 18,
     "metadata": {},
     "output_type": "execute_result"
    }
   ],
   "source": [
    "B.ang_vel_in(A).simplify()"
   ]
  },
  {
   "cell_type": "code",
   "execution_count": 19,
   "id": "37a10269",
   "metadata": {
    "execution": {
     "iopub.execute_input": "2022-04-18T21:54:22.102604Z",
     "iopub.status.busy": "2022-04-18T21:54:22.102169Z",
     "iopub.status.idle": "2022-04-18T21:54:22.146924Z",
     "shell.execute_reply": "2022-04-18T21:54:22.146070Z"
    }
   },
   "outputs": [
    {
     "data": {
      "text/latex": [
       "$\\displaystyle u_{1}\\mathbf{\\hat{b}_x} + u_{2}\\mathbf{\\hat{b}_y} + u_{3}\\mathbf{\\hat{b}_z}$"
      ],
      "text/plain": [
       "u₁ b_x + u₂ b_y + u₃ b_z"
      ]
     },
     "execution_count": 19,
     "metadata": {},
     "output_type": "execute_result"
    }
   ],
   "source": [
    "A = me.ReferenceFrame('A')\n",
    "B = me.ReferenceFrame('B')\n",
    "B.orient_body_fixed(A, (psi, theta, 0), 'ZXZ')\n",
    "\n",
    "u1, u2, u3 = me.dynamicsymbols('u1, u2, u3')\n",
    "\n",
    "u = u1*B.x + u2*B.y + u3*B.z\n",
    "u"
   ]
  },
  {
   "cell_type": "code",
   "execution_count": 20,
   "id": "e3e40005",
   "metadata": {
    "execution": {
     "iopub.execute_input": "2022-04-18T21:54:22.151398Z",
     "iopub.status.busy": "2022-04-18T21:54:22.151211Z",
     "iopub.status.idle": "2022-04-18T21:54:22.169279Z",
     "shell.execute_reply": "2022-04-18T21:54:22.168629Z"
    }
   },
   "outputs": [
    {
     "data": {
      "text/latex": [
       "$\\displaystyle (u_{1} \\cos{\\left(\\psi \\right)} - u_{2} \\sin{\\left(\\psi \\right)} \\cos{\\left(\\theta \\right)} + u_{3} \\sin{\\left(\\psi \\right)} \\sin{\\left(\\theta \\right)})\\mathbf{\\hat{a}_x} + (u_{1} \\sin{\\left(\\psi \\right)} + u_{2} \\cos{\\left(\\psi \\right)} \\cos{\\left(\\theta \\right)} - u_{3} \\sin{\\left(\\theta \\right)} \\cos{\\left(\\psi \\right)})\\mathbf{\\hat{a}_y} + (u_{2} \\sin{\\left(\\theta \\right)} + u_{3} \\cos{\\left(\\theta \\right)})\\mathbf{\\hat{a}_z}$"
      ],
      "text/plain": [
       "(u₁⋅cos(ψ) - u₂⋅sin(ψ)⋅cos(θ) + u₃⋅sin(ψ)⋅sin(θ)) a_x + (u₁⋅sin(ψ) + u₂⋅cos(ψ)\n",
       "⋅cos(θ) - u₃⋅sin(θ)⋅cos(ψ)) a_y + (u₂⋅sin(θ) + u₃⋅cos(θ)) a_z"
      ]
     },
     "execution_count": 20,
     "metadata": {},
     "output_type": "execute_result"
    }
   ],
   "source": [
    "u.express(A)"
   ]
  },
  {
   "cell_type": "code",
   "execution_count": 21,
   "id": "0b771474",
   "metadata": {
    "execution": {
     "iopub.execute_input": "2022-04-18T21:54:22.172995Z",
     "iopub.status.busy": "2022-04-18T21:54:22.172511Z",
     "iopub.status.idle": "2022-04-18T21:54:22.263042Z",
     "shell.execute_reply": "2022-04-18T21:54:22.262226Z"
    }
   },
   "outputs": [
    {
     "data": {
      "text/latex": [
       "$\\displaystyle (- u_{1} \\sin{\\left(\\psi \\right)} \\dot{\\psi} + u_{2} \\sin{\\left(\\psi \\right)} \\sin{\\left(\\theta \\right)} \\dot{\\theta} - u_{2} \\cos{\\left(\\psi \\right)} \\cos{\\left(\\theta \\right)} \\dot{\\psi} + u_{3} \\sin{\\left(\\psi \\right)} \\cos{\\left(\\theta \\right)} \\dot{\\theta} + u_{3} \\sin{\\left(\\theta \\right)} \\cos{\\left(\\psi \\right)} \\dot{\\psi} + \\sin{\\left(\\psi \\right)} \\sin{\\left(\\theta \\right)} \\dot{u}_{3} - \\sin{\\left(\\psi \\right)} \\cos{\\left(\\theta \\right)} \\dot{u}_{2} + \\cos{\\left(\\psi \\right)} \\dot{u}_{1})\\mathbf{\\hat{a}_x} + (u_{1} \\cos{\\left(\\psi \\right)} \\dot{\\psi} - u_{2} \\sin{\\left(\\psi \\right)} \\cos{\\left(\\theta \\right)} \\dot{\\psi} - u_{2} \\sin{\\left(\\theta \\right)} \\cos{\\left(\\psi \\right)} \\dot{\\theta} + u_{3} \\sin{\\left(\\psi \\right)} \\sin{\\left(\\theta \\right)} \\dot{\\psi} - u_{3} \\cos{\\left(\\psi \\right)} \\cos{\\left(\\theta \\right)} \\dot{\\theta} + \\sin{\\left(\\psi \\right)} \\dot{u}_{1} - \\sin{\\left(\\theta \\right)} \\cos{\\left(\\psi \\right)} \\dot{u}_{3} + \\cos{\\left(\\psi \\right)} \\cos{\\left(\\theta \\right)} \\dot{u}_{2})\\mathbf{\\hat{a}_y} + (u_{2} \\cos{\\left(\\theta \\right)} \\dot{\\theta} - u_{3} \\sin{\\left(\\theta \\right)} \\dot{\\theta} + \\sin{\\left(\\theta \\right)} \\dot{u}_{2} + \\cos{\\left(\\theta \\right)} \\dot{u}_{3})\\mathbf{\\hat{a}_z}$"
      ],
      "text/plain": [
       "(-u₁⋅sin(ψ)⋅ψ̇ + u₂⋅sin(ψ)⋅sin(θ)⋅θ̇ - u₂⋅cos(ψ)⋅cos(θ)⋅ψ̇ + u₃⋅sin(ψ)⋅cos(θ)⋅\n",
       "θ̇ + u₃⋅sin(θ)⋅cos(ψ)⋅ψ̇ + sin(ψ)⋅sin(θ)⋅u₃̇ - sin(ψ)⋅cos(θ)⋅u₂̇ + cos(ψ)⋅u₁̇)\n",
       " a_x + (u₁⋅cos(ψ)⋅ψ̇ - u₂⋅sin(ψ)⋅cos(θ)⋅ψ̇ - u₂⋅sin(θ)⋅cos(ψ)⋅θ̇ + u₃⋅sin(ψ)⋅s\n",
       "in(θ)⋅ψ̇ - u₃⋅cos(ψ)⋅cos(θ)⋅θ̇ + sin(ψ)⋅u₁̇ - sin(θ)⋅cos(ψ)⋅u₃̇ + cos(ψ)⋅cos(θ\n",
       ")⋅u₂̇) a_y + (u₂⋅cos(θ)⋅θ̇ - u₃⋅sin(θ)⋅θ̇ + sin(θ)⋅u₂̇ + cos(θ)⋅u₃̇) a_z"
      ]
     },
     "execution_count": 21,
     "metadata": {},
     "output_type": "execute_result"
    }
   ],
   "source": [
    "u.express(A).dt(A)"
   ]
  },
  {
   "cell_type": "code",
   "execution_count": 22,
   "id": "aeacc570",
   "metadata": {
    "execution": {
     "iopub.execute_input": "2022-04-18T21:54:22.267803Z",
     "iopub.status.busy": "2022-04-18T21:54:22.267260Z",
     "iopub.status.idle": "2022-04-18T21:54:22.276405Z",
     "shell.execute_reply": "2022-04-18T21:54:22.275601Z"
    }
   },
   "outputs": [
    {
     "data": {
      "text/latex": [
       "$\\displaystyle \\dot{u}_{1}\\mathbf{\\hat{b}_x} + \\dot{u}_{2}\\mathbf{\\hat{b}_y} + \\dot{u}_{3}\\mathbf{\\hat{b}_z}$"
      ],
      "text/plain": [
       "u₁̇ b_x + u₂̇ b_y + u₃̇ b_z"
      ]
     },
     "execution_count": 22,
     "metadata": {},
     "output_type": "execute_result"
    }
   ],
   "source": [
    "u.dt(B)"
   ]
  },
  {
   "cell_type": "code",
   "execution_count": 23,
   "id": "941c1e3c",
   "metadata": {
    "execution": {
     "iopub.execute_input": "2022-04-18T21:54:22.279983Z",
     "iopub.status.busy": "2022-04-18T21:54:22.279497Z",
     "iopub.status.idle": "2022-04-18T21:54:22.287160Z",
     "shell.execute_reply": "2022-04-18T21:54:22.286546Z"
    }
   },
   "outputs": [
    {
     "data": {
      "text/latex": [
       "$\\displaystyle \\dot{\\theta}\\mathbf{\\hat{b}_x} + \\sin{\\left(\\theta \\right)} \\dot{\\psi}\\mathbf{\\hat{b}_y} + \\cos{\\left(\\theta \\right)} \\dot{\\psi}\\mathbf{\\hat{b}_z}$"
      ],
      "text/plain": [
       "θ̇ b_x + sin(θ)⋅ψ̇ b_y + cos(θ)⋅ψ̇ b_z"
      ]
     },
     "execution_count": 23,
     "metadata": {},
     "output_type": "execute_result"
    }
   ],
   "source": [
    "A_w_B = B.ang_vel_in(A)\n",
    "A_w_B"
   ]
  },
  {
   "cell_type": "code",
   "execution_count": 24,
   "id": "26341bd6",
   "metadata": {
    "execution": {
     "iopub.execute_input": "2022-04-18T21:54:22.290714Z",
     "iopub.status.busy": "2022-04-18T21:54:22.290248Z",
     "iopub.status.idle": "2022-04-18T21:54:22.313137Z",
     "shell.execute_reply": "2022-04-18T21:54:22.312508Z"
    }
   },
   "outputs": [
    {
     "data": {
      "text/latex": [
       "$\\displaystyle (- u_{2} \\cos{\\left(\\theta \\right)} \\dot{\\psi} + u_{3} \\sin{\\left(\\theta \\right)} \\dot{\\psi} + \\dot{u}_{1})\\mathbf{\\hat{b}_x} + (u_{1} \\cos{\\left(\\theta \\right)} \\dot{\\psi} - u_{3} \\dot{\\theta} + \\dot{u}_{2})\\mathbf{\\hat{b}_y} + (- u_{1} \\sin{\\left(\\theta \\right)} \\dot{\\psi} + u_{2} \\dot{\\theta} + \\dot{u}_{3})\\mathbf{\\hat{b}_z}$"
      ],
      "text/plain": [
       "(-u₂⋅cos(θ)⋅ψ̇ + u₃⋅sin(θ)⋅ψ̇ + u₁̇) b_x + (u₁⋅cos(θ)⋅ψ̇ - u₃⋅θ̇ + u₂̇) b_y +\n",
       "(-u₁⋅sin(θ)⋅ψ̇ + u₂⋅θ̇ + u₃̇) b_z"
      ]
     },
     "execution_count": 24,
     "metadata": {},
     "output_type": "execute_result"
    }
   ],
   "source": [
    "u.dt(B) + me.cross(A_w_B, u)"
   ]
  },
  {
   "cell_type": "code",
   "execution_count": 25,
   "id": "dfc6a1e0",
   "metadata": {
    "execution": {
     "iopub.execute_input": "2022-04-18T21:54:22.316498Z",
     "iopub.status.busy": "2022-04-18T21:54:22.315750Z",
     "iopub.status.idle": "2022-04-18T21:54:25.568624Z",
     "shell.execute_reply": "2022-04-18T21:54:25.568017Z"
    }
   },
   "outputs": [
    {
     "data": {
      "text/latex": [
       "$\\displaystyle (- u_{2} \\cos{\\left(\\theta \\right)} \\dot{\\psi} + u_{3} \\sin{\\left(\\theta \\right)} \\dot{\\psi} + \\dot{u}_{1})\\mathbf{\\hat{b}_x} + (u_{1} \\cos{\\left(\\theta \\right)} \\dot{\\psi} - u_{3} \\dot{\\theta} + \\dot{u}_{2})\\mathbf{\\hat{b}_y} + (- u_{1} \\sin{\\left(\\theta \\right)} \\dot{\\psi} + u_{2} \\dot{\\theta} + \\dot{u}_{3})\\mathbf{\\hat{b}_z}$"
      ],
      "text/plain": [
       "(-u₂⋅cos(θ)⋅ψ̇ + u₃⋅sin(θ)⋅ψ̇ + u₁̇) b_x + (u₁⋅cos(θ)⋅ψ̇ - u₃⋅θ̇ + u₂̇) b_y +\n",
       "(-u₁⋅sin(θ)⋅ψ̇ + u₂⋅θ̇ + u₃̇) b_z"
      ]
     },
     "execution_count": 25,
     "metadata": {},
     "output_type": "execute_result"
    }
   ],
   "source": [
    "u.express(A).dt(A).express(B).simplify()"
   ]
  },
  {
   "cell_type": "code",
   "execution_count": 26,
   "id": "0191faf3",
   "metadata": {
    "execution": {
     "iopub.execute_input": "2022-04-18T21:54:25.572466Z",
     "iopub.status.busy": "2022-04-18T21:54:25.571978Z",
     "iopub.status.idle": "2022-04-18T21:54:25.589690Z",
     "shell.execute_reply": "2022-04-18T21:54:25.589179Z"
    }
   },
   "outputs": [],
   "source": [
    "psi, theta, phi = me.dynamicsymbols('psi, theta, varphi')\n",
    "\n",
    "A = me.ReferenceFrame('A')\n",
    "B = me.ReferenceFrame('B')\n",
    "C = me.ReferenceFrame('C')\n",
    "D = me.ReferenceFrame('D')\n",
    "\n",
    "B.orient_axis(A, psi, A.y)\n",
    "C.orient_axis(B, theta, B.x)\n",
    "D.orient_axis(C, phi, C.y)"
   ]
  },
  {
   "cell_type": "code",
   "execution_count": 27,
   "id": "853ab30b",
   "metadata": {
    "execution": {
     "iopub.execute_input": "2022-04-18T21:54:25.592502Z",
     "iopub.status.busy": "2022-04-18T21:54:25.591988Z",
     "iopub.status.idle": "2022-04-18T21:54:25.598413Z",
     "shell.execute_reply": "2022-04-18T21:54:25.597744Z"
    }
   },
   "outputs": [
    {
     "data": {
      "text/latex": [
       "$\\displaystyle \\dot{\\psi}\\mathbf{\\hat{a}_y}$"
      ],
      "text/plain": [
       "ψ̇ a_y"
      ]
     },
     "execution_count": 27,
     "metadata": {},
     "output_type": "execute_result"
    }
   ],
   "source": [
    "A_w_B = B.ang_vel_in(A)\n",
    "A_w_B"
   ]
  },
  {
   "cell_type": "code",
   "execution_count": 28,
   "id": "3fce0c54",
   "metadata": {
    "execution": {
     "iopub.execute_input": "2022-04-18T21:54:25.601557Z",
     "iopub.status.busy": "2022-04-18T21:54:25.601000Z",
     "iopub.status.idle": "2022-04-18T21:54:25.606571Z",
     "shell.execute_reply": "2022-04-18T21:54:25.605989Z"
    }
   },
   "outputs": [
    {
     "data": {
      "text/latex": [
       "$\\displaystyle \\dot{\\theta}\\mathbf{\\hat{b}_x}$"
      ],
      "text/plain": [
       "θ̇ b_x"
      ]
     },
     "execution_count": 28,
     "metadata": {},
     "output_type": "execute_result"
    }
   ],
   "source": [
    "B_w_C = C.ang_vel_in(B)\n",
    "B_w_C"
   ]
  },
  {
   "cell_type": "code",
   "execution_count": 29,
   "id": "93024fe9",
   "metadata": {
    "execution": {
     "iopub.execute_input": "2022-04-18T21:54:25.609763Z",
     "iopub.status.busy": "2022-04-18T21:54:25.609229Z",
     "iopub.status.idle": "2022-04-18T21:54:25.617114Z",
     "shell.execute_reply": "2022-04-18T21:54:25.616611Z"
    }
   },
   "outputs": [
    {
     "data": {
      "text/latex": [
       "$\\displaystyle \\dot{\\varphi}\\mathbf{\\hat{c}_y}$"
      ],
      "text/plain": [
       "varṗhi c_y"
      ]
     },
     "execution_count": 29,
     "metadata": {},
     "output_type": "execute_result"
    }
   ],
   "source": [
    "C_w_D = D.ang_vel_in(C)\n",
    "C_w_D"
   ]
  },
  {
   "cell_type": "code",
   "execution_count": 30,
   "id": "142512a9",
   "metadata": {
    "execution": {
     "iopub.execute_input": "2022-04-18T21:54:25.619918Z",
     "iopub.status.busy": "2022-04-18T21:54:25.619616Z",
     "iopub.status.idle": "2022-04-18T21:54:25.628442Z",
     "shell.execute_reply": "2022-04-18T21:54:25.627906Z"
    }
   },
   "outputs": [
    {
     "data": {
      "text/latex": [
       "$\\displaystyle \\dot{\\psi}\\mathbf{\\hat{a}_y} + \\dot{\\theta}\\mathbf{\\hat{b}_x} + \\dot{\\varphi}\\mathbf{\\hat{c}_y}$"
      ],
      "text/plain": [
       "ψ̇ a_y + θ̇ b_x + varṗhi c_y"
      ]
     },
     "execution_count": 30,
     "metadata": {},
     "output_type": "execute_result"
    }
   ],
   "source": [
    "A_w_D = A_w_B + B_w_C + C_w_D\n",
    "A_w_D"
   ]
  },
  {
   "cell_type": "code",
   "execution_count": 31,
   "id": "c498a31c",
   "metadata": {
    "execution": {
     "iopub.execute_input": "2022-04-18T21:54:25.632352Z",
     "iopub.status.busy": "2022-04-18T21:54:25.631210Z",
     "iopub.status.idle": "2022-04-18T21:54:26.163036Z",
     "shell.execute_reply": "2022-04-18T21:54:26.162337Z"
    }
   },
   "outputs": [
    {
     "data": {
      "text/latex": [
       "$\\displaystyle (\\sin{\\left(\\theta \\right)} \\sin{\\left(\\varphi \\right)} \\dot{\\psi} + \\cos{\\left(\\varphi \\right)} \\dot{\\theta})\\mathbf{\\hat{d}_x} + (\\cos{\\left(\\theta \\right)} \\dot{\\psi} + \\dot{\\varphi})\\mathbf{\\hat{d}_y} + (- \\sin{\\left(\\theta \\right)} \\cos{\\left(\\varphi \\right)} \\dot{\\psi} + \\sin{\\left(\\varphi \\right)} \\dot{\\theta})\\mathbf{\\hat{d}_z}$"
      ],
      "text/plain": [
       "(sin(θ)⋅sin(varphi)⋅ψ̇ + cos(varphi)⋅θ̇) d_x + (cos(θ)⋅ψ̇ + varṗhi) d_y + (-s\n",
       "in(θ)⋅cos(varphi)⋅ψ̇ + sin(varphi)⋅θ̇) d_z"
      ]
     },
     "execution_count": 31,
     "metadata": {},
     "output_type": "execute_result"
    }
   ],
   "source": [
    "A2 = me.ReferenceFrame('A')\n",
    "D2 = me.ReferenceFrame('D')\n",
    "D2.orient_body_fixed(A2, (psi, theta, phi), 'YXY')\n",
    "D2.ang_vel_in(A2).simplify()"
   ]
  },
  {
   "cell_type": "code",
   "execution_count": 32,
   "id": "1af2109e",
   "metadata": {
    "execution": {
     "iopub.execute_input": "2022-04-18T21:54:26.166275Z",
     "iopub.status.busy": "2022-04-18T21:54:26.165965Z",
     "iopub.status.idle": "2022-04-18T21:54:26.195013Z",
     "shell.execute_reply": "2022-04-18T21:54:26.194326Z"
    }
   },
   "outputs": [
    {
     "data": {
      "text/latex": [
       "$\\displaystyle (\\sin{\\left(\\theta \\right)} \\sin{\\left(\\varphi \\right)} \\dot{\\psi} + \\cos{\\left(\\varphi \\right)} \\dot{\\theta})\\mathbf{\\hat{d}_x} + (\\cos{\\left(\\theta \\right)} \\dot{\\psi} + \\dot{\\varphi})\\mathbf{\\hat{d}_y} + (- \\sin{\\left(\\theta \\right)} \\cos{\\left(\\varphi \\right)} \\dot{\\psi} + \\sin{\\left(\\varphi \\right)} \\dot{\\theta})\\mathbf{\\hat{d}_z}$"
      ],
      "text/plain": [
       "(sin(θ)⋅sin(varphi)⋅ψ̇ + cos(varphi)⋅θ̇) d_x + (cos(θ)⋅ψ̇ + varṗhi) d_y + (-s\n",
       "in(θ)⋅cos(varphi)⋅ψ̇ + sin(varphi)⋅θ̇) d_z"
      ]
     },
     "execution_count": 32,
     "metadata": {},
     "output_type": "execute_result"
    }
   ],
   "source": [
    "A_w_D.express(D)"
   ]
  },
  {
   "cell_type": "code",
   "execution_count": 33,
   "id": "c0a6b0ef",
   "metadata": {
    "execution": {
     "iopub.execute_input": "2022-04-18T21:54:26.199155Z",
     "iopub.status.busy": "2022-04-18T21:54:26.197881Z",
     "iopub.status.idle": "2022-04-18T21:54:26.215534Z",
     "shell.execute_reply": "2022-04-18T21:54:26.214893Z"
    }
   },
   "outputs": [
    {
     "data": {
      "text/latex": [
       "$\\displaystyle \\ddot{\\theta}\\mathbf{\\hat{a}_z}$"
      ],
      "text/plain": [
       "θ̈ a_z"
      ]
     },
     "execution_count": 33,
     "metadata": {},
     "output_type": "execute_result"
    }
   ],
   "source": [
    "theta = me.dynamicsymbols('theta')\n",
    "\n",
    "A = me.ReferenceFrame('A')\n",
    "B = me.ReferenceFrame('B')\n",
    "B.orient_axis(A, theta, A.z)\n",
    "B.ang_acc_in(A)"
   ]
  },
  {
   "cell_type": "code",
   "execution_count": 34,
   "id": "53c84bb1",
   "metadata": {
    "execution": {
     "iopub.execute_input": "2022-04-18T21:54:26.218738Z",
     "iopub.status.busy": "2022-04-18T21:54:26.218433Z",
     "iopub.status.idle": "2022-04-18T21:54:26.228607Z",
     "shell.execute_reply": "2022-04-18T21:54:26.228088Z"
    }
   },
   "outputs": [
    {
     "data": {
      "text/latex": [
       "$\\displaystyle \\ddot{\\theta}\\mathbf{\\hat{a}_z}$"
      ],
      "text/plain": [
       "θ̈ a_z"
      ]
     },
     "execution_count": 34,
     "metadata": {},
     "output_type": "execute_result"
    }
   ],
   "source": [
    "B.ang_vel_in(A).dt(A)"
   ]
  },
  {
   "cell_type": "code",
   "execution_count": 35,
   "id": "4b528184",
   "metadata": {
    "execution": {
     "iopub.execute_input": "2022-04-18T21:54:26.231581Z",
     "iopub.status.busy": "2022-04-18T21:54:26.231270Z",
     "iopub.status.idle": "2022-04-18T21:54:26.243440Z",
     "shell.execute_reply": "2022-04-18T21:54:26.242864Z"
    }
   },
   "outputs": [
    {
     "data": {
      "text/latex": [
       "$\\displaystyle \\ddot{\\theta}\\mathbf{\\hat{a}_z}$"
      ],
      "text/plain": [
       "θ̈ a_z"
      ]
     },
     "execution_count": 35,
     "metadata": {},
     "output_type": "execute_result"
    }
   ],
   "source": [
    "B.ang_vel_in(A).dt(B)"
   ]
  },
  {
   "cell_type": "code",
   "execution_count": 36,
   "id": "2ab4b38a",
   "metadata": {
    "execution": {
     "iopub.execute_input": "2022-04-18T21:54:26.246242Z",
     "iopub.status.busy": "2022-04-18T21:54:26.246058Z",
     "iopub.status.idle": "2022-04-18T21:54:27.761805Z",
     "shell.execute_reply": "2022-04-18T21:54:27.761115Z"
    }
   },
   "outputs": [
    {
     "data": {
      "text/latex": [
       "$\\displaystyle (\\sin{\\left(\\theta \\right)} \\sin{\\left(\\varphi \\right)} \\ddot{\\psi} + \\sin{\\left(\\theta \\right)} \\cos{\\left(\\varphi \\right)} \\dot{\\psi} \\dot{\\varphi} + \\sin{\\left(\\varphi \\right)} \\cos{\\left(\\theta \\right)} \\dot{\\psi} \\dot{\\theta} - \\sin{\\left(\\varphi \\right)} \\dot{\\theta} \\dot{\\varphi} + \\cos{\\left(\\varphi \\right)} \\ddot{\\theta})\\mathbf{\\hat{d}_x} + (- \\sin{\\left(\\theta \\right)} \\dot{\\psi} \\dot{\\theta} + \\cos{\\left(\\theta \\right)} \\ddot{\\psi} + \\ddot{\\varphi})\\mathbf{\\hat{d}_y} + (\\sin{\\left(\\theta \\right)} \\sin{\\left(\\varphi \\right)} \\dot{\\psi} \\dot{\\varphi} - \\sin{\\left(\\theta \\right)} \\cos{\\left(\\varphi \\right)} \\ddot{\\psi} + \\sin{\\left(\\varphi \\right)} \\ddot{\\theta} - \\cos{\\left(\\theta \\right)} \\cos{\\left(\\varphi \\right)} \\dot{\\psi} \\dot{\\theta} + \\cos{\\left(\\varphi \\right)} \\dot{\\theta} \\dot{\\varphi})\\mathbf{\\hat{d}_z}$"
      ],
      "text/plain": [
       "(sin(θ)⋅sin(varphi)⋅ψ̈ + sin(θ)⋅cos(varphi)⋅ψ̇⋅varṗhi + sin(varphi)⋅cos(θ)⋅ψ̇\n",
       "⋅θ̇ - sin(varphi)⋅θ̇⋅varṗhi + cos(varphi)⋅θ̈) d_x + (-sin(θ)⋅ψ̇⋅θ̇ + cos(θ)⋅ψ\n",
       "̈ + varp̈hi) d_y + (sin(θ)⋅sin(varphi)⋅ψ̇⋅varṗhi - sin(θ)⋅cos(varphi)⋅ψ̈ + si\n",
       "n(varphi)⋅θ̈ - cos(θ)⋅cos(varphi)⋅ψ̇⋅θ̇ + cos(varphi)⋅θ̇⋅varṗhi) d_z"
      ]
     },
     "execution_count": 36,
     "metadata": {},
     "output_type": "execute_result"
    }
   ],
   "source": [
    "psi, theta, phi = me.dynamicsymbols('psi, theta, varphi')\n",
    "\n",
    "A = me.ReferenceFrame('A')\n",
    "D = me.ReferenceFrame('D')\n",
    "D.orient_body_fixed(A, (psi, theta, phi), 'YXY')\n",
    "\n",
    "D.ang_acc_in(A).simplify()"
   ]
  },
  {
   "cell_type": "code",
   "execution_count": 37,
   "id": "fcb9a58a",
   "metadata": {
    "execution": {
     "iopub.execute_input": "2022-04-18T21:54:27.764893Z",
     "iopub.status.busy": "2022-04-18T21:54:27.764385Z",
     "iopub.status.idle": "2022-04-18T21:54:29.054611Z",
     "shell.execute_reply": "2022-04-18T21:54:29.053894Z"
    }
   },
   "outputs": [
    {
     "data": {
      "text/latex": [
       "$\\displaystyle (\\sin{\\left(\\theta \\right)} \\sin{\\left(\\varphi \\right)} \\ddot{\\psi} + \\sin{\\left(\\theta \\right)} \\cos{\\left(\\varphi \\right)} \\dot{\\psi} \\dot{\\varphi} + \\sin{\\left(\\varphi \\right)} \\cos{\\left(\\theta \\right)} \\dot{\\psi} \\dot{\\theta} - \\sin{\\left(\\varphi \\right)} \\dot{\\theta} \\dot{\\varphi} + \\cos{\\left(\\varphi \\right)} \\ddot{\\theta})\\mathbf{\\hat{d}_x} + (- \\sin{\\left(\\theta \\right)} \\dot{\\psi} \\dot{\\theta} + \\cos{\\left(\\theta \\right)} \\ddot{\\psi} + \\ddot{\\varphi})\\mathbf{\\hat{d}_y} + (\\sin{\\left(\\theta \\right)} \\sin{\\left(\\varphi \\right)} \\dot{\\psi} \\dot{\\varphi} - \\sin{\\left(\\theta \\right)} \\cos{\\left(\\varphi \\right)} \\ddot{\\psi} + \\sin{\\left(\\varphi \\right)} \\ddot{\\theta} - \\cos{\\left(\\theta \\right)} \\cos{\\left(\\varphi \\right)} \\dot{\\psi} \\dot{\\theta} + \\cos{\\left(\\varphi \\right)} \\dot{\\theta} \\dot{\\varphi})\\mathbf{\\hat{d}_z}$"
      ],
      "text/plain": [
       "(sin(θ)⋅sin(varphi)⋅ψ̈ + sin(θ)⋅cos(varphi)⋅ψ̇⋅varṗhi + sin(varphi)⋅cos(θ)⋅ψ̇\n",
       "⋅θ̇ - sin(varphi)⋅θ̇⋅varṗhi + cos(varphi)⋅θ̈) d_x + (-sin(θ)⋅ψ̇⋅θ̇ + cos(θ)⋅ψ\n",
       "̈ + varp̈hi) d_y + (sin(θ)⋅sin(varphi)⋅ψ̇⋅varṗhi - sin(θ)⋅cos(varphi)⋅ψ̈ + si\n",
       "n(varphi)⋅θ̈ - cos(θ)⋅cos(varphi)⋅ψ̇⋅θ̇ + cos(varphi)⋅θ̇⋅varṗhi) d_z"
      ]
     },
     "execution_count": 37,
     "metadata": {},
     "output_type": "execute_result"
    }
   ],
   "source": [
    "D.ang_vel_in(A).dt(A).simplify()"
   ]
  },
  {
   "cell_type": "code",
   "execution_count": 38,
   "id": "3936a2a6",
   "metadata": {
    "execution": {
     "iopub.execute_input": "2022-04-18T21:54:29.058259Z",
     "iopub.status.busy": "2022-04-18T21:54:29.057805Z",
     "iopub.status.idle": "2022-04-18T21:54:30.431498Z",
     "shell.execute_reply": "2022-04-18T21:54:30.430343Z"
    }
   },
   "outputs": [
    {
     "data": {
      "text/latex": [
       "$\\displaystyle (\\sin{\\left(\\theta \\right)} \\sin{\\left(\\varphi \\right)} \\ddot{\\psi} + \\sin{\\left(\\theta \\right)} \\cos{\\left(\\varphi \\right)} \\dot{\\psi} \\dot{\\varphi} + \\sin{\\left(\\varphi \\right)} \\cos{\\left(\\theta \\right)} \\dot{\\psi} \\dot{\\theta} - \\sin{\\left(\\varphi \\right)} \\dot{\\theta} \\dot{\\varphi} + \\cos{\\left(\\varphi \\right)} \\ddot{\\theta})\\mathbf{\\hat{d}_x} + (- \\sin{\\left(\\theta \\right)} \\dot{\\psi} \\dot{\\theta} + \\cos{\\left(\\theta \\right)} \\ddot{\\psi} + \\ddot{\\varphi})\\mathbf{\\hat{d}_y} + (\\sin{\\left(\\theta \\right)} \\sin{\\left(\\varphi \\right)} \\dot{\\psi} \\dot{\\varphi} - \\sin{\\left(\\theta \\right)} \\cos{\\left(\\varphi \\right)} \\ddot{\\psi} + \\sin{\\left(\\varphi \\right)} \\ddot{\\theta} - \\cos{\\left(\\theta \\right)} \\cos{\\left(\\varphi \\right)} \\dot{\\psi} \\dot{\\theta} + \\cos{\\left(\\varphi \\right)} \\dot{\\theta} \\dot{\\varphi})\\mathbf{\\hat{d}_z}$"
      ],
      "text/plain": [
       "(sin(θ)⋅sin(varphi)⋅ψ̈ + sin(θ)⋅cos(varphi)⋅ψ̇⋅varṗhi + sin(varphi)⋅cos(θ)⋅ψ̇\n",
       "⋅θ̇ - sin(varphi)⋅θ̇⋅varṗhi + cos(varphi)⋅θ̈) d_x + (-sin(θ)⋅ψ̇⋅θ̇ + cos(θ)⋅ψ\n",
       "̈ + varp̈hi) d_y + (sin(θ)⋅sin(varphi)⋅ψ̇⋅varṗhi - sin(θ)⋅cos(varphi)⋅ψ̈ + si\n",
       "n(varphi)⋅θ̈ - cos(θ)⋅cos(varphi)⋅ψ̇⋅θ̇ + cos(varphi)⋅θ̇⋅varṗhi) d_z"
      ]
     },
     "execution_count": 38,
     "metadata": {},
     "output_type": "execute_result"
    }
   ],
   "source": [
    "D.ang_vel_in(A).dt(D).simplify()"
   ]
  },
  {
   "cell_type": "code",
   "execution_count": 39,
   "id": "604e25e4",
   "metadata": {
    "execution": {
     "iopub.execute_input": "2022-04-18T21:54:30.435500Z",
     "iopub.status.busy": "2022-04-18T21:54:30.435078Z",
     "iopub.status.idle": "2022-04-18T21:54:30.452428Z",
     "shell.execute_reply": "2022-04-18T21:54:30.451751Z"
    }
   },
   "outputs": [],
   "source": [
    "psi, theta, phi = me.dynamicsymbols('psi, theta, varphi')\n",
    "\n",
    "A = me.ReferenceFrame('A')\n",
    "B = me.ReferenceFrame('B')\n",
    "C = me.ReferenceFrame('C')\n",
    "D = me.ReferenceFrame('D')\n",
    "\n",
    "B.orient_axis(A, psi, A.y)\n",
    "C.orient_axis(B, theta, B.x)\n",
    "D.orient_axis(C, phi, C.y)"
   ]
  },
  {
   "cell_type": "code",
   "execution_count": 40,
   "id": "f25eb9e1",
   "metadata": {
    "execution": {
     "iopub.execute_input": "2022-04-18T21:54:30.455059Z",
     "iopub.status.busy": "2022-04-18T21:54:30.454872Z",
     "iopub.status.idle": "2022-04-18T21:54:30.464330Z",
     "shell.execute_reply": "2022-04-18T21:54:30.463758Z"
    }
   },
   "outputs": [
    {
     "data": {
      "text/latex": [
       "$\\displaystyle \\ddot{\\psi}\\mathbf{\\hat{a}_y}$"
      ],
      "text/plain": [
       "ψ̈ a_y"
      ]
     },
     "execution_count": 40,
     "metadata": {},
     "output_type": "execute_result"
    }
   ],
   "source": [
    "A_alp_B = B.ang_acc_in(A)\n",
    "A_alp_B"
   ]
  },
  {
   "cell_type": "code",
   "execution_count": 41,
   "id": "7ba403d7",
   "metadata": {
    "execution": {
     "iopub.execute_input": "2022-04-18T21:54:30.467087Z",
     "iopub.status.busy": "2022-04-18T21:54:30.466647Z",
     "iopub.status.idle": "2022-04-18T21:54:30.475514Z",
     "shell.execute_reply": "2022-04-18T21:54:30.474898Z"
    }
   },
   "outputs": [
    {
     "data": {
      "text/latex": [
       "$\\displaystyle \\ddot{\\theta}\\mathbf{\\hat{b}_x}$"
      ],
      "text/plain": [
       "θ̈ b_x"
      ]
     },
     "execution_count": 41,
     "metadata": {},
     "output_type": "execute_result"
    }
   ],
   "source": [
    "B_alp_C = C.ang_acc_in(B)\n",
    "B_alp_C"
   ]
  },
  {
   "cell_type": "code",
   "execution_count": 42,
   "id": "d43a8a7c",
   "metadata": {
    "execution": {
     "iopub.execute_input": "2022-04-18T21:54:30.478185Z",
     "iopub.status.busy": "2022-04-18T21:54:30.477715Z",
     "iopub.status.idle": "2022-04-18T21:54:30.485021Z",
     "shell.execute_reply": "2022-04-18T21:54:30.484483Z"
    }
   },
   "outputs": [
    {
     "data": {
      "text/latex": [
       "$\\displaystyle \\ddot{\\varphi}\\mathbf{\\hat{c}_y}$"
      ],
      "text/plain": [
       "varp̈hi c_y"
      ]
     },
     "execution_count": 42,
     "metadata": {},
     "output_type": "execute_result"
    }
   ],
   "source": [
    "C_alp_D = D.ang_acc_in(C)\n",
    "C_alp_D"
   ]
  },
  {
   "cell_type": "code",
   "execution_count": 43,
   "id": "aa37b8a6",
   "metadata": {
    "execution": {
     "iopub.execute_input": "2022-04-18T21:54:30.488193Z",
     "iopub.status.busy": "2022-04-18T21:54:30.487725Z",
     "iopub.status.idle": "2022-04-18T21:54:30.745330Z",
     "shell.execute_reply": "2022-04-18T21:54:30.744625Z"
    }
   },
   "outputs": [
    {
     "data": {
      "text/latex": [
       "$\\displaystyle (\\sin{\\left(\\theta \\right)} \\sin{\\left(\\varphi \\right)} \\ddot{\\psi} + \\cos{\\left(\\varphi \\right)} \\ddot{\\theta})\\mathbf{\\hat{d}_x} + (\\cos{\\left(\\theta \\right)} \\ddot{\\psi} + \\ddot{\\varphi})\\mathbf{\\hat{d}_y} + (- \\sin{\\left(\\theta \\right)} \\cos{\\left(\\varphi \\right)} \\ddot{\\psi} + \\sin{\\left(\\varphi \\right)} \\ddot{\\theta})\\mathbf{\\hat{d}_z}$"
      ],
      "text/plain": [
       "(sin(θ)⋅sin(varphi)⋅ψ̈ + cos(varphi)⋅θ̈) d_x + (cos(θ)⋅ψ̈ + varp̈hi) d_y + (-s\n",
       "in(θ)⋅cos(varphi)⋅ψ̈ + sin(varphi)⋅θ̈) d_z"
      ]
     },
     "execution_count": 43,
     "metadata": {},
     "output_type": "execute_result"
    }
   ],
   "source": [
    "A_alp_D = A_alp_B + B_alp_C + C_alp_D\n",
    "A_alp_D.express(D).simplify()"
   ]
  },
  {
   "cell_type": "code",
   "execution_count": 44,
   "id": "1572065f",
   "metadata": {
    "execution": {
     "iopub.execute_input": "2022-04-18T21:54:30.748666Z",
     "iopub.status.busy": "2022-04-18T21:54:30.748331Z",
     "iopub.status.idle": "2022-04-18T21:54:31.613306Z",
     "shell.execute_reply": "2022-04-18T21:54:31.612306Z"
    }
   },
   "outputs": [
    {
     "data": {
      "text/latex": [
       "$\\displaystyle (\\sin{\\left(\\theta \\right)} \\sin{\\left(\\varphi \\right)} \\ddot{\\psi} + \\sin{\\left(\\theta \\right)} \\cos{\\left(\\varphi \\right)} \\dot{\\psi} \\dot{\\varphi} + \\sin{\\left(\\varphi \\right)} \\cos{\\left(\\theta \\right)} \\dot{\\psi} \\dot{\\theta} - \\sin{\\left(\\varphi \\right)} \\dot{\\theta} \\dot{\\varphi} + \\cos{\\left(\\varphi \\right)} \\ddot{\\theta})\\mathbf{\\hat{d}_x} + (- \\sin{\\left(\\theta \\right)} \\dot{\\psi} \\dot{\\theta} + \\cos{\\left(\\theta \\right)} \\ddot{\\psi} + \\ddot{\\varphi})\\mathbf{\\hat{d}_y} + (\\sin{\\left(\\theta \\right)} \\sin{\\left(\\varphi \\right)} \\dot{\\psi} \\dot{\\varphi} - \\sin{\\left(\\theta \\right)} \\cos{\\left(\\varphi \\right)} \\ddot{\\psi} + \\sin{\\left(\\varphi \\right)} \\ddot{\\theta} - \\cos{\\left(\\theta \\right)} \\cos{\\left(\\varphi \\right)} \\dot{\\psi} \\dot{\\theta} + \\cos{\\left(\\varphi \\right)} \\dot{\\theta} \\dot{\\varphi})\\mathbf{\\hat{d}_z}$"
      ],
      "text/plain": [
       "(sin(θ)⋅sin(varphi)⋅ψ̈ + sin(θ)⋅cos(varphi)⋅ψ̇⋅varṗhi + sin(varphi)⋅cos(θ)⋅ψ̇\n",
       "⋅θ̇ - sin(varphi)⋅θ̇⋅varṗhi + cos(varphi)⋅θ̈) d_x + (-sin(θ)⋅ψ̇⋅θ̇ + cos(θ)⋅ψ\n",
       "̈ + varp̈hi) d_y + (sin(θ)⋅sin(varphi)⋅ψ̇⋅varṗhi - sin(θ)⋅cos(varphi)⋅ψ̈ + si\n",
       "n(varphi)⋅θ̈ - cos(θ)⋅cos(varphi)⋅ψ̇⋅θ̇ + cos(varphi)⋅θ̇⋅varṗhi) d_z"
      ]
     },
     "execution_count": 44,
     "metadata": {},
     "output_type": "execute_result"
    }
   ],
   "source": [
    "D.ang_acc_in(A).express(D).simplify()"
   ]
  }
 ],
 "metadata": {
  "kernelspec": {
   "display_name": "Python 3 (ipykernel)",
   "language": "python",
   "name": "python3"
  },
  "language_info": {
   "codemirror_mode": {
    "name": "ipython",
    "version": 3
   },
   "file_extension": ".py",
   "mimetype": "text/x-python",
   "name": "python",
   "nbconvert_exporter": "python",
   "pygments_lexer": "ipython3",
   "version": "3.9.12"
  }
 },
 "nbformat": 4,
 "nbformat_minor": 5
}