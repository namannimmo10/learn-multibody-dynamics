{
 "cells": [
  {
   "cell_type": "code",
   "execution_count": 1,
   "id": "1a5a0efe",
   "metadata": {
    "execution": {
     "iopub.execute_input": "2022-04-18T21:55:28.669849Z",
     "iopub.status.busy": "2022-04-18T21:55:28.669625Z",
     "iopub.status.idle": "2022-04-18T21:55:29.390739Z",
     "shell.execute_reply": "2022-04-18T21:55:29.389909Z"
    }
   },
   "outputs": [],
   "source": [
    "import sympy as sm\n",
    "import sympy.physics.mechanics as me\n",
    "sm.init_printing(use_latex='mathjax')"
   ]
  },
  {
   "cell_type": "code",
   "execution_count": 2,
   "id": "1ce3ee7b",
   "metadata": {
    "execution": {
     "iopub.execute_input": "2022-04-18T21:55:29.398620Z",
     "iopub.status.busy": "2022-04-18T21:55:29.398054Z",
     "iopub.status.idle": "2022-04-18T21:55:29.402477Z",
     "shell.execute_reply": "2022-04-18T21:55:29.401883Z"
    }
   },
   "outputs": [],
   "source": [
    "N = me.ReferenceFrame('N')"
   ]
  },
  {
   "cell_type": "code",
   "execution_count": 3,
   "id": "624bd854",
   "metadata": {
    "execution": {
     "iopub.execute_input": "2022-04-18T21:55:29.406805Z",
     "iopub.status.busy": "2022-04-18T21:55:29.406616Z",
     "iopub.status.idle": "2022-04-18T21:55:29.410286Z",
     "shell.execute_reply": "2022-04-18T21:55:29.409657Z"
    }
   },
   "outputs": [],
   "source": [
    "a, b, c, d, e, f = sm.symbols('a, b, c, d, e, f')"
   ]
  },
  {
   "cell_type": "code",
   "execution_count": 4,
   "id": "4f659549",
   "metadata": {
    "execution": {
     "iopub.execute_input": "2022-04-18T21:55:29.413039Z",
     "iopub.status.busy": "2022-04-18T21:55:29.412731Z",
     "iopub.status.idle": "2022-04-18T21:55:29.424034Z",
     "shell.execute_reply": "2022-04-18T21:55:29.423456Z"
    }
   },
   "outputs": [
    {
     "data": {
      "text/latex": [
       "$\\displaystyle a\\mathbf{\\hat{n}_x}$"
      ],
      "text/plain": [
       "a n_x"
      ]
     },
     "execution_count": 4,
     "metadata": {},
     "output_type": "execute_result"
    }
   ],
   "source": [
    "v = a*N.x\n",
    "v"
   ]
  },
  {
   "cell_type": "code",
   "execution_count": 5,
   "id": "69e0c73d",
   "metadata": {
    "execution": {
     "iopub.execute_input": "2022-04-18T21:55:29.426634Z",
     "iopub.status.busy": "2022-04-18T21:55:29.426450Z",
     "iopub.status.idle": "2022-04-18T21:55:29.433346Z",
     "shell.execute_reply": "2022-04-18T21:55:29.432921Z"
    }
   },
   "outputs": [
    {
     "data": {
      "text/latex": [
       "$\\displaystyle \\left[\\begin{matrix}a\\\\0\\\\0\\end{matrix}\\right]$"
      ],
      "text/plain": [
       "⎡a⎤\n",
       "⎢ ⎥\n",
       "⎢0⎥\n",
       "⎢ ⎥\n",
       "⎣0⎦"
      ]
     },
     "execution_count": 5,
     "metadata": {},
     "output_type": "execute_result"
    }
   ],
   "source": [
    "v.to_matrix(N)"
   ]
  },
  {
   "cell_type": "code",
   "execution_count": 6,
   "id": "334af4b8",
   "metadata": {
    "execution": {
     "iopub.execute_input": "2022-04-18T21:55:29.436275Z",
     "iopub.status.busy": "2022-04-18T21:55:29.435876Z",
     "iopub.status.idle": "2022-04-18T21:55:29.442305Z",
     "shell.execute_reply": "2022-04-18T21:55:29.441475Z"
    }
   },
   "outputs": [
    {
     "data": {
      "text/latex": [
       "$\\displaystyle a\\mathbf{\\hat{n}_x} + b\\mathbf{\\hat{n}_y} + c\\mathbf{\\hat{n}_z}$"
      ],
      "text/plain": [
       "a n_x + b n_y + c n_z"
      ]
     },
     "execution_count": 6,
     "metadata": {},
     "output_type": "execute_result"
    }
   ],
   "source": [
    "w = a*N.x + b*N.y + c*N.z\n",
    "w"
   ]
  },
  {
   "cell_type": "code",
   "execution_count": 7,
   "id": "a61a07f5",
   "metadata": {
    "execution": {
     "iopub.execute_input": "2022-04-18T21:55:29.446127Z",
     "iopub.status.busy": "2022-04-18T21:55:29.445778Z",
     "iopub.status.idle": "2022-04-18T21:55:29.453522Z",
     "shell.execute_reply": "2022-04-18T21:55:29.452762Z"
    }
   },
   "outputs": [
    {
     "data": {
      "text/latex": [
       "$\\displaystyle \\left[\\begin{matrix}a\\\\b\\\\c\\end{matrix}\\right]$"
      ],
      "text/plain": [
       "⎡a⎤\n",
       "⎢ ⎥\n",
       "⎢b⎥\n",
       "⎢ ⎥\n",
       "⎣c⎦"
      ]
     },
     "execution_count": 7,
     "metadata": {},
     "output_type": "execute_result"
    }
   ],
   "source": [
    "w.to_matrix(N)"
   ]
  },
  {
   "cell_type": "code",
   "execution_count": 8,
   "id": "8c096a04",
   "metadata": {
    "execution": {
     "iopub.execute_input": "2022-04-18T21:55:29.457014Z",
     "iopub.status.busy": "2022-04-18T21:55:29.456528Z",
     "iopub.status.idle": "2022-04-18T21:55:29.462866Z",
     "shell.execute_reply": "2022-04-18T21:55:29.462196Z"
    }
   },
   "outputs": [
    {
     "data": {
      "text/latex": [
       "$\\displaystyle d\\mathbf{\\hat{n}_x} + e\\mathbf{\\hat{n}_y} + f\\mathbf{\\hat{n}_z}$"
      ],
      "text/plain": [
       "d n_x + e n_y + f n_z"
      ]
     },
     "execution_count": 8,
     "metadata": {},
     "output_type": "execute_result"
    }
   ],
   "source": [
    "x = d*N.x + e*N.y + f*N.z\n",
    "x"
   ]
  },
  {
   "cell_type": "code",
   "execution_count": 9,
   "id": "97aa1aff",
   "metadata": {
    "execution": {
     "iopub.execute_input": "2022-04-18T21:55:29.466919Z",
     "iopub.status.busy": "2022-04-18T21:55:29.466458Z",
     "iopub.status.idle": "2022-04-18T21:55:29.473482Z",
     "shell.execute_reply": "2022-04-18T21:55:29.472854Z"
    }
   },
   "outputs": [
    {
     "data": {
      "text/latex": [
       "$\\displaystyle (a + d)\\mathbf{\\hat{n}_x} + (b + e)\\mathbf{\\hat{n}_y} + (c + f)\\mathbf{\\hat{n}_z}$"
      ],
      "text/plain": [
       "(a + d) n_x + (b + e) n_y + (c + f) n_z"
      ]
     },
     "execution_count": 9,
     "metadata": {},
     "output_type": "execute_result"
    }
   ],
   "source": [
    "w + x"
   ]
  },
  {
   "cell_type": "code",
   "execution_count": 10,
   "id": "ee09954c",
   "metadata": {
    "execution": {
     "iopub.execute_input": "2022-04-18T21:55:29.479821Z",
     "iopub.status.busy": "2022-04-18T21:55:29.479229Z",
     "iopub.status.idle": "2022-04-18T21:55:29.489858Z",
     "shell.execute_reply": "2022-04-18T21:55:29.489237Z"
    }
   },
   "outputs": [
    {
     "data": {
      "text/latex": [
       "$\\displaystyle 2 a\\mathbf{\\hat{n}_x} + 2 b\\mathbf{\\hat{n}_y} + 2 c\\mathbf{\\hat{n}_z}$"
      ],
      "text/plain": [
       "2⋅a n_x + 2⋅b n_y + 2⋅c n_z"
      ]
     },
     "execution_count": 10,
     "metadata": {},
     "output_type": "execute_result"
    }
   ],
   "source": [
    "y = 2*w\n",
    "y"
   ]
  },
  {
   "cell_type": "code",
   "execution_count": 11,
   "id": "6d83f659",
   "metadata": {
    "execution": {
     "iopub.execute_input": "2022-04-18T21:55:29.492697Z",
     "iopub.status.busy": "2022-04-18T21:55:29.492516Z",
     "iopub.status.idle": "2022-04-18T21:55:29.498214Z",
     "shell.execute_reply": "2022-04-18T21:55:29.497608Z"
    }
   },
   "outputs": [
    {
     "data": {
      "text/latex": [
       "$\\displaystyle -  a\\mathbf{\\hat{n}_x} -  b\\mathbf{\\hat{n}_y} -  c\\mathbf{\\hat{n}_z}$"
      ],
      "text/plain": [
       "-a n_x + -b n_y + -c n_z"
      ]
     },
     "execution_count": 11,
     "metadata": {},
     "output_type": "execute_result"
    }
   ],
   "source": [
    "z = -w\n",
    "z"
   ]
  },
  {
   "cell_type": "code",
   "execution_count": 12,
   "id": "78d0ac48",
   "metadata": {
    "execution": {
     "iopub.execute_input": "2022-04-18T21:55:29.502188Z",
     "iopub.status.busy": "2022-04-18T21:55:29.501811Z",
     "iopub.status.idle": "2022-04-18T21:55:29.507334Z",
     "shell.execute_reply": "2022-04-18T21:55:29.506607Z"
    }
   },
   "outputs": [],
   "source": [
    "N = me.ReferenceFrame('N')\n",
    "l, theta = sm.symbols('l, theta')"
   ]
  },
  {
   "cell_type": "code",
   "execution_count": 13,
   "id": "72081e6e",
   "metadata": {
    "execution": {
     "iopub.execute_input": "2022-04-18T21:55:29.510379Z",
     "iopub.status.busy": "2022-04-18T21:55:29.509912Z",
     "iopub.status.idle": "2022-04-18T21:55:29.522940Z",
     "shell.execute_reply": "2022-04-18T21:55:29.522332Z"
    }
   },
   "outputs": [
    {
     "data": {
      "text/latex": [
       "$\\displaystyle \\frac{\\sqrt{2} l}{2}\\mathbf{\\hat{n}_x} + \\frac{\\sqrt{2} l}{2}\\mathbf{\\hat{n}_y}$"
      ],
      "text/plain": [
       "√2⋅l       √2⋅l\n",
       "──── n_x + ──── n_y\n",
       " 2          2"
      ]
     },
     "execution_count": 13,
     "metadata": {},
     "output_type": "execute_result"
    }
   ],
   "source": [
    "v1 = l*sm.cos(sm.pi/4)*N.x + l*sm.sin(sm.pi/4)*N.y\n",
    "v1"
   ]
  },
  {
   "cell_type": "code",
   "execution_count": 14,
   "id": "c01f2cab",
   "metadata": {
    "execution": {
     "iopub.execute_input": "2022-04-18T21:55:29.526537Z",
     "iopub.status.busy": "2022-04-18T21:55:29.526059Z",
     "iopub.status.idle": "2022-04-18T21:55:29.531189Z",
     "shell.execute_reply": "2022-04-18T21:55:29.530498Z"
    }
   },
   "outputs": [
    {
     "data": {
      "text/latex": [
       "$\\displaystyle - 10\\mathbf{\\hat{n}_y}$"
      ],
      "text/plain": [
       "-10 n_y"
      ]
     },
     "execution_count": 14,
     "metadata": {},
     "output_type": "execute_result"
    }
   ],
   "source": [
    "v2 = -10*N.y\n",
    "v2"
   ]
  },
  {
   "cell_type": "code",
   "execution_count": 15,
   "id": "81dad5c6",
   "metadata": {
    "execution": {
     "iopub.execute_input": "2022-04-18T21:55:29.534769Z",
     "iopub.status.busy": "2022-04-18T21:55:29.534223Z",
     "iopub.status.idle": "2022-04-18T21:55:29.546714Z",
     "shell.execute_reply": "2022-04-18T21:55:29.546081Z"
    }
   },
   "outputs": [
    {
     "data": {
      "text/latex": [
       "$\\displaystyle -  l \\sin{\\left(\\theta \\right)}\\mathbf{\\hat{n}_x} + l \\cos{\\left(\\theta \\right)}\\mathbf{\\hat{n}_y}$"
      ],
      "text/plain": [
       "-l⋅sin(θ) n_x + l⋅cos(θ) n_y"
      ]
     },
     "execution_count": 15,
     "metadata": {},
     "output_type": "execute_result"
    }
   ],
   "source": [
    "v3 = -l*sm.sin(theta)*N.x + l*sm.cos(theta)*N.y\n",
    "v3"
   ]
  },
  {
   "cell_type": "code",
   "execution_count": 16,
   "id": "115d7c48",
   "metadata": {
    "execution": {
     "iopub.execute_input": "2022-04-18T21:55:29.549476Z",
     "iopub.status.busy": "2022-04-18T21:55:29.549147Z",
     "iopub.status.idle": "2022-04-18T21:55:29.562115Z",
     "shell.execute_reply": "2022-04-18T21:55:29.560807Z"
    }
   },
   "outputs": [
    {
     "data": {
      "text/latex": [
       "$\\displaystyle (5 l \\sin{\\left(\\theta \\right)} + \\frac{\\sqrt{2} l}{2})\\mathbf{\\hat{n}_x} + (- 5 l \\cos{\\left(\\theta \\right)} + \\frac{\\sqrt{2} l}{2} - 10)\\mathbf{\\hat{n}_y}$"
      ],
      "text/plain": [
       "⎛             √2⋅l⎞       ⎛              √2⋅l     ⎞\n",
       "⎜5⋅l⋅sin(θ) + ────⎟ n_x + ⎜-5⋅l⋅cos(θ) + ──── - 10⎟ n_y\n",
       "⎝              2  ⎠       ⎝               2       ⎠"
      ]
     },
     "execution_count": 16,
     "metadata": {},
     "output_type": "execute_result"
    }
   ],
   "source": [
    "v1 + v2 - 5*v3"
   ]
  },
  {
   "cell_type": "code",
   "execution_count": 17,
   "id": "6bd51737",
   "metadata": {
    "execution": {
     "iopub.execute_input": "2022-04-18T21:55:29.566789Z",
     "iopub.status.busy": "2022-04-18T21:55:29.566617Z",
     "iopub.status.idle": "2022-04-18T21:55:29.572523Z",
     "shell.execute_reply": "2022-04-18T21:55:29.571856Z"
    }
   },
   "outputs": [],
   "source": [
    "N = me.ReferenceFrame('N')\n",
    "w = a*N.x + b*N.y + c*N.z\n",
    "x = d*N.x + e*N.y + f*N.z"
   ]
  },
  {
   "cell_type": "code",
   "execution_count": 18,
   "id": "89a45689",
   "metadata": {
    "execution": {
     "iopub.execute_input": "2022-04-18T21:55:29.575039Z",
     "iopub.status.busy": "2022-04-18T21:55:29.574852Z",
     "iopub.status.idle": "2022-04-18T21:55:29.583009Z",
     "shell.execute_reply": "2022-04-18T21:55:29.582416Z"
    }
   },
   "outputs": [
    {
     "data": {
      "text/latex": [
       "$\\displaystyle a d + b e + c f$"
      ],
      "text/plain": [
       "a⋅d + b⋅e + c⋅f"
      ]
     },
     "execution_count": 18,
     "metadata": {},
     "output_type": "execute_result"
    }
   ],
   "source": [
    "me.dot(w, x)"
   ]
  },
  {
   "cell_type": "code",
   "execution_count": 19,
   "id": "db1cf1d9",
   "metadata": {
    "execution": {
     "iopub.execute_input": "2022-04-18T21:55:29.586342Z",
     "iopub.status.busy": "2022-04-18T21:55:29.585859Z",
     "iopub.status.idle": "2022-04-18T21:55:29.592426Z",
     "shell.execute_reply": "2022-04-18T21:55:29.591704Z"
    }
   },
   "outputs": [
    {
     "data": {
      "text/latex": [
       "$\\displaystyle a d + b e + c f$"
      ],
      "text/plain": [
       "a⋅d + b⋅e + c⋅f"
      ]
     },
     "execution_count": 19,
     "metadata": {},
     "output_type": "execute_result"
    }
   ],
   "source": [
    "w.dot(x)"
   ]
  },
  {
   "cell_type": "code",
   "execution_count": 20,
   "id": "42bc725e",
   "metadata": {
    "execution": {
     "iopub.execute_input": "2022-04-18T21:55:29.595771Z",
     "iopub.status.busy": "2022-04-18T21:55:29.595451Z",
     "iopub.status.idle": "2022-04-18T21:55:29.617480Z",
     "shell.execute_reply": "2022-04-18T21:55:29.616882Z"
    }
   },
   "outputs": [
    {
     "data": {
      "text/latex": [
       "$\\displaystyle \\frac{a}{\\sqrt{a^{2} + b^{2} + c^{2}}}\\mathbf{\\hat{n}_x} + \\frac{b}{\\sqrt{a^{2} + b^{2} + c^{2}}}\\mathbf{\\hat{n}_y} + \\frac{c}{\\sqrt{a^{2} + b^{2} + c^{2}}}\\mathbf{\\hat{n}_z}$"
      ],
      "text/plain": [
       "        a                       b                       c\n",
       "───────────────── n_x + ───────────────── n_y + ───────────────── n_z\n",
       "   ______________          ______________          ______________\n",
       "  ╱  2    2    2          ╱  2    2    2          ╱  2    2    2\n",
       "╲╱  a  + b  + c         ╲╱  a  + b  + c         ╲╱  a  + b  + c"
      ]
     },
     "execution_count": 20,
     "metadata": {},
     "output_type": "execute_result"
    }
   ],
   "source": [
    "w.normalize()"
   ]
  },
  {
   "cell_type": "code",
   "execution_count": 21,
   "id": "c3bcb1e5",
   "metadata": {
    "execution": {
     "iopub.execute_input": "2022-04-18T21:55:29.622924Z",
     "iopub.status.busy": "2022-04-18T21:55:29.620006Z",
     "iopub.status.idle": "2022-04-18T21:55:29.633988Z",
     "shell.execute_reply": "2022-04-18T21:55:29.633397Z"
    }
   },
   "outputs": [
    {
     "data": {
      "text/latex": [
       "$\\displaystyle \\frac{a}{\\sqrt{a^{2} + b^{2} + c^{2}}}\\mathbf{\\hat{n}_x} + \\frac{b}{\\sqrt{a^{2} + b^{2} + c^{2}}}\\mathbf{\\hat{n}_y} + \\frac{c}{\\sqrt{a^{2} + b^{2} + c^{2}}}\\mathbf{\\hat{n}_z}$"
      ],
      "text/plain": [
       "        a                       b                       c\n",
       "───────────────── n_x + ───────────────── n_y + ───────────────── n_z\n",
       "   ______________          ______________          ______________\n",
       "  ╱  2    2    2          ╱  2    2    2          ╱  2    2    2\n",
       "╲╱  a  + b  + c         ╲╱  a  + b  + c         ╲╱  a  + b  + c"
      ]
     },
     "execution_count": 21,
     "metadata": {},
     "output_type": "execute_result"
    }
   ],
   "source": [
    "def normalize(vector):\n",
    "    return vector/sm.sqrt(me.dot(vector, vector))\n",
    "\n",
    "normalize(w)"
   ]
  },
  {
   "cell_type": "code",
   "execution_count": 22,
   "id": "c7f2d4e8",
   "metadata": {
    "execution": {
     "iopub.execute_input": "2022-04-18T21:55:29.638912Z",
     "iopub.status.busy": "2022-04-18T21:55:29.638399Z",
     "iopub.status.idle": "2022-04-18T21:55:29.648644Z",
     "shell.execute_reply": "2022-04-18T21:55:29.648100Z"
    }
   },
   "outputs": [
    {
     "data": {
      "text/latex": [
       "$\\displaystyle \\sqrt{a^{2} + b^{2} + c^{2}}$"
      ],
      "text/plain": [
       "   ______________\n",
       "  ╱  2    2    2 \n",
       "╲╱  a  + b  + c  "
      ]
     },
     "execution_count": 22,
     "metadata": {},
     "output_type": "execute_result"
    }
   ],
   "source": [
    "w.magnitude()"
   ]
  },
  {
   "cell_type": "code",
   "execution_count": 23,
   "id": "3b4522e0",
   "metadata": {
    "execution": {
     "iopub.execute_input": "2022-04-18T21:55:29.651638Z",
     "iopub.status.busy": "2022-04-18T21:55:29.651313Z",
     "iopub.status.idle": "2022-04-18T21:55:29.663570Z",
     "shell.execute_reply": "2022-04-18T21:55:29.663034Z"
    }
   },
   "outputs": [
    {
     "data": {
      "text/latex": [
       "$\\displaystyle \\frac{a}{\\sqrt{a^{2} + b^{2} + c^{2}}}\\mathbf{\\hat{n}_x} + \\frac{b}{\\sqrt{a^{2} + b^{2} + c^{2}}}\\mathbf{\\hat{n}_y} + \\frac{c}{\\sqrt{a^{2} + b^{2} + c^{2}}}\\mathbf{\\hat{n}_z}$"
      ],
      "text/plain": [
       "        a                       b                       c\n",
       "───────────────── n_x + ───────────────── n_y + ───────────────── n_z\n",
       "   ______________          ______________          ______________\n",
       "  ╱  2    2    2          ╱  2    2    2          ╱  2    2    2\n",
       "╲╱  a  + b  + c         ╲╱  a  + b  + c         ╲╱  a  + b  + c"
      ]
     },
     "execution_count": 23,
     "metadata": {},
     "output_type": "execute_result"
    }
   ],
   "source": [
    "w/w.magnitude()"
   ]
  },
  {
   "cell_type": "code",
   "execution_count": 24,
   "id": "d14e0200",
   "metadata": {
    "execution": {
     "iopub.execute_input": "2022-04-18T21:55:29.666574Z",
     "iopub.status.busy": "2022-04-18T21:55:29.666082Z",
     "iopub.status.idle": "2022-04-18T21:55:29.674444Z",
     "shell.execute_reply": "2022-04-18T21:55:29.673884Z"
    }
   },
   "outputs": [],
   "source": [
    "N = me.ReferenceFrame('N')\n",
    "v1 = a*N.x + b*N.y + a*N.z\n",
    "v2 = b*N.x + a*N.y + b*N.z"
   ]
  },
  {
   "cell_type": "code",
   "execution_count": 25,
   "id": "d6f41eca",
   "metadata": {
    "execution": {
     "iopub.execute_input": "2022-04-18T21:55:29.677265Z",
     "iopub.status.busy": "2022-04-18T21:55:29.676792Z",
     "iopub.status.idle": "2022-04-18T21:55:29.705644Z",
     "shell.execute_reply": "2022-04-18T21:55:29.704676Z"
    }
   },
   "outputs": [
    {
     "data": {
      "text/latex": [
       "$\\displaystyle \\operatorname{acos}{\\left(\\frac{3 a b}{\\sqrt{a^{2} + 2 b^{2}} \\sqrt{2 a^{2} + b^{2}}} \\right)}$"
      ],
      "text/plain": [
       "    ⎛            3⋅a⋅b            ⎞\n",
       "acos⎜─────────────────────────────⎟\n",
       "    ⎜   ___________    ___________⎟\n",
       "    ⎜  ╱  2      2    ╱    2    2 ⎟\n",
       "    ⎝╲╱  a  + 2⋅b  ⋅╲╱  2⋅a  + b  ⎠"
      ]
     },
     "execution_count": 25,
     "metadata": {},
     "output_type": "execute_result"
    }
   ],
   "source": [
    "sm.acos(v1.dot(v2) / (v1.magnitude()*v2.magnitude()))"
   ]
  },
  {
   "cell_type": "code",
   "execution_count": 26,
   "id": "6f31ee28",
   "metadata": {
    "execution": {
     "iopub.execute_input": "2022-04-18T21:55:29.709858Z",
     "iopub.status.busy": "2022-04-18T21:55:29.709309Z",
     "iopub.status.idle": "2022-04-18T21:55:29.718901Z",
     "shell.execute_reply": "2022-04-18T21:55:29.718354Z"
    }
   },
   "outputs": [
    {
     "data": {
      "text/latex": [
       "$\\displaystyle a\\mathbf{\\hat{n}_x} + b\\mathbf{\\hat{n}_y} + c\\mathbf{\\hat{n}_z}$"
      ],
      "text/plain": [
       "a n_x + b n_y + c n_z"
      ]
     },
     "execution_count": 26,
     "metadata": {},
     "output_type": "execute_result"
    }
   ],
   "source": [
    "N = me.ReferenceFrame('N')\n",
    "w = a*N.x + b*N.y + c*N.z\n",
    "w"
   ]
  },
  {
   "cell_type": "code",
   "execution_count": 27,
   "id": "bf10d811",
   "metadata": {
    "execution": {
     "iopub.execute_input": "2022-04-18T21:55:29.722212Z",
     "iopub.status.busy": "2022-04-18T21:55:29.721721Z",
     "iopub.status.idle": "2022-04-18T21:55:29.729027Z",
     "shell.execute_reply": "2022-04-18T21:55:29.728089Z"
    }
   },
   "outputs": [
    {
     "data": {
      "text/latex": [
       "$\\displaystyle d\\mathbf{\\hat{n}_x} + e\\mathbf{\\hat{n}_y} + f\\mathbf{\\hat{n}_z}$"
      ],
      "text/plain": [
       "d n_x + e n_y + f n_z"
      ]
     },
     "execution_count": 27,
     "metadata": {},
     "output_type": "execute_result"
    }
   ],
   "source": [
    "x = d*N.x + e*N.y + f*N.z\n",
    "x"
   ]
  },
  {
   "cell_type": "code",
   "execution_count": 28,
   "id": "e849c642",
   "metadata": {
    "execution": {
     "iopub.execute_input": "2022-04-18T21:55:29.732485Z",
     "iopub.status.busy": "2022-04-18T21:55:29.732155Z",
     "iopub.status.idle": "2022-04-18T21:55:29.750587Z",
     "shell.execute_reply": "2022-04-18T21:55:29.750005Z"
    }
   },
   "outputs": [
    {
     "data": {
      "text/latex": [
       "$\\displaystyle (b f - c e)\\mathbf{\\hat{n}_x} + (- a f + c d)\\mathbf{\\hat{n}_y} + (a e - b d)\\mathbf{\\hat{n}_z}$"
      ],
      "text/plain": [
       "(b⋅f - c⋅e) n_x + (-a⋅f + c⋅d) n_y + (a⋅e - b⋅d) n_z"
      ]
     },
     "execution_count": 28,
     "metadata": {},
     "output_type": "execute_result"
    }
   ],
   "source": [
    "me.cross(w, x)"
   ]
  },
  {
   "cell_type": "code",
   "execution_count": 29,
   "id": "9900c5e1",
   "metadata": {
    "execution": {
     "iopub.execute_input": "2022-04-18T21:55:29.754200Z",
     "iopub.status.busy": "2022-04-18T21:55:29.753689Z",
     "iopub.status.idle": "2022-04-18T21:55:29.767589Z",
     "shell.execute_reply": "2022-04-18T21:55:29.766964Z"
    }
   },
   "outputs": [
    {
     "data": {
      "text/latex": [
       "$\\displaystyle (b f - c e)\\mathbf{\\hat{n}_x} + (- a f + c d)\\mathbf{\\hat{n}_y} + (a e - b d)\\mathbf{\\hat{n}_z}$"
      ],
      "text/plain": [
       "(b⋅f - c⋅e) n_x + (-a⋅f + c⋅d) n_y + (a⋅e - b⋅d) n_z"
      ]
     },
     "execution_count": 29,
     "metadata": {},
     "output_type": "execute_result"
    }
   ],
   "source": [
    "w.cross(x)"
   ]
  },
  {
   "cell_type": "code",
   "execution_count": 30,
   "id": "f7a2f71e",
   "metadata": {
    "execution": {
     "iopub.execute_input": "2022-04-18T21:55:29.771476Z",
     "iopub.status.busy": "2022-04-18T21:55:29.770972Z",
     "iopub.status.idle": "2022-04-18T21:55:29.787156Z",
     "shell.execute_reply": "2022-04-18T21:55:29.786512Z"
    }
   },
   "outputs": [
    {
     "data": {
      "text/latex": [
       "$\\displaystyle \\sqrt{36077}$"
      ],
      "text/plain": [
       "√36077"
      ]
     },
     "execution_count": 30,
     "metadata": {},
     "output_type": "execute_result"
    }
   ],
   "source": [
    "N = me.ReferenceFrame('N')\n",
    "\n",
    "p1 = 23*N.x - 12* N.y\n",
    "p2 = 16*N.x + 2*N.y - 4*N.z\n",
    "p3 = N.x + 14*N.z\n",
    "\n",
    "me.cross(p2 - p1, p3 - p1).magnitude() / 2"
   ]
  },
  {
   "cell_type": "code",
   "execution_count": 31,
   "id": "5fe12ac8",
   "metadata": {
    "execution": {
     "iopub.execute_input": "2022-04-18T21:55:29.790425Z",
     "iopub.status.busy": "2022-04-18T21:55:29.789916Z",
     "iopub.status.idle": "2022-04-18T21:55:29.799681Z",
     "shell.execute_reply": "2022-04-18T21:55:29.799136Z"
    }
   },
   "outputs": [
    {
     "data": {
      "text/latex": [
       "$\\displaystyle a\\mathbf{\\hat{a}_x} + b\\mathbf{\\hat{n}_y}$"
      ],
      "text/plain": [
       "a a_x + b n_y"
      ]
     },
     "execution_count": 31,
     "metadata": {},
     "output_type": "execute_result"
    }
   ],
   "source": [
    "N = me.ReferenceFrame('N')\n",
    "A = me.ReferenceFrame('A')\n",
    "a, b, theta = sm.symbols('a, b, theta')\n",
    "\n",
    "v = a*A.x + b*N.y\n",
    "v"
   ]
  },
  {
   "cell_type": "code",
   "execution_count": 32,
   "id": "bea9ef7c",
   "metadata": {
    "execution": {
     "iopub.execute_input": "2022-04-18T21:55:29.803144Z",
     "iopub.status.busy": "2022-04-18T21:55:29.802642Z",
     "iopub.status.idle": "2022-04-18T21:55:29.810995Z",
     "shell.execute_reply": "2022-04-18T21:55:29.810374Z"
    }
   },
   "outputs": [
    {
     "data": {
      "text/latex": [
       "$\\displaystyle 2 a\\mathbf{\\hat{a}_x} + 2 b\\mathbf{\\hat{n}_y}$"
      ],
      "text/plain": [
       "2⋅a a_x + 2⋅b n_y"
      ]
     },
     "execution_count": 32,
     "metadata": {},
     "output_type": "execute_result"
    }
   ],
   "source": [
    "v + v"
   ]
  },
  {
   "cell_type": "code",
   "execution_count": 33,
   "id": "b2d939b4",
   "metadata": {
    "execution": {
     "iopub.execute_input": "2022-04-18T21:55:29.814244Z",
     "iopub.status.busy": "2022-04-18T21:55:29.813782Z",
     "iopub.status.idle": "2022-04-18T21:55:29.828211Z",
     "shell.execute_reply": "2022-04-18T21:55:29.827671Z"
    }
   },
   "outputs": [
    {
     "data": {
      "text/latex": [
       "$\\displaystyle a \\cos{\\left(\\theta \\right)}\\mathbf{\\hat{n}_x} + (a \\sin{\\left(\\theta \\right)} + b)\\mathbf{\\hat{n}_y}$"
      ],
      "text/plain": [
       "a⋅cos(θ) n_x + (a⋅sin(θ) + b) n_y"
      ]
     },
     "execution_count": 33,
     "metadata": {},
     "output_type": "execute_result"
    }
   ],
   "source": [
    "A.orient_axis(N, theta, N.z)\n",
    "\n",
    "v.express(N)"
   ]
  },
  {
   "cell_type": "code",
   "execution_count": 34,
   "id": "ae395c92",
   "metadata": {
    "execution": {
     "iopub.execute_input": "2022-04-18T21:55:29.833738Z",
     "iopub.status.busy": "2022-04-18T21:55:29.833407Z",
     "iopub.status.idle": "2022-04-18T21:55:29.845652Z",
     "shell.execute_reply": "2022-04-18T21:55:29.845094Z"
    }
   },
   "outputs": [
    {
     "data": {
      "text/latex": [
       "$\\displaystyle (a + b \\sin{\\left(\\theta \\right)})\\mathbf{\\hat{a}_x} + b \\cos{\\left(\\theta \\right)}\\mathbf{\\hat{a}_y}$"
      ],
      "text/plain": [
       "(a + b⋅sin(θ)) a_x + b⋅cos(θ) a_y"
      ]
     },
     "execution_count": 34,
     "metadata": {},
     "output_type": "execute_result"
    }
   ],
   "source": [
    "v.express(A)"
   ]
  },
  {
   "cell_type": "code",
   "execution_count": 35,
   "id": "22c085d4",
   "metadata": {
    "execution": {
     "iopub.execute_input": "2022-04-18T21:55:29.848869Z",
     "iopub.status.busy": "2022-04-18T21:55:29.848575Z",
     "iopub.status.idle": "2022-04-18T21:55:29.857872Z",
     "shell.execute_reply": "2022-04-18T21:55:29.857273Z"
    }
   },
   "outputs": [],
   "source": [
    "q1, q2, q3, q4, q5 = sm.symbols('q1, q2, q3, q4, q5')\n",
    "l1, l2, l3, l4 = sm.symbols('l1, l2, l3, l4')\n",
    "N = me.ReferenceFrame('N')\n",
    "A = me.ReferenceFrame('A')\n",
    "B = me.ReferenceFrame('B')\n",
    "C = me.ReferenceFrame('C')"
   ]
  },
  {
   "cell_type": "code",
   "execution_count": 36,
   "id": "cabe0538",
   "metadata": {
    "execution": {
     "iopub.execute_input": "2022-04-18T21:55:29.860860Z",
     "iopub.status.busy": "2022-04-18T21:55:29.860563Z",
     "iopub.status.idle": "2022-04-18T21:55:29.894289Z",
     "shell.execute_reply": "2022-04-18T21:55:29.893283Z"
    }
   },
   "outputs": [],
   "source": [
    "A.orient_body_fixed(N, (q1, q2, 0), 'ZXZ')"
   ]
  },
  {
   "cell_type": "code",
   "execution_count": 37,
   "id": "692682af",
   "metadata": {
    "execution": {
     "iopub.execute_input": "2022-04-18T21:55:29.898120Z",
     "iopub.status.busy": "2022-04-18T21:55:29.897805Z",
     "iopub.status.idle": "2022-04-18T21:55:29.905633Z",
     "shell.execute_reply": "2022-04-18T21:55:29.904692Z"
    }
   },
   "outputs": [],
   "source": [
    "B.orient_axis(A, q3, A.x)"
   ]
  },
  {
   "cell_type": "code",
   "execution_count": 38,
   "id": "aef06fd4",
   "metadata": {
    "execution": {
     "iopub.execute_input": "2022-04-18T21:55:29.909543Z",
     "iopub.status.busy": "2022-04-18T21:55:29.908277Z",
     "iopub.status.idle": "2022-04-18T21:55:29.940535Z",
     "shell.execute_reply": "2022-04-18T21:55:29.939880Z"
    }
   },
   "outputs": [],
   "source": [
    "C.orient_body_fixed(B, (q4, q5, 0), 'XZX')"
   ]
  },
  {
   "cell_type": "code",
   "execution_count": 39,
   "id": "c75faa78",
   "metadata": {
    "execution": {
     "iopub.execute_input": "2022-04-18T21:55:29.943723Z",
     "iopub.status.busy": "2022-04-18T21:55:29.943298Z",
     "iopub.status.idle": "2022-04-18T21:55:29.950166Z",
     "shell.execute_reply": "2022-04-18T21:55:29.949605Z"
    }
   },
   "outputs": [],
   "source": [
    "R_P1_P2 = l1*A.z\n",
    "R_P2_P3 = l2*B.z\n",
    "R_P3_P4 = l3*C.z - l4*C.y"
   ]
  },
  {
   "cell_type": "code",
   "execution_count": 40,
   "id": "5a1c2c1a",
   "metadata": {
    "execution": {
     "iopub.execute_input": "2022-04-18T21:55:29.952854Z",
     "iopub.status.busy": "2022-04-18T21:55:29.952678Z",
     "iopub.status.idle": "2022-04-18T21:55:29.958238Z",
     "shell.execute_reply": "2022-04-18T21:55:29.957796Z"
    }
   },
   "outputs": [
    {
     "data": {
      "text/latex": [
       "$\\displaystyle l_{1}\\mathbf{\\hat{a}_z} + l_{2}\\mathbf{\\hat{b}_z} -  l_{4}\\mathbf{\\hat{c}_y} + l_{3}\\mathbf{\\hat{c}_z}$"
      ],
      "text/plain": [
       "l₁ a_z + l₂ b_z + -l₄ c_y + l₃ c_z"
      ]
     },
     "execution_count": 40,
     "metadata": {},
     "output_type": "execute_result"
    }
   ],
   "source": [
    "R_P1_P4 = R_P1_P2 + R_P2_P3 + R_P3_P4\n",
    "R_P1_P4"
   ]
  },
  {
   "cell_type": "code",
   "execution_count": 41,
   "id": "606855f0",
   "metadata": {
    "execution": {
     "iopub.execute_input": "2022-04-18T21:55:29.961275Z",
     "iopub.status.busy": "2022-04-18T21:55:29.960772Z",
     "iopub.status.idle": "2022-04-18T21:55:30.089976Z",
     "shell.execute_reply": "2022-04-18T21:55:30.089313Z"
    }
   },
   "outputs": [
    {
     "data": {
      "text/latex": [
       "$\\displaystyle (l_{1} \\sin{\\left(q_{1} \\right)} \\sin{\\left(q_{2} \\right)} + l_{2} \\left(\\sin{\\left(q_{1} \\right)} \\sin{\\left(q_{2} \\right)} \\cos{\\left(q_{3} \\right)} + \\sin{\\left(q_{1} \\right)} \\sin{\\left(q_{3} \\right)} \\cos{\\left(q_{2} \\right)}\\right) + l_{3} \\left(- \\left(\\sin{\\left(q_{1} \\right)} \\sin{\\left(q_{2} \\right)} \\sin{\\left(q_{3} \\right)} - \\sin{\\left(q_{1} \\right)} \\cos{\\left(q_{2} \\right)} \\cos{\\left(q_{3} \\right)}\\right) \\sin{\\left(q_{4} \\right)} + \\left(\\sin{\\left(q_{1} \\right)} \\sin{\\left(q_{2} \\right)} \\cos{\\left(q_{3} \\right)} + \\sin{\\left(q_{1} \\right)} \\sin{\\left(q_{3} \\right)} \\cos{\\left(q_{2} \\right)}\\right) \\cos{\\left(q_{4} \\right)}\\right) - l_{4} \\left(\\left(\\sin{\\left(q_{1} \\right)} \\sin{\\left(q_{2} \\right)} \\sin{\\left(q_{3} \\right)} - \\sin{\\left(q_{1} \\right)} \\cos{\\left(q_{2} \\right)} \\cos{\\left(q_{3} \\right)}\\right) \\cos{\\left(q_{4} \\right)} \\cos{\\left(q_{5} \\right)} + \\left(\\sin{\\left(q_{1} \\right)} \\sin{\\left(q_{2} \\right)} \\cos{\\left(q_{3} \\right)} + \\sin{\\left(q_{1} \\right)} \\sin{\\left(q_{3} \\right)} \\cos{\\left(q_{2} \\right)}\\right) \\sin{\\left(q_{4} \\right)} \\cos{\\left(q_{5} \\right)} - \\sin{\\left(q_{5} \\right)} \\cos{\\left(q_{1} \\right)}\\right))\\mathbf{\\hat{n}_x} + (- l_{1} \\sin{\\left(q_{2} \\right)} \\cos{\\left(q_{1} \\right)} + l_{2} \\left(- \\sin{\\left(q_{2} \\right)} \\cos{\\left(q_{1} \\right)} \\cos{\\left(q_{3} \\right)} - \\sin{\\left(q_{3} \\right)} \\cos{\\left(q_{1} \\right)} \\cos{\\left(q_{2} \\right)}\\right) + l_{3} \\left(- \\left(- \\sin{\\left(q_{2} \\right)} \\sin{\\left(q_{3} \\right)} \\cos{\\left(q_{1} \\right)} + \\cos{\\left(q_{1} \\right)} \\cos{\\left(q_{2} \\right)} \\cos{\\left(q_{3} \\right)}\\right) \\sin{\\left(q_{4} \\right)} + \\left(- \\sin{\\left(q_{2} \\right)} \\cos{\\left(q_{1} \\right)} \\cos{\\left(q_{3} \\right)} - \\sin{\\left(q_{3} \\right)} \\cos{\\left(q_{1} \\right)} \\cos{\\left(q_{2} \\right)}\\right) \\cos{\\left(q_{4} \\right)}\\right) - l_{4} \\left(\\left(- \\sin{\\left(q_{2} \\right)} \\sin{\\left(q_{3} \\right)} \\cos{\\left(q_{1} \\right)} + \\cos{\\left(q_{1} \\right)} \\cos{\\left(q_{2} \\right)} \\cos{\\left(q_{3} \\right)}\\right) \\cos{\\left(q_{4} \\right)} \\cos{\\left(q_{5} \\right)} + \\left(- \\sin{\\left(q_{2} \\right)} \\cos{\\left(q_{1} \\right)} \\cos{\\left(q_{3} \\right)} - \\sin{\\left(q_{3} \\right)} \\cos{\\left(q_{1} \\right)} \\cos{\\left(q_{2} \\right)}\\right) \\sin{\\left(q_{4} \\right)} \\cos{\\left(q_{5} \\right)} - \\sin{\\left(q_{1} \\right)} \\sin{\\left(q_{5} \\right)}\\right))\\mathbf{\\hat{n}_y} + (l_{1} \\cos{\\left(q_{2} \\right)} + l_{2} \\left(- \\sin{\\left(q_{2} \\right)} \\sin{\\left(q_{3} \\right)} + \\cos{\\left(q_{2} \\right)} \\cos{\\left(q_{3} \\right)}\\right) + l_{3} \\left(\\left(- \\sin{\\left(q_{2} \\right)} \\sin{\\left(q_{3} \\right)} + \\cos{\\left(q_{2} \\right)} \\cos{\\left(q_{3} \\right)}\\right) \\cos{\\left(q_{4} \\right)} - \\left(\\sin{\\left(q_{2} \\right)} \\cos{\\left(q_{3} \\right)} + \\sin{\\left(q_{3} \\right)} \\cos{\\left(q_{2} \\right)}\\right) \\sin{\\left(q_{4} \\right)}\\right) - l_{4} \\left(\\left(- \\sin{\\left(q_{2} \\right)} \\sin{\\left(q_{3} \\right)} + \\cos{\\left(q_{2} \\right)} \\cos{\\left(q_{3} \\right)}\\right) \\sin{\\left(q_{4} \\right)} \\cos{\\left(q_{5} \\right)} + \\left(\\sin{\\left(q_{2} \\right)} \\cos{\\left(q_{3} \\right)} + \\sin{\\left(q_{3} \\right)} \\cos{\\left(q_{2} \\right)}\\right) \\cos{\\left(q_{4} \\right)} \\cos{\\left(q_{5} \\right)}\\right))\\mathbf{\\hat{n}_z}$"
      ],
      "text/plain": [
       "(l₁⋅sin(q₁)⋅sin(q₂) + l₂⋅(sin(q₁)⋅sin(q₂)⋅cos(q₃) + sin(q₁)⋅sin(q₃)⋅cos(q₂)) +\n",
       " l₃⋅(-(sin(q₁)⋅sin(q₂)⋅sin(q₃) - sin(q₁)⋅cos(q₂)⋅cos(q₃))⋅sin(q₄) + (sin(q₁)⋅s\n",
       "in(q₂)⋅cos(q₃) + sin(q₁)⋅sin(q₃)⋅cos(q₂))⋅cos(q₄)) - l₄⋅((sin(q₁)⋅sin(q₂)⋅sin(\n",
       "q₃) - sin(q₁)⋅cos(q₂)⋅cos(q₃))⋅cos(q₄)⋅cos(q₅) + (sin(q₁)⋅sin(q₂)⋅cos(q₃) + si\n",
       "n(q₁)⋅sin(q₃)⋅cos(q₂))⋅sin(q₄)⋅cos(q₅) - sin(q₅)⋅cos(q₁))) n_x + (-l₁⋅sin(q₂)⋅\n",
       "cos(q₁) + l₂⋅(-sin(q₂)⋅cos(q₁)⋅cos(q₃) - sin(q₃)⋅cos(q₁)⋅cos(q₂)) + l₃⋅(-(-sin\n",
       "(q₂)⋅sin(q₃)⋅cos(q₁) + cos(q₁)⋅cos(q₂)⋅cos(q₃))⋅sin(q₄) + (-sin(q₂)⋅cos(q₁)⋅co\n",
       "s(q₃) - sin(q₃)⋅cos(q₁)⋅cos(q₂))⋅cos(q₄)) - l₄⋅((-sin(q₂)⋅sin(q₃)⋅cos(q₁) + co\n",
       "s(q₁)⋅cos(q₂)⋅cos(q₃))⋅cos(q₄)⋅cos(q₅) + (-sin(q₂)⋅cos(q₁)⋅cos(q₃) - sin(q₃)⋅c\n",
       "os(q₁)⋅cos(q₂))⋅sin(q₄)⋅cos(q₅) - sin(q₁)⋅sin(q₅))) n_y + (l₁⋅cos(q₂) + l₂⋅(-s\n",
       "in(q₂)⋅sin(q₃) + cos(q₂)⋅cos(q₃)) + l₃⋅((-sin(q₂)⋅sin(q₃) + cos(q₂)⋅cos(q₃))⋅c\n",
       "os(q₄) - (sin(q₂)⋅cos(q₃) + sin(q₃)⋅cos(q₂))⋅sin(q₄)) - l₄⋅((-sin(q₂)⋅sin(q₃)\n",
       "+ cos(q₂)⋅cos(q₃))⋅sin(q₄)⋅cos(q₅) + (sin(q₂)⋅cos(q₃) + sin(q₃)⋅cos(q₂))⋅cos(q\n",
       "₄)⋅cos(q₅))) n_z"
      ]
     },
     "execution_count": 41,
     "metadata": {},
     "output_type": "execute_result"
    }
   ],
   "source": [
    "R_P1_P4.express(N)"
   ]
  },
  {
   "cell_type": "code",
   "execution_count": 42,
   "id": "72cf5a8b",
   "metadata": {
    "execution": {
     "iopub.execute_input": "2022-04-18T21:55:30.093643Z",
     "iopub.status.busy": "2022-04-18T21:55:30.093135Z",
     "iopub.status.idle": "2022-04-18T21:55:30.102988Z",
     "shell.execute_reply": "2022-04-18T21:55:30.102365Z"
    }
   },
   "outputs": [
    {
     "data": {
      "text/latex": [
       "$\\displaystyle l_{1} \\sin{\\left(q_{1} \\right)} \\sin{\\left(q_{2} \\right)}\\mathbf{\\hat{n}_x} -  l_{1} \\sin{\\left(q_{2} \\right)} \\cos{\\left(q_{1} \\right)}\\mathbf{\\hat{n}_y} + l_{1} \\cos{\\left(q_{2} \\right)}\\mathbf{\\hat{n}_z}$"
      ],
      "text/plain": [
       "l₁⋅sin(q₁)⋅sin(q₂) n_x + -l₁⋅sin(q₂)⋅cos(q₁) n_y + l₁⋅cos(q₂) n_z"
      ]
     },
     "execution_count": 42,
     "metadata": {},
     "output_type": "execute_result"
    }
   ],
   "source": [
    "R_P1_P2.express(N)"
   ]
  },
  {
   "cell_type": "code",
   "execution_count": 43,
   "id": "d08d5801",
   "metadata": {
    "execution": {
     "iopub.execute_input": "2022-04-18T21:55:30.105742Z",
     "iopub.status.busy": "2022-04-18T21:55:30.105544Z",
     "iopub.status.idle": "2022-04-18T21:55:30.116074Z",
     "shell.execute_reply": "2022-04-18T21:55:30.115420Z"
    }
   },
   "outputs": [
    {
     "data": {
      "text/latex": [
       "$\\displaystyle \\left\\{l_{1}, q_{1}, q_{2}\\right\\}$"
      ],
      "text/plain": [
       "{l₁, q₁, q₂}"
      ]
     },
     "execution_count": 43,
     "metadata": {},
     "output_type": "execute_result"
    }
   ],
   "source": [
    "R_P1_P2.free_symbols(N)"
   ]
  },
  {
   "cell_type": "code",
   "execution_count": 44,
   "id": "56273c6e",
   "metadata": {
    "execution": {
     "iopub.execute_input": "2022-04-18T21:55:30.119169Z",
     "iopub.status.busy": "2022-04-18T21:55:30.118981Z",
     "iopub.status.idle": "2022-04-18T21:55:30.126225Z",
     "shell.execute_reply": "2022-04-18T21:55:30.125633Z"
    }
   },
   "outputs": [
    {
     "data": {
      "text/latex": [
       "$\\displaystyle \\left\\{l_{1}\\right\\}$"
      ],
      "text/plain": [
       "{l₁}"
      ]
     },
     "execution_count": 44,
     "metadata": {},
     "output_type": "execute_result"
    }
   ],
   "source": [
    "R_P1_P2.free_symbols(A)"
   ]
  },
  {
   "cell_type": "code",
   "execution_count": 45,
   "id": "a08cb43f",
   "metadata": {
    "execution": {
     "iopub.execute_input": "2022-04-18T21:55:30.128988Z",
     "iopub.status.busy": "2022-04-18T21:55:30.128670Z",
     "iopub.status.idle": "2022-04-18T21:55:30.137303Z",
     "shell.execute_reply": "2022-04-18T21:55:30.136693Z"
    }
   },
   "outputs": [
    {
     "data": {
      "text/latex": [
       "$\\displaystyle \\left\\{l_{1}, l_{2}, l_{3}, l_{4}, q_{1}, q_{2}, q_{3}, q_{4}, q_{5}\\right\\}$"
      ],
      "text/plain": [
       "{l₁, l₂, l₃, l₄, q₁, q₂, q₃, q₄, q₅}"
      ]
     },
     "execution_count": 45,
     "metadata": {},
     "output_type": "execute_result"
    }
   ],
   "source": [
    "R_P1_P4.free_symbols(N)"
   ]
  }
 ],
 "metadata": {
  "kernelspec": {
   "display_name": "Python 3 (ipykernel)",
   "language": "python",
   "name": "python3"
  },
  "language_info": {
   "codemirror_mode": {
    "name": "ipython",
    "version": 3
   },
   "file_extension": ".py",
   "mimetype": "text/x-python",
   "name": "python",
   "nbconvert_exporter": "python",
   "pygments_lexer": "ipython3",
   "version": "3.9.12"
  }
 },
 "nbformat": 4,
 "nbformat_minor": 5
}