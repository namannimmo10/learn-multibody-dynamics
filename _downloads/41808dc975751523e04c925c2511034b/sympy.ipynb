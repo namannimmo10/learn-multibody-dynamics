{
 "cells": [
  {
   "cell_type": "code",
   "execution_count": 1,
   "id": "6b63355e",
   "metadata": {
    "execution": {
     "iopub.execute_input": "2022-04-18T21:55:20.242285Z",
     "iopub.status.busy": "2022-04-18T21:55:20.241697Z",
     "iopub.status.idle": "2022-04-18T21:55:20.619630Z",
     "shell.execute_reply": "2022-04-18T21:55:20.618962Z"
    }
   },
   "outputs": [],
   "source": [
    "import sympy as sm"
   ]
  },
  {
   "cell_type": "code",
   "execution_count": 2,
   "id": "ba4c39e8",
   "metadata": {
    "execution": {
     "iopub.execute_input": "2022-04-18T21:55:20.623344Z",
     "iopub.status.busy": "2022-04-18T21:55:20.622999Z",
     "iopub.status.idle": "2022-04-18T21:55:20.631370Z",
     "shell.execute_reply": "2022-04-18T21:55:20.630818Z"
    }
   },
   "outputs": [],
   "source": [
    "sm.init_printing(use_latex='mathjax')"
   ]
  },
  {
   "cell_type": "code",
   "execution_count": 3,
   "id": "c2e26bee",
   "metadata": {
    "execution": {
     "iopub.execute_input": "2022-04-18T21:55:20.641688Z",
     "iopub.status.busy": "2022-04-18T21:55:20.641462Z",
     "iopub.status.idle": "2022-04-18T21:55:20.652033Z",
     "shell.execute_reply": "2022-04-18T21:55:20.651403Z"
    }
   },
   "outputs": [
    {
     "data": {
      "text/latex": [
       "$\\displaystyle a$"
      ],
      "text/plain": [
       "a"
      ]
     },
     "execution_count": 3,
     "metadata": {},
     "output_type": "execute_result"
    }
   ],
   "source": [
    "a = sm.symbols('a')\n",
    "a"
   ]
  },
  {
   "cell_type": "code",
   "execution_count": 4,
   "id": "1f3c62f4",
   "metadata": {
    "execution": {
     "iopub.execute_input": "2022-04-18T21:55:20.655005Z",
     "iopub.status.busy": "2022-04-18T21:55:20.654671Z",
     "iopub.status.idle": "2022-04-18T21:55:20.660997Z",
     "shell.execute_reply": "2022-04-18T21:55:20.660541Z"
    }
   },
   "outputs": [
    {
     "data": {
      "text/plain": [
       "sympy.core.symbol.Symbol"
      ]
     },
     "execution_count": 4,
     "metadata": {},
     "output_type": "execute_result"
    }
   ],
   "source": [
    "type(a)"
   ]
  },
  {
   "cell_type": "code",
   "execution_count": 5,
   "id": "d5798bb8",
   "metadata": {
    "execution": {
     "iopub.execute_input": "2022-04-18T21:55:20.668307Z",
     "iopub.status.busy": "2022-04-18T21:55:20.667894Z",
     "iopub.status.idle": "2022-04-18T21:55:20.673179Z",
     "shell.execute_reply": "2022-04-18T21:55:20.672585Z"
    }
   },
   "outputs": [
    {
     "data": {
      "text/latex": [
       "$\\displaystyle \\left( b, \\  t, \\  \\omega\\right)$"
      ],
      "text/plain": [
       "(b, t, ω)"
      ]
     },
     "execution_count": 5,
     "metadata": {},
     "output_type": "execute_result"
    }
   ],
   "source": [
    "b, t, omega = sm.symbols('b, t, omega')\n",
    "b, t, omega"
   ]
  },
  {
   "cell_type": "code",
   "execution_count": 6,
   "id": "115cafe8",
   "metadata": {
    "execution": {
     "iopub.execute_input": "2022-04-18T21:55:20.676017Z",
     "iopub.status.busy": "2022-04-18T21:55:20.675646Z",
     "iopub.status.idle": "2022-04-18T21:55:20.681216Z",
     "shell.execute_reply": "2022-04-18T21:55:20.680303Z"
    }
   },
   "outputs": [
    {
     "data": {
      "text/latex": [
       "$\\displaystyle \\left( \\alpha_{1}, \\  \\omega_{2}\\right)$"
      ],
      "text/plain": [
       "(α₁, ω₂)"
      ]
     },
     "execution_count": 6,
     "metadata": {},
     "output_type": "execute_result"
    }
   ],
   "source": [
    "pivot_angle, w2 = sm.symbols('alpha1, omega2')\n",
    "pivot_angle, w2"
   ]
  },
  {
   "cell_type": "code",
   "execution_count": 7,
   "id": "ddee845b",
   "metadata": {
    "execution": {
     "iopub.execute_input": "2022-04-18T21:55:20.684783Z",
     "iopub.status.busy": "2022-04-18T21:55:20.684263Z",
     "iopub.status.idle": "2022-04-18T21:55:20.690170Z",
     "shell.execute_reply": "2022-04-18T21:55:20.689545Z"
    }
   },
   "outputs": [
    {
     "data": {
      "text/plain": [
       "f"
      ]
     },
     "execution_count": 7,
     "metadata": {},
     "output_type": "execute_result"
    }
   ],
   "source": [
    "f = sm.Function('f')\n",
    "f"
   ]
  },
  {
   "cell_type": "code",
   "execution_count": 8,
   "id": "f47ed9a4",
   "metadata": {
    "execution": {
     "iopub.execute_input": "2022-04-18T21:55:20.692886Z",
     "iopub.status.busy": "2022-04-18T21:55:20.692560Z",
     "iopub.status.idle": "2022-04-18T21:55:20.698134Z",
     "shell.execute_reply": "2022-04-18T21:55:20.697518Z"
    }
   },
   "outputs": [
    {
     "data": {
      "text/plain": [
       "sympy.core.function.UndefinedFunction"
      ]
     },
     "execution_count": 8,
     "metadata": {},
     "output_type": "execute_result"
    }
   ],
   "source": [
    "type(f)"
   ]
  },
  {
   "cell_type": "code",
   "execution_count": 9,
   "id": "2f6e4f15",
   "metadata": {
    "execution": {
     "iopub.execute_input": "2022-04-18T21:55:20.701730Z",
     "iopub.status.busy": "2022-04-18T21:55:20.701179Z",
     "iopub.status.idle": "2022-04-18T21:55:20.706239Z",
     "shell.execute_reply": "2022-04-18T21:55:20.705601Z"
    }
   },
   "outputs": [
    {
     "data": {
      "text/latex": [
       "$\\displaystyle f{\\left(t \\right)}$"
      ],
      "text/plain": [
       "f(t)"
      ]
     },
     "execution_count": 9,
     "metadata": {},
     "output_type": "execute_result"
    }
   ],
   "source": [
    "f(t)"
   ]
  },
  {
   "cell_type": "code",
   "execution_count": 10,
   "id": "66333669",
   "metadata": {
    "execution": {
     "iopub.execute_input": "2022-04-18T21:55:20.709399Z",
     "iopub.status.busy": "2022-04-18T21:55:20.708978Z",
     "iopub.status.idle": "2022-04-18T21:55:20.714690Z",
     "shell.execute_reply": "2022-04-18T21:55:20.714064Z"
    }
   },
   "outputs": [
    {
     "data": {
      "text/plain": [
       "f"
      ]
     },
     "execution_count": 10,
     "metadata": {},
     "output_type": "execute_result"
    }
   ],
   "source": [
    "type(f(t))"
   ]
  },
  {
   "cell_type": "code",
   "execution_count": 11,
   "id": "99a4d868",
   "metadata": {
    "execution": {
     "iopub.execute_input": "2022-04-18T21:55:20.717608Z",
     "iopub.status.busy": "2022-04-18T21:55:20.717197Z",
     "iopub.status.idle": "2022-04-18T21:55:20.722704Z",
     "shell.execute_reply": "2022-04-18T21:55:20.722066Z"
    }
   },
   "outputs": [
    {
     "data": {
      "text/latex": [
       "$\\displaystyle f{\\left(a,b,\\omega,t \\right)}$"
      ],
      "text/plain": [
       "f(a, b, ω, t)"
      ]
     },
     "execution_count": 11,
     "metadata": {},
     "output_type": "execute_result"
    }
   ],
   "source": [
    "f(a, b, omega, t)"
   ]
  },
  {
   "cell_type": "code",
   "execution_count": 12,
   "id": "16472d73",
   "metadata": {
    "execution": {
     "iopub.execute_input": "2022-04-18T21:55:20.726364Z",
     "iopub.status.busy": "2022-04-18T21:55:20.725866Z",
     "iopub.status.idle": "2022-04-18T21:55:21.017194Z",
     "shell.execute_reply": "2022-04-18T21:55:21.016257Z"
    }
   },
   "outputs": [
    {
     "data": {
      "text/latex": [
       "$\\displaystyle a + \\frac{b}{\\omega^{2}}$"
      ],
      "text/plain": [
       "    b \n",
       "a + ──\n",
       "     2\n",
       "    ω "
      ]
     },
     "execution_count": 12,
     "metadata": {},
     "output_type": "execute_result"
    }
   ],
   "source": [
    "expr1 = a + b/omega**2\n",
    "expr1"
   ]
  },
  {
   "cell_type": "code",
   "execution_count": 13,
   "id": "6974028d",
   "metadata": {
    "execution": {
     "iopub.execute_input": "2022-04-18T21:55:21.021933Z",
     "iopub.status.busy": "2022-04-18T21:55:21.021717Z",
     "iopub.status.idle": "2022-04-18T21:55:21.028389Z",
     "shell.execute_reply": "2022-04-18T21:55:21.025985Z"
    }
   },
   "outputs": [
    {
     "data": {
      "text/plain": [
       "sympy.core.add.Add"
      ]
     },
     "execution_count": 13,
     "metadata": {},
     "output_type": "execute_result"
    }
   ],
   "source": [
    "type(expr1)"
   ]
  },
  {
   "cell_type": "code",
   "execution_count": 14,
   "id": "f02e4d6e",
   "metadata": {
    "execution": {
     "iopub.execute_input": "2022-04-18T21:55:21.032088Z",
     "iopub.status.busy": "2022-04-18T21:55:21.031596Z",
     "iopub.status.idle": "2022-04-18T21:55:21.038197Z",
     "shell.execute_reply": "2022-04-18T21:55:21.037552Z"
    }
   },
   "outputs": [
    {
     "data": {
      "text/plain": [
       "\"Add(Symbol('a'), Mul(Symbol('b'), Pow(Symbol('omega'), Integer(-2))))\""
      ]
     },
     "execution_count": 14,
     "metadata": {},
     "output_type": "execute_result"
    }
   ],
   "source": [
    "sm.srepr(expr1)"
   ]
  },
  {
   "cell_type": "code",
   "execution_count": 15,
   "id": "47704493",
   "metadata": {
    "execution": {
     "iopub.execute_input": "2022-04-18T21:55:21.044059Z",
     "iopub.status.busy": "2022-04-18T21:55:21.041336Z",
     "iopub.status.idle": "2022-04-18T21:55:21.052829Z",
     "shell.execute_reply": "2022-04-18T21:55:21.049894Z"
    }
   },
   "outputs": [
    {
     "data": {
      "text/latex": [
       "$\\displaystyle a \\omega + f{\\left(t \\right)}$"
      ],
      "text/plain": [
       "a⋅ω + f(t)"
      ]
     },
     "execution_count": 15,
     "metadata": {},
     "output_type": "execute_result"
    }
   ],
   "source": [
    "expr2 = f(t) + a*omega\n",
    "expr2"
   ]
  },
  {
   "cell_type": "code",
   "execution_count": 16,
   "id": "c0b02fa5",
   "metadata": {
    "execution": {
     "iopub.execute_input": "2022-04-18T21:55:21.055789Z",
     "iopub.status.busy": "2022-04-18T21:55:21.055368Z",
     "iopub.status.idle": "2022-04-18T21:55:21.064652Z",
     "shell.execute_reply": "2022-04-18T21:55:21.064029Z"
    }
   },
   "outputs": [
    {
     "data": {
      "text/latex": [
       "$\\displaystyle a \\sin{\\left(\\omega \\right)} + \\frac{\\left|{f{\\left(t \\right)}}\\right|}{\\sqrt{b}}$"
      ],
      "text/plain": [
       "           │f(t)│\n",
       "a⋅sin(ω) + ──────\n",
       "             √b  "
      ]
     },
     "execution_count": 16,
     "metadata": {},
     "output_type": "execute_result"
    }
   ],
   "source": [
    "expr3 = a*sm.sin(omega) + sm.Abs(f(t))/sm.sqrt(b)\n",
    "expr3"
   ]
  },
  {
   "cell_type": "code",
   "execution_count": 17,
   "id": "6914ee95",
   "metadata": {
    "execution": {
     "iopub.execute_input": "2022-04-18T21:55:21.067965Z",
     "iopub.status.busy": "2022-04-18T21:55:21.067455Z",
     "iopub.status.idle": "2022-04-18T21:55:21.075655Z",
     "shell.execute_reply": "2022-04-18T21:55:21.075043Z"
    }
   },
   "outputs": [
    {
     "data": {
      "text/latex": [
       "$\\displaystyle 5 \\sin{\\left(12 \\right)} + 105.986768359379$"
      ],
      "text/plain": [
       "5⋅sin(12) + 105.986768359379"
      ]
     },
     "execution_count": 17,
     "metadata": {},
     "output_type": "execute_result"
    }
   ],
   "source": [
    "expr4 = 5*sm.sin(12) + sm.Abs(-1001)/sm.sqrt(89.2)\n",
    "expr4"
   ]
  },
  {
   "cell_type": "code",
   "execution_count": 18,
   "id": "f117df46",
   "metadata": {
    "execution": {
     "iopub.execute_input": "2022-04-18T21:55:21.078992Z",
     "iopub.status.busy": "2022-04-18T21:55:21.078501Z",
     "iopub.status.idle": "2022-04-18T21:55:21.084207Z",
     "shell.execute_reply": "2022-04-18T21:55:21.083593Z"
    }
   },
   "outputs": [
    {
     "data": {
      "text/latex": [
       "$\\displaystyle 0.5 a$"
      ],
      "text/plain": [
       "0.5⋅a"
      ]
     },
     "execution_count": 18,
     "metadata": {},
     "output_type": "execute_result"
    }
   ],
   "source": [
    "1/2*a"
   ]
  },
  {
   "cell_type": "code",
   "execution_count": 19,
   "id": "b8e8bc6a",
   "metadata": {
    "execution": {
     "iopub.execute_input": "2022-04-18T21:55:21.087981Z",
     "iopub.status.busy": "2022-04-18T21:55:21.087485Z",
     "iopub.status.idle": "2022-04-18T21:55:21.092649Z",
     "shell.execute_reply": "2022-04-18T21:55:21.092054Z"
    }
   },
   "outputs": [
    {
     "data": {
      "text/latex": [
       "$\\displaystyle \\frac{a}{2}$"
      ],
      "text/plain": [
       "a\n",
       "─\n",
       "2"
      ]
     },
     "execution_count": 19,
     "metadata": {},
     "output_type": "execute_result"
    }
   ],
   "source": [
    "sm.S(1)/2*a"
   ]
  },
  {
   "cell_type": "code",
   "execution_count": 20,
   "id": "1ecf21df",
   "metadata": {
    "execution": {
     "iopub.execute_input": "2022-04-18T21:55:21.095896Z",
     "iopub.status.busy": "2022-04-18T21:55:21.095413Z",
     "iopub.status.idle": "2022-04-18T21:55:21.104980Z",
     "shell.execute_reply": "2022-04-18T21:55:21.104315Z"
    }
   },
   "outputs": [
    {
     "data": {
      "text/latex": [
       "$\\displaystyle t \\sin{\\left(\\omega f{\\left(t \\right)} \\right)} + \\frac{f{\\left(t \\right)}}{\\sqrt{t}}$"
      ],
      "text/plain": [
       "                f(t)\n",
       "t⋅sin(ω⋅f(t)) + ────\n",
       "                 √t "
      ]
     },
     "execution_count": 20,
     "metadata": {},
     "output_type": "execute_result"
    }
   ],
   "source": [
    "expr5 = t*sm.sin(omega*f(t)) + f(t)/sm.sqrt(t)\n",
    "expr5"
   ]
  },
  {
   "cell_type": "code",
   "execution_count": 21,
   "id": "c3699f77",
   "metadata": {
    "execution": {
     "iopub.execute_input": "2022-04-18T21:55:21.108889Z",
     "iopub.status.busy": "2022-04-18T21:55:21.108358Z",
     "iopub.status.idle": "2022-04-18T21:55:21.114328Z",
     "shell.execute_reply": "2022-04-18T21:55:21.113666Z"
    }
   },
   "outputs": [
    {
     "data": {
      "text/plain": [
       "\"Add(Mul(Symbol('a'), sin(Symbol('omega'))), Mul(Pow(Symbol('b'), Rational(-1, 2)), Abs(Function('f')(Symbol('t')))))\""
      ]
     },
     "execution_count": 21,
     "metadata": {},
     "output_type": "execute_result"
    }
   ],
   "source": [
    "sm.srepr(expr3)"
   ]
  },
  {
   "cell_type": "code",
   "execution_count": 22,
   "id": "3a7ea80b",
   "metadata": {
    "execution": {
     "iopub.execute_input": "2022-04-18T21:55:21.117944Z",
     "iopub.status.busy": "2022-04-18T21:55:21.117447Z",
     "iopub.status.idle": "2022-04-18T21:55:21.123554Z",
     "shell.execute_reply": "2022-04-18T21:55:21.122886Z"
    }
   },
   "outputs": [
    {
     "data": {
      "text/plain": [
       "'a*sin(omega) + Abs(f(t))/sqrt(b)'"
      ]
     },
     "execution_count": 22,
     "metadata": {},
     "output_type": "execute_result"
    }
   ],
   "source": [
    "repr(expr3)"
   ]
  },
  {
   "cell_type": "code",
   "execution_count": 23,
   "id": "7a74f269",
   "metadata": {
    "execution": {
     "iopub.execute_input": "2022-04-18T21:55:21.126834Z",
     "iopub.status.busy": "2022-04-18T21:55:21.126320Z",
     "iopub.status.idle": "2022-04-18T21:55:21.131699Z",
     "shell.execute_reply": "2022-04-18T21:55:21.130694Z"
    }
   },
   "outputs": [
    {
     "name": "stdout",
     "output_type": "stream",
     "text": [
      "a*sin(omega) + Abs(f(t))/sqrt(b)\n"
     ]
    }
   ],
   "source": [
    "print(expr3)"
   ]
  },
  {
   "cell_type": "code",
   "execution_count": 24,
   "id": "551233af",
   "metadata": {
    "execution": {
     "iopub.execute_input": "2022-04-18T21:55:21.135493Z",
     "iopub.status.busy": "2022-04-18T21:55:21.135000Z",
     "iopub.status.idle": "2022-04-18T21:55:21.140524Z",
     "shell.execute_reply": "2022-04-18T21:55:21.139892Z"
    }
   },
   "outputs": [
    {
     "name": "stdout",
     "output_type": "stream",
     "text": [
      "           │f(t)│\n",
      "a⋅sin(ω) + ──────\n",
      "             √b  \n"
     ]
    }
   ],
   "source": [
    "sm.pprint(expr3)"
   ]
  },
  {
   "cell_type": "code",
   "execution_count": 25,
   "id": "a4dda937",
   "metadata": {
    "execution": {
     "iopub.execute_input": "2022-04-18T21:55:21.144350Z",
     "iopub.status.busy": "2022-04-18T21:55:21.143873Z",
     "iopub.status.idle": "2022-04-18T21:55:21.150716Z",
     "shell.execute_reply": "2022-04-18T21:55:21.150005Z"
    }
   },
   "outputs": [
    {
     "data": {
      "text/plain": [
       "'a \\\\sin{\\\\left(\\\\omega \\\\right)} + \\\\frac{\\\\left|{f{\\\\left(t \\\\right)}}\\\\right|}{\\\\sqrt{b}}'"
      ]
     },
     "execution_count": 25,
     "metadata": {},
     "output_type": "execute_result"
    }
   ],
   "source": [
    "sm.latex(expr3)"
   ]
  },
  {
   "cell_type": "code",
   "execution_count": 26,
   "id": "f8b354b9",
   "metadata": {
    "execution": {
     "iopub.execute_input": "2022-04-18T21:55:21.153749Z",
     "iopub.status.busy": "2022-04-18T21:55:21.153247Z",
     "iopub.status.idle": "2022-04-18T21:55:21.157473Z",
     "shell.execute_reply": "2022-04-18T21:55:21.156835Z"
    }
   },
   "outputs": [
    {
     "name": "stdout",
     "output_type": "stream",
     "text": [
      "a \\sin{\\left(\\omega \\right)} + \\frac{\\left|{f{\\left(t \\right)}}\\right|}{\\sqrt{b}}\n"
     ]
    }
   ],
   "source": [
    "print(sm.latex(expr3))"
   ]
  },
  {
   "cell_type": "code",
   "execution_count": 27,
   "id": "f93ae0b9",
   "metadata": {
    "execution": {
     "iopub.execute_input": "2022-04-18T21:55:21.160836Z",
     "iopub.status.busy": "2022-04-18T21:55:21.160440Z",
     "iopub.status.idle": "2022-04-18T21:55:21.166706Z",
     "shell.execute_reply": "2022-04-18T21:55:21.166073Z"
    }
   },
   "outputs": [
    {
     "data": {
      "text/latex": [
       "$\\displaystyle \\frac{d}{d t} f{\\left(t \\right)}$"
      ],
      "text/plain": [
       "d       \n",
       "──(f(t))\n",
       "dt      "
      ]
     },
     "execution_count": 27,
     "metadata": {},
     "output_type": "execute_result"
    }
   ],
   "source": [
    "sm.diff(f(t), t)"
   ]
  },
  {
   "cell_type": "code",
   "execution_count": 28,
   "id": "202f3790",
   "metadata": {
    "execution": {
     "iopub.execute_input": "2022-04-18T21:55:21.170877Z",
     "iopub.status.busy": "2022-04-18T21:55:21.170234Z",
     "iopub.status.idle": "2022-04-18T21:55:21.176711Z",
     "shell.execute_reply": "2022-04-18T21:55:21.176049Z"
    }
   },
   "outputs": [
    {
     "data": {
      "text/latex": [
       "$\\displaystyle \\frac{d}{d t} f{\\left(t \\right)}$"
      ],
      "text/plain": [
       "d       \n",
       "──(f(t))\n",
       "dt      "
      ]
     },
     "execution_count": 28,
     "metadata": {},
     "output_type": "execute_result"
    }
   ],
   "source": [
    "f(t).diff(t)"
   ]
  },
  {
   "cell_type": "code",
   "execution_count": 29,
   "id": "879f2007",
   "metadata": {
    "execution": {
     "iopub.execute_input": "2022-04-18T21:55:21.179804Z",
     "iopub.status.busy": "2022-04-18T21:55:21.179341Z",
     "iopub.status.idle": "2022-04-18T21:55:21.188036Z",
     "shell.execute_reply": "2022-04-18T21:55:21.187345Z"
    }
   },
   "outputs": [
    {
     "data": {
      "text/latex": [
       "$\\displaystyle a \\sin{\\left(\\omega \\right)} + \\frac{\\left|{f{\\left(t \\right)}}\\right|}{\\sqrt{b}}$"
      ],
      "text/plain": [
       "           │f(t)│\n",
       "a⋅sin(ω) + ──────\n",
       "             √b  "
      ]
     },
     "execution_count": 29,
     "metadata": {},
     "output_type": "execute_result"
    }
   ],
   "source": [
    "expr3"
   ]
  },
  {
   "cell_type": "code",
   "execution_count": 30,
   "id": "fd499584",
   "metadata": {
    "execution": {
     "iopub.execute_input": "2022-04-18T21:55:21.191015Z",
     "iopub.status.busy": "2022-04-18T21:55:21.190620Z",
     "iopub.status.idle": "2022-04-18T21:55:21.204803Z",
     "shell.execute_reply": "2022-04-18T21:55:21.204242Z"
    }
   },
   "outputs": [
    {
     "data": {
      "text/latex": [
       "$\\displaystyle - \\frac{\\left|{f{\\left(t \\right)}}\\right|}{2 b^{\\frac{3}{2}}}$"
      ],
      "text/plain": [
       "-│f(t)│ \n",
       "────────\n",
       "    3/2 \n",
       " 2⋅b    "
      ]
     },
     "execution_count": 30,
     "metadata": {},
     "output_type": "execute_result"
    }
   ],
   "source": [
    "expr3.diff(b)"
   ]
  },
  {
   "cell_type": "code",
   "execution_count": 31,
   "id": "ae814ee5",
   "metadata": {
    "execution": {
     "iopub.execute_input": "2022-04-18T21:55:21.207748Z",
     "iopub.status.busy": "2022-04-18T21:55:21.207261Z",
     "iopub.status.idle": "2022-04-18T21:55:21.239863Z",
     "shell.execute_reply": "2022-04-18T21:55:21.238768Z"
    }
   },
   "outputs": [
    {
     "data": {
      "text/latex": [
       "$\\displaystyle - \\frac{\\left(\\operatorname{re}{\\left(f{\\left(t \\right)}\\right)} \\frac{d}{d t} \\operatorname{re}{\\left(f{\\left(t \\right)}\\right)} + \\operatorname{im}{\\left(f{\\left(t \\right)}\\right)} \\frac{d}{d t} \\operatorname{im}{\\left(f{\\left(t \\right)}\\right)}\\right) \\operatorname{sign}{\\left(f{\\left(t \\right)} \\right)}}{2 b^{\\frac{3}{2}} f{\\left(t \\right)}}$"
      ],
      "text/plain": [
       " ⎛         d                       d           ⎞            \n",
       "-⎜re(f(t))⋅──(re(f(t))) + im(f(t))⋅──(im(f(t)))⎟⋅sign(f(t)) \n",
       " ⎝         dt                      dt          ⎠            \n",
       "────────────────────────────────────────────────────────────\n",
       "                           3/2                              \n",
       "                        2⋅b   ⋅f(t)                         "
      ]
     },
     "execution_count": 31,
     "metadata": {},
     "output_type": "execute_result"
    }
   ],
   "source": [
    "expr3.diff(b, t)"
   ]
  },
  {
   "cell_type": "code",
   "execution_count": 32,
   "id": "63b3ab4c",
   "metadata": {
    "execution": {
     "iopub.execute_input": "2022-04-18T21:55:21.242983Z",
     "iopub.status.busy": "2022-04-18T21:55:21.242529Z",
     "iopub.status.idle": "2022-04-18T21:55:21.271760Z",
     "shell.execute_reply": "2022-04-18T21:55:21.270717Z"
    }
   },
   "outputs": [
    {
     "data": {
      "text/latex": [
       "$\\displaystyle \\frac{\\left(\\operatorname{re}{\\left(h{\\left(t \\right)}\\right)} \\frac{d}{d t} \\operatorname{re}{\\left(h{\\left(t \\right)}\\right)} + \\operatorname{im}{\\left(h{\\left(t \\right)}\\right)} \\frac{d}{d t} \\operatorname{im}{\\left(h{\\left(t \\right)}\\right)}\\right) \\operatorname{sign}{\\left(h{\\left(t \\right)} \\right)}}{h{\\left(t \\right)}}$"
      ],
      "text/plain": [
       "⎛         d                       d           ⎞           \n",
       "⎜re(h(t))⋅──(re(h(t))) + im(h(t))⋅──(im(h(t)))⎟⋅sign(h(t))\n",
       "⎝         dt                      dt          ⎠           \n",
       "──────────────────────────────────────────────────────────\n",
       "                           h(t)                           "
      ]
     },
     "execution_count": 32,
     "metadata": {},
     "output_type": "execute_result"
    }
   ],
   "source": [
    "h = sm.Function('h')\n",
    "sm.Abs(h(t)).diff(t)"
   ]
  },
  {
   "cell_type": "code",
   "execution_count": 33,
   "id": "61ad5dc4",
   "metadata": {
    "execution": {
     "iopub.execute_input": "2022-04-18T21:55:21.275718Z",
     "iopub.status.busy": "2022-04-18T21:55:21.275198Z",
     "iopub.status.idle": "2022-04-18T21:55:21.286636Z",
     "shell.execute_reply": "2022-04-18T21:55:21.285831Z"
    }
   },
   "outputs": [
    {
     "data": {
      "text/latex": [
       "$\\displaystyle \\operatorname{sign}{\\left(h{\\left(t \\right)} \\right)} \\frac{d}{d t} h{\\left(t \\right)}$"
      ],
      "text/plain": [
       "           d       \n",
       "sign(h(t))⋅──(h(t))\n",
       "           dt      "
      ]
     },
     "execution_count": 33,
     "metadata": {},
     "output_type": "execute_result"
    }
   ],
   "source": [
    "h = sm.Function('h', real=True)\n",
    "sm.Abs(h(t)).diff(t)"
   ]
  },
  {
   "cell_type": "code",
   "execution_count": 34,
   "id": "31a811dc",
   "metadata": {
    "execution": {
     "iopub.execute_input": "2022-04-18T21:55:21.289694Z",
     "iopub.status.busy": "2022-04-18T21:55:21.289085Z",
     "iopub.status.idle": "2022-04-18T21:55:21.296227Z",
     "shell.execute_reply": "2022-04-18T21:55:21.295618Z"
    }
   },
   "outputs": [
    {
     "data": {
      "text/latex": [
       "$\\displaystyle \\frac{d}{d t} h{\\left(t \\right)}$"
      ],
      "text/plain": [
       "d       \n",
       "──(h(t))\n",
       "dt      "
      ]
     },
     "execution_count": 34,
     "metadata": {},
     "output_type": "execute_result"
    }
   ],
   "source": [
    "h = sm.Function('h', real=True, positive=True)\n",
    "sm.Abs(h(t)).diff(t)"
   ]
  },
  {
   "cell_type": "code",
   "execution_count": 35,
   "id": "8166ba23",
   "metadata": {
    "execution": {
     "iopub.execute_input": "2022-04-18T21:55:21.299546Z",
     "iopub.status.busy": "2022-04-18T21:55:21.299063Z",
     "iopub.status.idle": "2022-04-18T21:55:21.305698Z",
     "shell.execute_reply": "2022-04-18T21:55:21.305043Z"
    }
   },
   "outputs": [
    {
     "data": {
      "text/latex": [
       "$\\displaystyle t \\sin{\\left(\\omega f{\\left(t \\right)} \\right)} + \\frac{f{\\left(t \\right)}}{\\sqrt{t}}$"
      ],
      "text/plain": [
       "                f(t)\n",
       "t⋅sin(ω⋅f(t)) + ────\n",
       "                 √t "
      ]
     },
     "execution_count": 35,
     "metadata": {},
     "output_type": "execute_result"
    }
   ],
   "source": [
    "expr5"
   ]
  },
  {
   "cell_type": "code",
   "execution_count": 36,
   "id": "a21ad156",
   "metadata": {
    "execution": {
     "iopub.execute_input": "2022-04-18T21:55:21.309218Z",
     "iopub.status.busy": "2022-04-18T21:55:21.308654Z",
     "iopub.status.idle": "2022-04-18T21:55:21.332043Z",
     "shell.execute_reply": "2022-04-18T21:55:21.331372Z"
    }
   },
   "outputs": [
    {
     "data": {
      "text/latex": [
       "$\\displaystyle \\omega t \\cos{\\left(\\omega f{\\left(t \\right)} \\right)} \\frac{d}{d t} f{\\left(t \\right)} + \\sin{\\left(\\omega f{\\left(t \\right)} \\right)} + \\frac{\\frac{d}{d t} f{\\left(t \\right)}}{\\sqrt{t}} - \\frac{f{\\left(t \\right)}}{2 t^{\\frac{3}{2}}}$"
      ],
      "text/plain": [
       "                                         d                \n",
       "                                         ──(f(t))         \n",
       "                d                        dt          f(t) \n",
       "ω⋅t⋅cos(ω⋅f(t))⋅──(f(t)) + sin(ω⋅f(t)) + ──────── - ──────\n",
       "                dt                          √t         3/2\n",
       "                                                    2⋅t   "
      ]
     },
     "execution_count": 36,
     "metadata": {},
     "output_type": "execute_result"
    }
   ],
   "source": [
    "expr5.diff(t)"
   ]
  },
  {
   "cell_type": "code",
   "execution_count": 37,
   "id": "cce8a5c9",
   "metadata": {
    "execution": {
     "iopub.execute_input": "2022-04-18T21:55:21.335126Z",
     "iopub.status.busy": "2022-04-18T21:55:21.334822Z",
     "iopub.status.idle": "2022-04-18T21:55:21.338252Z",
     "shell.execute_reply": "2022-04-18T21:55:21.337724Z"
    }
   },
   "outputs": [],
   "source": [
    "repl = {omega: sm.pi/4, a: 2, f(t): -12, b: 25}"
   ]
  },
  {
   "cell_type": "code",
   "execution_count": 38,
   "id": "9383eea4",
   "metadata": {
    "execution": {
     "iopub.execute_input": "2022-04-18T21:55:21.344750Z",
     "iopub.status.busy": "2022-04-18T21:55:21.344216Z",
     "iopub.status.idle": "2022-04-18T21:55:21.355561Z",
     "shell.execute_reply": "2022-04-18T21:55:21.354666Z"
    }
   },
   "outputs": [
    {
     "data": {
      "text/latex": [
       "$\\displaystyle \\sqrt{2} + \\frac{12}{5}$"
      ],
      "text/plain": [
       "√2 + 12/5"
      ]
     },
     "execution_count": 38,
     "metadata": {},
     "output_type": "execute_result"
    }
   ],
   "source": [
    "expr3.xreplace(repl)"
   ]
  },
  {
   "cell_type": "code",
   "execution_count": 39,
   "id": "d1bc211d",
   "metadata": {
    "execution": {
     "iopub.execute_input": "2022-04-18T21:55:21.360040Z",
     "iopub.status.busy": "2022-04-18T21:55:21.359540Z",
     "iopub.status.idle": "2022-04-18T21:55:21.366046Z",
     "shell.execute_reply": "2022-04-18T21:55:21.365417Z"
    }
   },
   "outputs": [
    {
     "data": {
      "text/latex": [
       "$\\displaystyle 3.81421356237309504880168872421$"
      ],
      "text/plain": [
       "3.814213562373095048801688724210"
      ]
     },
     "execution_count": 39,
     "metadata": {},
     "output_type": "execute_result"
    }
   ],
   "source": [
    "expr3.evalf(n=31, subs=repl)"
   ]
  },
  {
   "cell_type": "code",
   "execution_count": 40,
   "id": "b19fba70",
   "metadata": {
    "execution": {
     "iopub.execute_input": "2022-04-18T21:55:21.369970Z",
     "iopub.status.busy": "2022-04-18T21:55:21.369459Z",
     "iopub.status.idle": "2022-04-18T21:55:21.375624Z",
     "shell.execute_reply": "2022-04-18T21:55:21.374928Z"
    }
   },
   "outputs": [
    {
     "data": {
      "text/plain": [
       "sympy.core.numbers.Float"
      ]
     },
     "execution_count": 40,
     "metadata": {},
     "output_type": "execute_result"
    }
   ],
   "source": [
    "type(expr3.evalf(n=31, subs=repl))"
   ]
  },
  {
   "cell_type": "code",
   "execution_count": 41,
   "id": "2bf7ff64",
   "metadata": {
    "execution": {
     "iopub.execute_input": "2022-04-18T21:55:21.380117Z",
     "iopub.status.busy": "2022-04-18T21:55:21.379559Z",
     "iopub.status.idle": "2022-04-18T21:55:21.386381Z",
     "shell.execute_reply": "2022-04-18T21:55:21.385763Z"
    }
   },
   "outputs": [
    {
     "data": {
      "text/latex": [
       "$\\displaystyle 3.81421356237309504880168872420969807856967187537694807317667973799073247846210703885038753432764157273501384623091229702492483605585073721264412149709993583141322266592750559275579995050115278206057147010955997160597027453459686201472851741864088919860955232923048430871432145083976260362799525140799$"
      ],
      "text/plain": [
       "3.8142135623730950488016887242096980785696718753769480731766797379907324784621\n",
       "070388503875343276415727350138462309122970249248360558507372126441214970999358\n",
       "314132226659275055927557999505011527820605714701095599716059702745345968620147\n",
       "2851741864088919860955232923048430871432145083976260362799525140799"
      ]
     },
     "execution_count": 41,
     "metadata": {},
     "output_type": "execute_result"
    }
   ],
   "source": [
    "expr3.evalf(n=300, subs=repl)"
   ]
  },
  {
   "cell_type": "code",
   "execution_count": 42,
   "id": "6787610f",
   "metadata": {
    "execution": {
     "iopub.execute_input": "2022-04-18T21:55:21.389746Z",
     "iopub.status.busy": "2022-04-18T21:55:21.389213Z",
     "iopub.status.idle": "2022-04-18T21:55:21.398251Z",
     "shell.execute_reply": "2022-04-18T21:55:21.397719Z"
    }
   },
   "outputs": [
    {
     "data": {
      "text/latex": [
       "$\\displaystyle 3.81421356237309$"
      ],
      "text/plain": [
       "3.814213562373095"
      ]
     },
     "execution_count": 42,
     "metadata": {},
     "output_type": "execute_result"
    }
   ],
   "source": [
    "float(expr3.evalf(n=300, subs=repl))"
   ]
  },
  {
   "cell_type": "code",
   "execution_count": 43,
   "id": "18e66104",
   "metadata": {
    "execution": {
     "iopub.execute_input": "2022-04-18T21:55:21.401022Z",
     "iopub.status.busy": "2022-04-18T21:55:21.400705Z",
     "iopub.status.idle": "2022-04-18T21:55:21.407202Z",
     "shell.execute_reply": "2022-04-18T21:55:21.406504Z"
    }
   },
   "outputs": [
    {
     "data": {
      "text/plain": [
       "float"
      ]
     },
     "execution_count": 43,
     "metadata": {},
     "output_type": "execute_result"
    }
   ],
   "source": [
    "type(float(expr3.evalf(n=300, subs=repl)))"
   ]
  },
  {
   "cell_type": "code",
   "execution_count": 44,
   "id": "0b216faf",
   "metadata": {
    "execution": {
     "iopub.execute_input": "2022-04-18T21:55:21.410752Z",
     "iopub.status.busy": "2022-04-18T21:55:21.410279Z",
     "iopub.status.idle": "2022-04-18T21:55:21.618602Z",
     "shell.execute_reply": "2022-04-18T21:55:21.618049Z"
    }
   },
   "outputs": [],
   "source": [
    "eval_expr3 = sm.lambdify((omega, a, f(t), b), expr3)"
   ]
  },
  {
   "cell_type": "code",
   "execution_count": 45,
   "id": "379b4e73",
   "metadata": {
    "execution": {
     "iopub.execute_input": "2022-04-18T21:55:21.622228Z",
     "iopub.status.busy": "2022-04-18T21:55:21.621903Z",
     "iopub.status.idle": "2022-04-18T21:55:21.625580Z",
     "shell.execute_reply": "2022-04-18T21:55:21.625081Z"
    }
   },
   "outputs": [
    {
     "name": "stdout",
     "output_type": "stream",
     "text": [
      "Help on function _lambdifygenerated:\n",
      "\n",
      "_lambdifygenerated(omega, a, _Dummy_23, b)\n",
      "    Created with lambdify. Signature:\n",
      "    \n",
      "    func(omega, a, f, b)\n",
      "    \n",
      "    Expression:\n",
      "    \n",
      "    a*sin(omega) + Abs(f(t))/sqrt(b)\n",
      "    \n",
      "    Source code:\n",
      "    \n",
      "    def _lambdifygenerated(omega, a, _Dummy_23, b):\n",
      "        return a*sin(omega) + abs(_Dummy_23)/sqrt(b)\n",
      "    \n",
      "    \n",
      "    Imported modules:\n",
      "\n"
     ]
    }
   ],
   "source": [
    "help(eval_expr3)"
   ]
  },
  {
   "cell_type": "code",
   "execution_count": 46,
   "id": "1a4871d7",
   "metadata": {
    "execution": {
     "iopub.execute_input": "2022-04-18T21:55:21.628732Z",
     "iopub.status.busy": "2022-04-18T21:55:21.628346Z",
     "iopub.status.idle": "2022-04-18T21:55:21.633114Z",
     "shell.execute_reply": "2022-04-18T21:55:21.632651Z"
    }
   },
   "outputs": [
    {
     "data": {
      "text/latex": [
       "$\\displaystyle 3.81365036221073$"
      ],
      "text/plain": [
       "3.8136503622107316"
      ]
     },
     "execution_count": 46,
     "metadata": {},
     "output_type": "execute_result"
    }
   ],
   "source": [
    "eval_expr3(3.14/4, 2, -12, 25)"
   ]
  },
  {
   "cell_type": "code",
   "execution_count": 47,
   "id": "6824ad39",
   "metadata": {
    "execution": {
     "iopub.execute_input": "2022-04-18T21:55:21.635642Z",
     "iopub.status.busy": "2022-04-18T21:55:21.635454Z",
     "iopub.status.idle": "2022-04-18T21:55:21.642141Z",
     "shell.execute_reply": "2022-04-18T21:55:21.641536Z"
    }
   },
   "outputs": [
    {
     "data": {
      "text/plain": [
       "numpy.float64"
      ]
     },
     "execution_count": 47,
     "metadata": {},
     "output_type": "execute_result"
    }
   ],
   "source": [
    "type(eval_expr3(3.14/4, 2, -12, 25))"
   ]
  },
  {
   "cell_type": "code",
   "execution_count": 48,
   "id": "a9ff90d3",
   "metadata": {
    "execution": {
     "iopub.execute_input": "2022-04-18T21:55:21.644830Z",
     "iopub.status.busy": "2022-04-18T21:55:21.644638Z",
     "iopub.status.idle": "2022-04-18T21:55:21.653203Z",
     "shell.execute_reply": "2022-04-18T21:55:21.652569Z"
    }
   },
   "outputs": [
    {
     "data": {
      "text/latex": [
       "$\\displaystyle \\left[\\begin{matrix}a & 2 a\\\\\\frac{b}{\\omega} & f{\\left(t \\right)}\\end{matrix}\\right]$"
      ],
      "text/plain": [
       "⎡a  2⋅a ⎤\n",
       "⎢       ⎥\n",
       "⎢b      ⎥\n",
       "⎢─  f(t)⎥\n",
       "⎣ω      ⎦"
      ]
     },
     "execution_count": 48,
     "metadata": {},
     "output_type": "execute_result"
    }
   ],
   "source": [
    "mat1 = sm.Matrix([[a, 2*a], [b/omega, f(t)]])\n",
    "mat1"
   ]
  },
  {
   "cell_type": "code",
   "execution_count": 49,
   "id": "9d77c88e",
   "metadata": {
    "execution": {
     "iopub.execute_input": "2022-04-18T21:55:21.656026Z",
     "iopub.status.busy": "2022-04-18T21:55:21.655623Z",
     "iopub.status.idle": "2022-04-18T21:55:21.661654Z",
     "shell.execute_reply": "2022-04-18T21:55:21.661004Z"
    }
   },
   "outputs": [
    {
     "data": {
      "text/latex": [
       "$\\displaystyle \\left[\\begin{matrix}1 & 2\\\\3 & 4\\end{matrix}\\right]$"
      ],
      "text/plain": [
       "⎡1  2⎤\n",
       "⎢    ⎥\n",
       "⎣3  4⎦"
      ]
     },
     "execution_count": 49,
     "metadata": {},
     "output_type": "execute_result"
    }
   ],
   "source": [
    "mat2 = sm.Matrix([[1, 2], [3, 4]])\n",
    "mat2"
   ]
  },
  {
   "cell_type": "code",
   "execution_count": 50,
   "id": "0a7ac232",
   "metadata": {
    "execution": {
     "iopub.execute_input": "2022-04-18T21:55:21.665566Z",
     "iopub.status.busy": "2022-04-18T21:55:21.665074Z",
     "iopub.status.idle": "2022-04-18T21:55:21.670566Z",
     "shell.execute_reply": "2022-04-18T21:55:21.669852Z"
    }
   },
   "outputs": [
    {
     "data": {
      "text/latex": [
       "$\\displaystyle \\left( 2, \\  2\\right)$"
      ],
      "text/plain": [
       "(2, 2)"
      ]
     },
     "execution_count": 50,
     "metadata": {},
     "output_type": "execute_result"
    }
   ],
   "source": [
    "mat1.shape"
   ]
  },
  {
   "cell_type": "code",
   "execution_count": 51,
   "id": "f3f8ae1a",
   "metadata": {
    "execution": {
     "iopub.execute_input": "2022-04-18T21:55:21.674266Z",
     "iopub.status.busy": "2022-04-18T21:55:21.673858Z",
     "iopub.status.idle": "2022-04-18T21:55:21.678779Z",
     "shell.execute_reply": "2022-04-18T21:55:21.678275Z"
    }
   },
   "outputs": [
    {
     "data": {
      "text/latex": [
       "$\\displaystyle 2 a$"
      ],
      "text/plain": [
       "2⋅a"
      ]
     },
     "execution_count": 51,
     "metadata": {},
     "output_type": "execute_result"
    }
   ],
   "source": [
    "mat1[0, 1]"
   ]
  },
  {
   "cell_type": "code",
   "execution_count": 52,
   "id": "a1375aaf",
   "metadata": {
    "execution": {
     "iopub.execute_input": "2022-04-18T21:55:21.681918Z",
     "iopub.status.busy": "2022-04-18T21:55:21.681494Z",
     "iopub.status.idle": "2022-04-18T21:55:21.686947Z",
     "shell.execute_reply": "2022-04-18T21:55:21.686513Z"
    }
   },
   "outputs": [
    {
     "data": {
      "text/latex": [
       "$\\displaystyle \\left[\\begin{matrix}a & 2 a\\end{matrix}\\right]$"
      ],
      "text/plain": [
       "[a  2⋅a]"
      ]
     },
     "execution_count": 52,
     "metadata": {},
     "output_type": "execute_result"
    }
   ],
   "source": [
    "mat1[0, 0:2]"
   ]
  },
  {
   "cell_type": "code",
   "execution_count": 53,
   "id": "233b2e71",
   "metadata": {
    "execution": {
     "iopub.execute_input": "2022-04-18T21:55:21.689817Z",
     "iopub.status.busy": "2022-04-18T21:55:21.689304Z",
     "iopub.status.idle": "2022-04-18T21:55:21.695130Z",
     "shell.execute_reply": "2022-04-18T21:55:21.694529Z"
    }
   },
   "outputs": [
    {
     "data": {
      "text/latex": [
       "$\\displaystyle \\left[\\begin{matrix}2 a\\\\f{\\left(t \\right)}\\end{matrix}\\right]$"
      ],
      "text/plain": [
       "⎡2⋅a ⎤\n",
       "⎢    ⎥\n",
       "⎣f(t)⎦"
      ]
     },
     "execution_count": 53,
     "metadata": {},
     "output_type": "execute_result"
    }
   ],
   "source": [
    "mat1[0:2, 1]"
   ]
  },
  {
   "cell_type": "code",
   "execution_count": 54,
   "id": "bff979e6",
   "metadata": {
    "execution": {
     "iopub.execute_input": "2022-04-18T21:55:21.698715Z",
     "iopub.status.busy": "2022-04-18T21:55:21.698151Z",
     "iopub.status.idle": "2022-04-18T21:55:21.706807Z",
     "shell.execute_reply": "2022-04-18T21:55:21.706195Z"
    }
   },
   "outputs": [
    {
     "data": {
      "text/latex": [
       "$\\displaystyle \\left[\\begin{matrix}a + 1 & 2 a + 2\\\\\\frac{b}{\\omega} + 3 & f{\\left(t \\right)} + 4\\end{matrix}\\right]$"
      ],
      "text/plain": [
       "⎡a + 1  2⋅a + 2 ⎤\n",
       "⎢               ⎥\n",
       "⎢b              ⎥\n",
       "⎢─ + 3  f(t) + 4⎥\n",
       "⎣ω              ⎦"
      ]
     },
     "execution_count": 54,
     "metadata": {},
     "output_type": "execute_result"
    }
   ],
   "source": [
    "mat1 + mat2"
   ]
  },
  {
   "cell_type": "code",
   "execution_count": 55,
   "id": "934ce9dc",
   "metadata": {
    "execution": {
     "iopub.execute_input": "2022-04-18T21:55:21.710349Z",
     "iopub.status.busy": "2022-04-18T21:55:21.709875Z",
     "iopub.status.idle": "2022-04-18T21:55:21.722041Z",
     "shell.execute_reply": "2022-04-18T21:55:21.721341Z"
    }
   },
   "outputs": [
    {
     "data": {
      "text/latex": [
       "$\\displaystyle \\left[\\begin{matrix}7 a & 10 a\\\\\\frac{b}{\\omega} + 3 f{\\left(t \\right)} & \\frac{2 b}{\\omega} + 4 f{\\left(t \\right)}\\end{matrix}\\right]$"
      ],
      "text/plain": [
       "⎡   7⋅a          10⋅a    ⎤\n",
       "⎢                        ⎥\n",
       "⎢b           2⋅b         ⎥\n",
       "⎢─ + 3⋅f(t)  ─── + 4⋅f(t)⎥\n",
       "⎣ω            ω          ⎦"
      ]
     },
     "execution_count": 55,
     "metadata": {},
     "output_type": "execute_result"
    }
   ],
   "source": [
    "mat1*mat2"
   ]
  },
  {
   "cell_type": "code",
   "execution_count": 56,
   "id": "a7c99311",
   "metadata": {
    "execution": {
     "iopub.execute_input": "2022-04-18T21:55:21.725728Z",
     "iopub.status.busy": "2022-04-18T21:55:21.725303Z",
     "iopub.status.idle": "2022-04-18T21:55:21.733930Z",
     "shell.execute_reply": "2022-04-18T21:55:21.733280Z"
    }
   },
   "outputs": [
    {
     "data": {
      "text/latex": [
       "$\\displaystyle \\left[\\begin{matrix}7 a & 10 a\\\\\\frac{b}{\\omega} + 3 f{\\left(t \\right)} & \\frac{2 b}{\\omega} + 4 f{\\left(t \\right)}\\end{matrix}\\right]$"
      ],
      "text/plain": [
       "⎡   7⋅a          10⋅a    ⎤\n",
       "⎢                        ⎥\n",
       "⎢b           2⋅b         ⎥\n",
       "⎢─ + 3⋅f(t)  ─── + 4⋅f(t)⎥\n",
       "⎣ω            ω          ⎦"
      ]
     },
     "execution_count": 56,
     "metadata": {},
     "output_type": "execute_result"
    }
   ],
   "source": [
    "mat1@mat2"
   ]
  },
  {
   "cell_type": "code",
   "execution_count": 57,
   "id": "45c20744",
   "metadata": {
    "execution": {
     "iopub.execute_input": "2022-04-18T21:55:21.737467Z",
     "iopub.status.busy": "2022-04-18T21:55:21.736901Z",
     "iopub.status.idle": "2022-04-18T21:55:21.745598Z",
     "shell.execute_reply": "2022-04-18T21:55:21.744998Z"
    }
   },
   "outputs": [
    {
     "data": {
      "text/latex": [
       "$\\displaystyle \\left[\\begin{matrix}a & 4 a\\\\\\frac{3 b}{\\omega} & 4 f{\\left(t \\right)}\\end{matrix}\\right]$"
      ],
      "text/plain": [
       "⎡ a    4⋅a  ⎤\n",
       "⎢           ⎥\n",
       "⎢3⋅b        ⎥\n",
       "⎢───  4⋅f(t)⎥\n",
       "⎣ ω         ⎦"
      ]
     },
     "execution_count": 57,
     "metadata": {},
     "output_type": "execute_result"
    }
   ],
   "source": [
    "sm.hadamard_product(mat1, mat2)"
   ]
  },
  {
   "cell_type": "code",
   "execution_count": 58,
   "id": "90b0079a",
   "metadata": {
    "execution": {
     "iopub.execute_input": "2022-04-18T21:55:21.748581Z",
     "iopub.status.busy": "2022-04-18T21:55:21.748082Z",
     "iopub.status.idle": "2022-04-18T21:55:21.761055Z",
     "shell.execute_reply": "2022-04-18T21:55:21.760431Z"
    }
   },
   "outputs": [
    {
     "data": {
      "text/latex": [
       "$\\displaystyle \\left[\\begin{matrix}a + \\frac{b}{\\omega^{2}}\\\\a \\omega + f{\\left(t \\right)}\\\\a \\sin{\\left(\\omega \\right)} + \\frac{\\left|{f{\\left(t \\right)}}\\right|}{\\sqrt{b}}\\\\5 \\sin{\\left(12 \\right)} + 105.986768359379\\\\t \\sin{\\left(\\omega f{\\left(t \\right)} \\right)} + \\frac{f{\\left(t \\right)}}{\\sqrt{t}}\\end{matrix}\\right]$"
      ],
      "text/plain": [
       "⎡               b            ⎤\n",
       "⎢           a + ──           ⎥\n",
       "⎢                2           ⎥\n",
       "⎢               ω            ⎥\n",
       "⎢                            ⎥\n",
       "⎢         a⋅ω + f(t)         ⎥\n",
       "⎢                            ⎥\n",
       "⎢                │f(t)│      ⎥\n",
       "⎢     a⋅sin(ω) + ──────      ⎥\n",
       "⎢                  √b        ⎥\n",
       "⎢                            ⎥\n",
       "⎢5⋅sin(12) + 105.986768359379⎥\n",
       "⎢                            ⎥\n",
       "⎢                    f(t)    ⎥\n",
       "⎢    t⋅sin(ω⋅f(t)) + ────    ⎥\n",
       "⎣                     √t     ⎦"
      ]
     },
     "execution_count": 58,
     "metadata": {},
     "output_type": "execute_result"
    }
   ],
   "source": [
    "mat3 = sm.Matrix([expr1, expr2, expr3, expr4, expr5])\n",
    "mat3"
   ]
  },
  {
   "cell_type": "code",
   "execution_count": 59,
   "id": "45515e22",
   "metadata": {
    "execution": {
     "iopub.execute_input": "2022-04-18T21:55:21.764161Z",
     "iopub.status.busy": "2022-04-18T21:55:21.763580Z",
     "iopub.status.idle": "2022-04-18T21:55:21.783029Z",
     "shell.execute_reply": "2022-04-18T21:55:21.782389Z"
    }
   },
   "outputs": [
    {
     "data": {
      "text/latex": [
       "$\\displaystyle \\left[\\begin{matrix}1\\\\\\omega\\\\\\sin{\\left(\\omega \\right)}\\\\0\\\\0\\end{matrix}\\right]$"
      ],
      "text/plain": [
       "⎡  1   ⎤\n",
       "⎢      ⎥\n",
       "⎢  ω   ⎥\n",
       "⎢      ⎥\n",
       "⎢sin(ω)⎥\n",
       "⎢      ⎥\n",
       "⎢  0   ⎥\n",
       "⎢      ⎥\n",
       "⎣  0   ⎦"
      ]
     },
     "execution_count": 59,
     "metadata": {},
     "output_type": "execute_result"
    }
   ],
   "source": [
    "mat3.diff(a)"
   ]
  },
  {
   "cell_type": "code",
   "execution_count": 60,
   "id": "38bd1209",
   "metadata": {
    "execution": {
     "iopub.execute_input": "2022-04-18T21:55:21.785864Z",
     "iopub.status.busy": "2022-04-18T21:55:21.785420Z",
     "iopub.status.idle": "2022-04-18T21:55:21.806031Z",
     "shell.execute_reply": "2022-04-18T21:55:21.805288Z"
    }
   },
   "outputs": [
    {
     "data": {
      "text/latex": [
       "$\\displaystyle \\left[\\begin{matrix}0\\\\\\frac{d}{d t} f{\\left(t \\right)}\\\\\\frac{\\left(\\operatorname{re}{\\left(f{\\left(t \\right)}\\right)} \\frac{d}{d t} \\operatorname{re}{\\left(f{\\left(t \\right)}\\right)} + \\operatorname{im}{\\left(f{\\left(t \\right)}\\right)} \\frac{d}{d t} \\operatorname{im}{\\left(f{\\left(t \\right)}\\right)}\\right) \\operatorname{sign}{\\left(f{\\left(t \\right)} \\right)}}{\\sqrt{b} f{\\left(t \\right)}}\\\\0\\\\\\omega t \\cos{\\left(\\omega f{\\left(t \\right)} \\right)} \\frac{d}{d t} f{\\left(t \\right)} + \\sin{\\left(\\omega f{\\left(t \\right)} \\right)} + \\frac{\\frac{d}{d t} f{\\left(t \\right)}}{\\sqrt{t}} - \\frac{f{\\left(t \\right)}}{2 t^{\\frac{3}{2}}}\\end{matrix}\\right]$"
      ],
      "text/plain": [
       "⎡                            0                             ⎤\n",
       "⎢                                                          ⎥\n",
       "⎢                         d                                ⎥\n",
       "⎢                         ──(f(t))                         ⎥\n",
       "⎢                         dt                               ⎥\n",
       "⎢                                                          ⎥\n",
       "⎢⎛         d                       d           ⎞           ⎥\n",
       "⎢⎜re(f(t))⋅──(re(f(t))) + im(f(t))⋅──(im(f(t)))⎟⋅sign(f(t))⎥\n",
       "⎢⎝         dt                      dt          ⎠           ⎥\n",
       "⎢──────────────────────────────────────────────────────────⎥\n",
       "⎢                         √b⋅f(t)                          ⎥\n",
       "⎢                                                          ⎥\n",
       "⎢                            0                             ⎥\n",
       "⎢                                                          ⎥\n",
       "⎢                                         d                ⎥\n",
       "⎢                                         ──(f(t))         ⎥\n",
       "⎢                d                        dt          f(t) ⎥\n",
       "⎢ω⋅t⋅cos(ω⋅f(t))⋅──(f(t)) + sin(ω⋅f(t)) + ──────── - ──────⎥\n",
       "⎢                dt                          √t         3/2⎥\n",
       "⎣                                                    2⋅t   ⎦"
      ]
     },
     "execution_count": 60,
     "metadata": {},
     "output_type": "execute_result"
    }
   ],
   "source": [
    "mat3.diff(t)"
   ]
  },
  {
   "cell_type": "code",
   "execution_count": 61,
   "id": "151bb2a6",
   "metadata": {
    "execution": {
     "iopub.execute_input": "2022-04-18T21:55:21.809567Z",
     "iopub.status.busy": "2022-04-18T21:55:21.809091Z",
     "iopub.status.idle": "2022-04-18T21:55:21.816442Z",
     "shell.execute_reply": "2022-04-18T21:55:21.815814Z"
    }
   },
   "outputs": [
    {
     "data": {
      "text/latex": [
       "$\\displaystyle \\left[\\begin{matrix}a\\\\b\\\\\\omega\\\\t\\end{matrix}\\right]$"
      ],
      "text/plain": [
       "⎡a⎤\n",
       "⎢ ⎥\n",
       "⎢b⎥\n",
       "⎢ ⎥\n",
       "⎢ω⎥\n",
       "⎢ ⎥\n",
       "⎣t⎦"
      ]
     },
     "execution_count": 61,
     "metadata": {},
     "output_type": "execute_result"
    }
   ],
   "source": [
    "mat4 = sm.Matrix([a, b, omega, t])\n",
    "mat4"
   ]
  },
  {
   "cell_type": "code",
   "execution_count": 62,
   "id": "ec632fc6",
   "metadata": {
    "execution": {
     "iopub.execute_input": "2022-04-18T21:55:21.820127Z",
     "iopub.status.busy": "2022-04-18T21:55:21.819566Z",
     "iopub.status.idle": "2022-04-18T21:55:21.855089Z",
     "shell.execute_reply": "2022-04-18T21:55:21.854439Z"
    }
   },
   "outputs": [
    {
     "data": {
      "text/latex": [
       "$\\displaystyle \\left[\\begin{matrix}1 & \\frac{1}{\\omega^{2}} & - \\frac{2 b}{\\omega^{3}} & 0\\\\\\omega & 0 & a & \\frac{d}{d t} f{\\left(t \\right)}\\\\\\sin{\\left(\\omega \\right)} & - \\frac{\\left|{f{\\left(t \\right)}}\\right|}{2 b^{\\frac{3}{2}}} & a \\cos{\\left(\\omega \\right)} & \\frac{\\left(\\operatorname{re}{\\left(f{\\left(t \\right)}\\right)} \\frac{d}{d t} \\operatorname{re}{\\left(f{\\left(t \\right)}\\right)} + \\operatorname{im}{\\left(f{\\left(t \\right)}\\right)} \\frac{d}{d t} \\operatorname{im}{\\left(f{\\left(t \\right)}\\right)}\\right) \\operatorname{sign}{\\left(f{\\left(t \\right)} \\right)}}{\\sqrt{b} f{\\left(t \\right)}}\\\\0 & 0 & 0 & 0\\\\0 & 0 & t f{\\left(t \\right)} \\cos{\\left(\\omega f{\\left(t \\right)} \\right)} & \\omega t \\cos{\\left(\\omega f{\\left(t \\right)} \\right)} \\frac{d}{d t} f{\\left(t \\right)} + \\sin{\\left(\\omega f{\\left(t \\right)} \\right)} + \\frac{\\frac{d}{d t} f{\\left(t \\right)}}{\\sqrt{t}} - \\frac{f{\\left(t \\right)}}{2 t^{\\frac{3}{2}}}\\end{matrix}\\right]$"
      ],
      "text/plain": [
       "⎡           1            -2⋅b                                                 \n",
       "⎢  1        ──           ─────                                     0          \n",
       "⎢            2              3                                                 \n",
       "⎢           ω              ω                                                  \n",
       "⎢                                                                             \n",
       "⎢                                                               d             \n",
       "⎢  ω        0              a                                    ──(f(t))      \n",
       "⎢                                                               dt            \n",
       "⎢                                                                             \n",
       "⎢                                      ⎛         d                       d    \n",
       "⎢                                      ⎜re(f(t))⋅──(re(f(t))) + im(f(t))⋅──(im\n",
       "⎢        -│f(t)│                       ⎝         dt                      dt   \n",
       "⎢sin(ω)  ────────       a⋅cos(ω)       ───────────────────────────────────────\n",
       "⎢            3/2                                                √b⋅f(t)       \n",
       "⎢         2⋅b                                                                 \n",
       "⎢                                                                             \n",
       "⎢  0        0              0                                       0          \n",
       "⎢                                                                             \n",
       "⎢                                                                             \n",
       "⎢                                                                             \n",
       "⎢                                                      d                      \n",
       "⎢  0        0      t⋅f(t)⋅cos(ω⋅f(t))  ω⋅t⋅cos(ω⋅f(t))⋅──(f(t)) + sin(ω⋅f(t)) \n",
       "⎢                                                      dt                     \n",
       "⎣                                                                             \n",
       "\n",
       "                   ⎤\n",
       "                   ⎥\n",
       "                   ⎥\n",
       "                   ⎥\n",
       "                   ⎥\n",
       "                   ⎥\n",
       "                   ⎥\n",
       "                   ⎥\n",
       "                   ⎥\n",
       "       ⎞           ⎥\n",
       "(f(t)))⎟⋅sign(f(t))⎥\n",
       "       ⎠           ⎥\n",
       "───────────────────⎥\n",
       "                   ⎥\n",
       "                   ⎥\n",
       "                   ⎥\n",
       "                   ⎥\n",
       "                   ⎥\n",
       "  d                ⎥\n",
       "  ──(f(t))         ⎥\n",
       "  dt          f(t) ⎥\n",
       "+ ──────── - ──────⎥\n",
       "     √t         3/2⎥\n",
       "             2⋅t   ⎦"
      ]
     },
     "execution_count": 62,
     "metadata": {},
     "output_type": "execute_result"
    }
   ],
   "source": [
    "mat3.jacobian(mat4)"
   ]
  },
  {
   "cell_type": "code",
   "execution_count": 63,
   "id": "619640fb",
   "metadata": {
    "execution": {
     "iopub.execute_input": "2022-04-18T21:55:21.860699Z",
     "iopub.status.busy": "2022-04-18T21:55:21.860101Z",
     "iopub.status.idle": "2022-04-18T21:55:21.884671Z",
     "shell.execute_reply": "2022-04-18T21:55:21.883932Z"
    }
   },
   "outputs": [
    {
     "data": {
      "text/latex": [
       "$\\displaystyle \\left[\\begin{matrix}a_{1} \\sin{\\left(f{\\left(t \\right)} \\right)} \\cos{\\left(2 f{\\left(t \\right)} \\right)} + a_{2} + \\frac{\\omega \\log{\\left(t \\right)}}{\\log{\\left(f{\\left(t \\right)} \\right)}} + 100\\\\a_{1} \\omega^{2} + a_{2} f{\\left(t \\right)} + \\omega + f^{3}{\\left(t \\right)}\\end{matrix}\\right]$"
      ],
      "text/plain": [
       "⎡                                 ω⋅log(t)      ⎤\n",
       "⎢a₁⋅sin(f(t))⋅cos(2⋅f(t)) + a₂ + ───────── + 100⎥\n",
       "⎢                                log(f(t))      ⎥\n",
       "⎢                                               ⎥\n",
       "⎢              2                  3             ⎥\n",
       "⎣          a₁⋅ω  + a₂⋅f(t) + ω + f (t)          ⎦"
      ]
     },
     "execution_count": 63,
     "metadata": {},
     "output_type": "execute_result"
    }
   ],
   "source": [
    "a1, a2 = sm.symbols('a1, a2')\n",
    "\n",
    "exprs = sm.Matrix([\n",
    "    [a1*sm.sin(f(t))*sm.cos(2*f(t)) + a2 + omega/sm.log(f(t), t) + 100],\n",
    "    [a1*omega**2 + f(t)*a2 + omega + f(t)**3],\n",
    "])\n",
    "exprs"
   ]
  },
  {
   "cell_type": "code",
   "execution_count": 64,
   "id": "0f84e441",
   "metadata": {
    "execution": {
     "iopub.execute_input": "2022-04-18T21:55:21.887728Z",
     "iopub.status.busy": "2022-04-18T21:55:21.887236Z",
     "iopub.status.idle": "2022-04-18T21:55:21.902051Z",
     "shell.execute_reply": "2022-04-18T21:55:21.900770Z"
    }
   },
   "outputs": [
    {
     "data": {
      "text/latex": [
       "$\\displaystyle \\left[\\begin{matrix}\\sin{\\left(f{\\left(t \\right)} \\right)} \\cos{\\left(2 f{\\left(t \\right)} \\right)} & 1\\\\\\omega^{2} & f{\\left(t \\right)}\\end{matrix}\\right]$"
      ],
      "text/plain": [
       "⎡sin(f(t))⋅cos(2⋅f(t))   1  ⎤\n",
       "⎢                           ⎥\n",
       "⎢          2                ⎥\n",
       "⎣         ω             f(t)⎦"
      ]
     },
     "execution_count": 64,
     "metadata": {},
     "output_type": "execute_result"
    }
   ],
   "source": [
    "A = exprs.jacobian([a1, a2])\n",
    "A"
   ]
  },
  {
   "cell_type": "code",
   "execution_count": 65,
   "id": "1ea2656c",
   "metadata": {
    "execution": {
     "iopub.execute_input": "2022-04-18T21:55:21.905002Z",
     "iopub.status.busy": "2022-04-18T21:55:21.904494Z",
     "iopub.status.idle": "2022-04-18T21:55:21.914924Z",
     "shell.execute_reply": "2022-04-18T21:55:21.914319Z"
    }
   },
   "outputs": [
    {
     "data": {
      "text/latex": [
       "$\\displaystyle \\left[\\begin{matrix}- \\frac{\\omega \\log{\\left(t \\right)}}{\\log{\\left(f{\\left(t \\right)} \\right)}} - 100\\\\- \\omega - f^{3}{\\left(t \\right)}\\end{matrix}\\right]$"
      ],
      "text/plain": [
       "⎡   ω⋅log(t)      ⎤\n",
       "⎢- ───────── - 100⎥\n",
       "⎢  log(f(t))      ⎥\n",
       "⎢                 ⎥\n",
       "⎢         3       ⎥\n",
       "⎣   -ω - f (t)    ⎦"
      ]
     },
     "execution_count": 65,
     "metadata": {},
     "output_type": "execute_result"
    }
   ],
   "source": [
    "b = -exprs.xreplace({a1: 0, a2:0})\n",
    "b"
   ]
  },
  {
   "cell_type": "code",
   "execution_count": 66,
   "id": "c99e0d44",
   "metadata": {
    "execution": {
     "iopub.execute_input": "2022-04-18T21:55:21.918780Z",
     "iopub.status.busy": "2022-04-18T21:55:21.918309Z",
     "iopub.status.idle": "2022-04-18T21:55:21.961700Z",
     "shell.execute_reply": "2022-04-18T21:55:21.961005Z"
    }
   },
   "outputs": [
    {
     "data": {
      "text/latex": [
       "$\\displaystyle \\left[\\begin{matrix}\\frac{- \\frac{\\omega \\log{\\left(t \\right)}}{\\log{\\left(f{\\left(t \\right)} \\right)}} - 100 - \\frac{- \\frac{\\omega^{2} \\left(- \\frac{\\omega \\log{\\left(t \\right)}}{\\log{\\left(f{\\left(t \\right)} \\right)}} - 100\\right)}{\\sin{\\left(f{\\left(t \\right)} \\right)} \\cos{\\left(2 f{\\left(t \\right)} \\right)}} - \\omega - f^{3}{\\left(t \\right)}}{- \\frac{\\omega^{2}}{\\sin{\\left(f{\\left(t \\right)} \\right)} \\cos{\\left(2 f{\\left(t \\right)} \\right)}} + f{\\left(t \\right)}}}{\\sin{\\left(f{\\left(t \\right)} \\right)} \\cos{\\left(2 f{\\left(t \\right)} \\right)}}\\\\\\frac{- \\frac{\\omega^{2} \\left(- \\frac{\\omega \\log{\\left(t \\right)}}{\\log{\\left(f{\\left(t \\right)} \\right)}} - 100\\right)}{\\sin{\\left(f{\\left(t \\right)} \\right)} \\cos{\\left(2 f{\\left(t \\right)} \\right)}} - \\omega - f^{3}{\\left(t \\right)}}{- \\frac{\\omega^{2}}{\\sin{\\left(f{\\left(t \\right)} \\right)} \\cos{\\left(2 f{\\left(t \\right)} \\right)}} + f{\\left(t \\right)}}\\end{matrix}\\right]$"
      ],
      "text/plain": [
       "⎡                       2 ⎛   ω⋅log(t)      ⎞            ⎤\n",
       "⎢                      ω ⋅⎜- ───────── - 100⎟            ⎥\n",
       "⎢                         ⎝  log(f(t))      ⎠        3   ⎥\n",
       "⎢                    - ────────────────────── - ω - f (t)⎥\n",
       "⎢   ω⋅log(t)           sin(f(t))⋅cos(2⋅f(t))             ⎥\n",
       "⎢- ───────── - 100 - ────────────────────────────────────⎥\n",
       "⎢  log(f(t))                         2                   ⎥\n",
       "⎢                                   ω                    ⎥\n",
       "⎢                       - ───────────────────── + f(t)   ⎥\n",
       "⎢                         sin(f(t))⋅cos(2⋅f(t))          ⎥\n",
       "⎢────────────────────────────────────────────────────────⎥\n",
       "⎢                 sin(f(t))⋅cos(2⋅f(t))                  ⎥\n",
       "⎢                                                        ⎥\n",
       "⎢             2 ⎛   ω⋅log(t)      ⎞                      ⎥\n",
       "⎢            ω ⋅⎜- ───────── - 100⎟                      ⎥\n",
       "⎢               ⎝  log(f(t))      ⎠        3             ⎥\n",
       "⎢          - ────────────────────── - ω - f (t)          ⎥\n",
       "⎢            sin(f(t))⋅cos(2⋅f(t))                       ⎥\n",
       "⎢          ────────────────────────────────────          ⎥\n",
       "⎢                          2                             ⎥\n",
       "⎢                         ω                              ⎥\n",
       "⎢             - ───────────────────── + f(t)             ⎥\n",
       "⎣               sin(f(t))⋅cos(2⋅f(t))                    ⎦"
      ]
     },
     "execution_count": 66,
     "metadata": {},
     "output_type": "execute_result"
    }
   ],
   "source": [
    "A.LUsolve(b)"
   ]
  },
  {
   "cell_type": "code",
   "execution_count": 67,
   "id": "7014231e",
   "metadata": {
    "execution": {
     "iopub.execute_input": "2022-04-18T21:55:21.965078Z",
     "iopub.status.busy": "2022-04-18T21:55:21.964570Z",
     "iopub.status.idle": "2022-04-18T21:55:23.117308Z",
     "shell.execute_reply": "2022-04-18T21:55:23.116587Z"
    }
   },
   "outputs": [
    {
     "data": {
      "text/latex": [
       "$\\displaystyle \\left[\\begin{matrix}\\frac{- \\omega f{\\left(t \\right)} \\log{\\left(t \\right)} + \\omega \\log{\\left(f{\\left(t \\right)} \\right)} + f^{3}{\\left(t \\right)} \\log{\\left(f{\\left(t \\right)} \\right)} - 100 f{\\left(t \\right)} \\log{\\left(f{\\left(t \\right)} \\right)}}{\\left(- \\omega^{2} + f{\\left(t \\right)} \\sin{\\left(f{\\left(t \\right)} \\right)} \\cos{\\left(2 f{\\left(t \\right)} \\right)}\\right) \\log{\\left(f{\\left(t \\right)} \\right)}}\\\\\\frac{- \\omega^{2} \\left(\\omega \\log{\\left(t \\right)} + 100 \\log{\\left(f{\\left(t \\right)} \\right)}\\right) + \\left(\\omega + f^{3}{\\left(t \\right)}\\right) \\log{\\left(f{\\left(t \\right)} \\right)} \\sin{\\left(f{\\left(t \\right)} \\right)} \\cos{\\left(2 f{\\left(t \\right)} \\right)}}{\\left(\\omega^{2} - f{\\left(t \\right)} \\sin{\\left(f{\\left(t \\right)} \\right)} \\cos{\\left(2 f{\\left(t \\right)} \\right)}\\right) \\log{\\left(f{\\left(t \\right)} \\right)}}\\end{matrix}\\right]$"
      ],
      "text/plain": [
       "⎡                                     3                                       \n",
       "⎢     -ω⋅f(t)⋅log(t) + ω⋅log(f(t)) + f (t)⋅log(f(t)) - 100⋅f(t)⋅log(f(t))     \n",
       "⎢     ───────────────────────────────────────────────────────────────────     \n",
       "⎢                ⎛   2                             ⎞                          \n",
       "⎢                ⎝- ω  + f(t)⋅sin(f(t))⋅cos(2⋅f(t))⎠⋅log(f(t))                \n",
       "⎢                                                                             \n",
       "⎢   2                              ⎛     3   ⎞                                \n",
       "⎢- ω ⋅(ω⋅log(t) + 100⋅log(f(t))) + ⎝ω + f (t)⎠⋅log(f(t))⋅sin(f(t))⋅cos(2⋅f(t))\n",
       "⎢─────────────────────────────────────────────────────────────────────────────\n",
       "⎢                 ⎛ 2                             ⎞                           \n",
       "⎣                 ⎝ω  - f(t)⋅sin(f(t))⋅cos(2⋅f(t))⎠⋅log(f(t))                 \n",
       "\n",
       "⎤\n",
       "⎥\n",
       "⎥\n",
       "⎥\n",
       "⎥\n",
       "⎥\n",
       "⎥\n",
       "⎥\n",
       "⎥\n",
       "⎥\n",
       "⎦"
      ]
     },
     "execution_count": 67,
     "metadata": {},
     "output_type": "execute_result"
    }
   ],
   "source": [
    "sm.simplify(A.LUsolve(b))"
   ]
  },
  {
   "cell_type": "code",
   "execution_count": 68,
   "id": "7434b1d2",
   "metadata": {
    "execution": {
     "iopub.execute_input": "2022-04-18T21:55:23.120705Z",
     "iopub.status.busy": "2022-04-18T21:55:23.120169Z",
     "iopub.status.idle": "2022-04-18T21:55:23.158079Z",
     "shell.execute_reply": "2022-04-18T21:55:23.157395Z"
    }
   },
   "outputs": [
    {
     "data": {
      "text/latex": [
       "$\\displaystyle 1$"
      ],
      "text/plain": [
       "1"
      ]
     },
     "execution_count": 68,
     "metadata": {},
     "output_type": "execute_result"
    }
   ],
   "source": [
    "sm.trigsimp(sm.cos(omega)**2 + sm.sin(omega)**2)"
   ]
  },
  {
   "cell_type": "code",
   "execution_count": 69,
   "id": "7f54788f",
   "metadata": {
    "execution": {
     "iopub.execute_input": "2022-04-18T21:55:23.161539Z",
     "iopub.status.busy": "2022-04-18T21:55:23.161008Z",
     "iopub.status.idle": "2022-04-18T21:55:23.186678Z",
     "shell.execute_reply": "2022-04-18T21:55:23.186043Z"
    }
   },
   "outputs": [],
   "source": [
    "substitutions, simplified = sm.cse(A.LUsolve(b))"
   ]
  },
  {
   "cell_type": "code",
   "execution_count": 70,
   "id": "9c3d3be5",
   "metadata": {
    "execution": {
     "iopub.execute_input": "2022-04-18T21:55:23.190296Z",
     "iopub.status.busy": "2022-04-18T21:55:23.189831Z",
     "iopub.status.idle": "2022-04-18T21:55:23.195165Z",
     "shell.execute_reply": "2022-04-18T21:55:23.194469Z"
    }
   },
   "outputs": [
    {
     "data": {
      "text/latex": [
       "$\\displaystyle \\left( x_{0}, \\  f{\\left(t \\right)}\\right)$"
      ],
      "text/plain": [
       "(x₀, f(t))"
      ]
     },
     "execution_count": 70,
     "metadata": {},
     "output_type": "execute_result"
    }
   ],
   "source": [
    "substitutions[0]"
   ]
  },
  {
   "cell_type": "code",
   "execution_count": 71,
   "id": "829c2175",
   "metadata": {
    "execution": {
     "iopub.execute_input": "2022-04-18T21:55:23.198805Z",
     "iopub.status.busy": "2022-04-18T21:55:23.198307Z",
     "iopub.status.idle": "2022-04-18T21:55:23.204645Z",
     "shell.execute_reply": "2022-04-18T21:55:23.204011Z"
    }
   },
   "outputs": [
    {
     "data": {
      "text/latex": [
       "$\\displaystyle x_{0} = f{\\left(t \\right)}$"
      ],
      "text/plain": [
       "x₀ = f(t)"
      ]
     },
     "execution_count": 71,
     "metadata": {},
     "output_type": "execute_result"
    }
   ],
   "source": [
    "sm.Eq(*substitutions[0])"
   ]
  },
  {
   "cell_type": "code",
   "execution_count": 72,
   "id": "cad10c82",
   "metadata": {
    "execution": {
     "iopub.execute_input": "2022-04-18T21:55:23.208272Z",
     "iopub.status.busy": "2022-04-18T21:55:23.207775Z",
     "iopub.status.idle": "2022-04-18T21:55:23.220285Z",
     "shell.execute_reply": "2022-04-18T21:55:23.219644Z"
    }
   },
   "outputs": [
    {
     "data": {
      "text/latex": [
       "$\\displaystyle x_{1} = \\frac{1}{\\sin{\\left(x_{0} \\right)} \\cos{\\left(2 x_{0} \\right)}}$"
      ],
      "text/plain": [
       "             1        \n",
       "x₁ = ─────────────────\n",
       "     sin(x₀)⋅cos(2⋅x₀)"
      ]
     },
     "execution_count": 72,
     "metadata": {},
     "output_type": "execute_result"
    }
   ],
   "source": [
    "sm.Eq(*substitutions[1])"
   ]
  },
  {
   "cell_type": "code",
   "execution_count": 73,
   "id": "ec5be9c5",
   "metadata": {
    "execution": {
     "iopub.execute_input": "2022-04-18T21:55:23.223540Z",
     "iopub.status.busy": "2022-04-18T21:55:23.223045Z",
     "iopub.status.idle": "2022-04-18T21:55:23.230584Z",
     "shell.execute_reply": "2022-04-18T21:55:23.229977Z"
    }
   },
   "outputs": [
    {
     "data": {
      "text/latex": [
       "$\\displaystyle x_{2} = \\omega^{2} x_{1}$"
      ],
      "text/plain": [
       "      2   \n",
       "x₂ = ω ⋅x₁"
      ]
     },
     "execution_count": 73,
     "metadata": {},
     "output_type": "execute_result"
    }
   ],
   "source": [
    "sm.Eq(*substitutions[2])"
   ]
  },
  {
   "cell_type": "code",
   "execution_count": 74,
   "id": "ad260328",
   "metadata": {
    "execution": {
     "iopub.execute_input": "2022-04-18T21:55:23.234331Z",
     "iopub.status.busy": "2022-04-18T21:55:23.233855Z",
     "iopub.status.idle": "2022-04-18T21:55:23.247392Z",
     "shell.execute_reply": "2022-04-18T21:55:23.246817Z"
    }
   },
   "outputs": [
    {
     "data": {
      "text/latex": [
       "$\\displaystyle x_{4} = \\frac{- \\omega - x_{0}^{3} + x_{2} x_{3}}{x_{0} - x_{2}}$"
      ],
      "text/plain": [
       "            3        \n",
       "     -ω - x₀  + x₂⋅x₃\n",
       "x₄ = ────────────────\n",
       "         x₀ - x₂     "
      ]
     },
     "execution_count": 74,
     "metadata": {},
     "output_type": "execute_result"
    }
   ],
   "source": [
    "sm.Eq(*substitutions[4])"
   ]
  },
  {
   "cell_type": "code",
   "execution_count": 75,
   "id": "a542fd17",
   "metadata": {
    "execution": {
     "iopub.execute_input": "2022-04-18T21:55:23.252583Z",
     "iopub.status.busy": "2022-04-18T21:55:23.252024Z",
     "iopub.status.idle": "2022-04-18T21:55:23.258876Z",
     "shell.execute_reply": "2022-04-18T21:55:23.258276Z"
    }
   },
   "outputs": [
    {
     "data": {
      "text/latex": [
       "$\\displaystyle \\left[\\begin{matrix}x_{1} \\left(- x_{3} - x_{4}\\right)\\\\x_{4}\\end{matrix}\\right]$"
      ],
      "text/plain": [
       "⎡x₁⋅(-x₃ - x₄)⎤\n",
       "⎢             ⎥\n",
       "⎣     x₄      ⎦"
      ]
     },
     "execution_count": 75,
     "metadata": {},
     "output_type": "execute_result"
    }
   ],
   "source": [
    "simplified[0]"
   ]
  }
 ],
 "metadata": {
  "kernelspec": {
   "display_name": "Python 3 (ipykernel)",
   "language": "python",
   "name": "python3"
  },
  "language_info": {
   "codemirror_mode": {
    "name": "ipython",
    "version": 3
   },
   "file_extension": ".py",
   "mimetype": "text/x-python",
   "name": "python",
   "nbconvert_exporter": "python",
   "pygments_lexer": "ipython3",
   "version": "3.9.12"
  }
 },
 "nbformat": 4,
 "nbformat_minor": 5
}