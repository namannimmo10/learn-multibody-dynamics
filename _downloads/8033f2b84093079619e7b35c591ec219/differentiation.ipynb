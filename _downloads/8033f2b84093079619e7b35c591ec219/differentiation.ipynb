{
 "cells": [
  {
   "cell_type": "code",
   "execution_count": 1,
   "id": "f4e8ee97",
   "metadata": {
    "execution": {
     "iopub.execute_input": "2022-04-18T21:54:39.259750Z",
     "iopub.status.busy": "2022-04-18T21:54:39.258398Z",
     "iopub.status.idle": "2022-04-18T21:54:39.889819Z",
     "shell.execute_reply": "2022-04-18T21:54:39.889108Z"
    }
   },
   "outputs": [],
   "source": [
    "import sympy as sm\n",
    "import sympy.physics.mechanics as me\n",
    "sm.init_printing(use_latex='mathjax')"
   ]
  },
  {
   "cell_type": "code",
   "execution_count": 2,
   "id": "8e199453",
   "metadata": {
    "execution": {
     "iopub.execute_input": "2022-04-18T21:54:39.893444Z",
     "iopub.status.busy": "2022-04-18T21:54:39.893018Z",
     "iopub.status.idle": "2022-04-18T21:54:39.918970Z",
     "shell.execute_reply": "2022-04-18T21:54:39.918058Z"
    }
   },
   "outputs": [
    {
     "data": {
      "text/latex": [
       "$\\displaystyle a\\mathbf{\\hat{a}_x} + b\\mathbf{\\hat{a}_y} + c\\mathbf{\\hat{b}_x} + d\\mathbf{\\hat{b}_y} + e\\mathbf{\\hat{c}_x} + f\\mathbf{\\hat{c}_y}$"
      ],
      "text/plain": [
       "a a_x + b a_y + c b_x + d b_y + e c_x + f c_y"
      ]
     },
     "execution_count": 2,
     "metadata": {},
     "output_type": "execute_result"
    }
   ],
   "source": [
    "alpha, beta = sm.symbols('alpha, beta')\n",
    "a, b, c, d, e, f = sm.symbols('a, b, c, d, e, f')\n",
    "\n",
    "A = me.ReferenceFrame('A')\n",
    "B = me.ReferenceFrame('B')\n",
    "C = me.ReferenceFrame('C')\n",
    "\n",
    "B.orient_axis(A, alpha, A.x)\n",
    "C.orient_axis(B, beta, B.y)\n",
    "\n",
    "v = a*A.x + b*A.y + c*B.x + d*B.y + e*C.x + f*C.y\n",
    "v"
   ]
  },
  {
   "cell_type": "code",
   "execution_count": 3,
   "id": "2db62a2e",
   "metadata": {
    "execution": {
     "iopub.execute_input": "2022-04-18T21:54:39.921781Z",
     "iopub.status.busy": "2022-04-18T21:54:39.921369Z",
     "iopub.status.idle": "2022-04-18T21:54:39.934816Z",
     "shell.execute_reply": "2022-04-18T21:54:39.934297Z"
    }
   },
   "outputs": [
    {
     "data": {
      "text/latex": [
       "$\\displaystyle 0$"
      ],
      "text/plain": [
       "0"
      ]
     },
     "execution_count": 3,
     "metadata": {},
     "output_type": "execute_result"
    }
   ],
   "source": [
    "dvdax = v.dot(A.x).diff(alpha)\n",
    "dvdax"
   ]
  },
  {
   "cell_type": "code",
   "execution_count": 4,
   "id": "057a38e3",
   "metadata": {
    "execution": {
     "iopub.execute_input": "2022-04-18T21:54:39.937659Z",
     "iopub.status.busy": "2022-04-18T21:54:39.937145Z",
     "iopub.status.idle": "2022-04-18T21:54:39.954521Z",
     "shell.execute_reply": "2022-04-18T21:54:39.953962Z"
    }
   },
   "outputs": [
    {
     "data": {
      "text/latex": [
       "$\\displaystyle - d \\sin{\\left(\\alpha \\right)} + e \\sin{\\left(\\beta \\right)} \\cos{\\left(\\alpha \\right)} - f \\sin{\\left(\\alpha \\right)}$"
      ],
      "text/plain": [
       "-d⋅sin(α) + e⋅sin(β)⋅cos(α) - f⋅sin(α)"
      ]
     },
     "execution_count": 4,
     "metadata": {},
     "output_type": "execute_result"
    }
   ],
   "source": [
    "dvday = v.dot(A.y).diff(alpha)\n",
    "dvday"
   ]
  },
  {
   "cell_type": "code",
   "execution_count": 5,
   "id": "b4218592",
   "metadata": {
    "execution": {
     "iopub.execute_input": "2022-04-18T21:54:39.957007Z",
     "iopub.status.busy": "2022-04-18T21:54:39.956833Z",
     "iopub.status.idle": "2022-04-18T21:54:39.971009Z",
     "shell.execute_reply": "2022-04-18T21:54:39.970391Z"
    }
   },
   "outputs": [
    {
     "data": {
      "text/latex": [
       "$\\displaystyle d \\cos{\\left(\\alpha \\right)} + e \\sin{\\left(\\alpha \\right)} \\sin{\\left(\\beta \\right)} + f \\cos{\\left(\\alpha \\right)}$"
      ],
      "text/plain": [
       "d⋅cos(α) + e⋅sin(α)⋅sin(β) + f⋅cos(α)"
      ]
     },
     "execution_count": 5,
     "metadata": {},
     "output_type": "execute_result"
    }
   ],
   "source": [
    "dvdaz = v.dot(A.z).diff(alpha)\n",
    "dvdaz"
   ]
  },
  {
   "cell_type": "code",
   "execution_count": 6,
   "id": "b2c3b59d",
   "metadata": {
    "execution": {
     "iopub.execute_input": "2022-04-18T21:54:39.974498Z",
     "iopub.status.busy": "2022-04-18T21:54:39.974067Z",
     "iopub.status.idle": "2022-04-18T21:54:39.985572Z",
     "shell.execute_reply": "2022-04-18T21:54:39.985001Z"
    }
   },
   "outputs": [
    {
     "data": {
      "text/latex": [
       "$\\displaystyle (- d \\sin{\\left(\\alpha \\right)} + e \\sin{\\left(\\beta \\right)} \\cos{\\left(\\alpha \\right)} - f \\sin{\\left(\\alpha \\right)})\\mathbf{\\hat{a}_y} + (d \\cos{\\left(\\alpha \\right)} + e \\sin{\\left(\\alpha \\right)} \\sin{\\left(\\beta \\right)} + f \\cos{\\left(\\alpha \\right)})\\mathbf{\\hat{a}_z}$"
      ],
      "text/plain": [
       "(-d⋅sin(α) + e⋅sin(β)⋅cos(α) - f⋅sin(α)) a_y + (d⋅cos(α) + e⋅sin(α)⋅sin(β) + f\n",
       "⋅cos(α)) a_z"
      ]
     },
     "execution_count": 6,
     "metadata": {},
     "output_type": "execute_result"
    }
   ],
   "source": [
    "dvda = dvdax*A.x + dvday*A.y + dvdaz*A.z\n",
    "dvda"
   ]
  },
  {
   "cell_type": "code",
   "execution_count": 7,
   "id": "514f34b6",
   "metadata": {
    "execution": {
     "iopub.execute_input": "2022-04-18T21:54:39.991283Z",
     "iopub.status.busy": "2022-04-18T21:54:39.990766Z",
     "iopub.status.idle": "2022-04-18T21:54:40.048741Z",
     "shell.execute_reply": "2022-04-18T21:54:40.047649Z"
    }
   },
   "outputs": [
    {
     "data": {
      "text/latex": [
       "$\\displaystyle (d \\sin^{2}{\\left(\\alpha \\right)} + d \\cos^{2}{\\left(\\alpha \\right)})\\mathbf{\\hat{b}_z} + (- \\left(e \\sin{\\left(\\alpha \\right)} \\sin{\\left(\\beta \\right)} + f \\cos{\\left(\\alpha \\right)}\\right) \\sin{\\left(\\beta \\right)} \\cos{\\left(\\alpha \\right)} + \\left(e \\sin{\\left(\\beta \\right)} \\cos{\\left(\\alpha \\right)} - f \\sin{\\left(\\alpha \\right)}\\right) \\sin{\\left(\\alpha \\right)} \\sin{\\left(\\beta \\right)})\\mathbf{\\hat{c}_x} + (\\left(e \\sin{\\left(\\alpha \\right)} \\sin{\\left(\\beta \\right)} + f \\cos{\\left(\\alpha \\right)}\\right) \\sin{\\left(\\alpha \\right)} + \\left(e \\sin{\\left(\\beta \\right)} \\cos{\\left(\\alpha \\right)} - f \\sin{\\left(\\alpha \\right)}\\right) \\cos{\\left(\\alpha \\right)})\\mathbf{\\hat{c}_y} + (\\left(e \\sin{\\left(\\alpha \\right)} \\sin{\\left(\\beta \\right)} + f \\cos{\\left(\\alpha \\right)}\\right) \\cos{\\left(\\alpha \\right)} \\cos{\\left(\\beta \\right)} - \\left(e \\sin{\\left(\\beta \\right)} \\cos{\\left(\\alpha \\right)} - f \\sin{\\left(\\alpha \\right)}\\right) \\sin{\\left(\\alpha \\right)} \\cos{\\left(\\beta \\right)})\\mathbf{\\hat{c}_z}$"
      ],
      "text/plain": [
       "⎛     2           2   ⎞\n",
       "⎝d⋅sin (α) + d⋅cos (α)⎠ b_z + (-(e⋅sin(α)⋅sin(β) + f⋅cos(α))⋅sin(β)⋅cos(α) + (\n",
       "\n",
       "\n",
       "e⋅sin(β)⋅cos(α) - f⋅sin(α))⋅sin(α)⋅sin(β)) c_x + ((e⋅sin(α)⋅sin(β) + f⋅cos(α))\n",
       "\n",
       "\n",
       "⋅sin(α) + (e⋅sin(β)⋅cos(α) - f⋅sin(α))⋅cos(α)) c_y + ((e⋅sin(α)⋅sin(β) + f⋅cos\n",
       "\n",
       "\n",
       "(α))⋅cos(α)⋅cos(β) - (e⋅sin(β)⋅cos(α) - f⋅sin(α))⋅sin(α)⋅cos(β)) c_z"
      ]
     },
     "execution_count": 7,
     "metadata": {},
     "output_type": "execute_result"
    }
   ],
   "source": [
    "dvdalpha = v.diff(alpha, A)\n",
    "dvdalpha"
   ]
  },
  {
   "cell_type": "code",
   "execution_count": 8,
   "id": "72671098",
   "metadata": {
    "execution": {
     "iopub.execute_input": "2022-04-18T21:54:40.053400Z",
     "iopub.status.busy": "2022-04-18T21:54:40.052681Z",
     "iopub.status.idle": "2022-04-18T21:54:40.358865Z",
     "shell.execute_reply": "2022-04-18T21:54:40.358261Z"
    }
   },
   "outputs": [
    {
     "data": {
      "text/latex": [
       "$\\displaystyle d\\mathbf{\\hat{b}_z} -  f \\sin{\\left(\\beta \\right)}\\mathbf{\\hat{c}_x} + e \\sin{\\left(\\beta \\right)}\\mathbf{\\hat{c}_y} + f \\cos{\\left(\\beta \\right)}\\mathbf{\\hat{c}_z}$"
      ],
      "text/plain": [
       "d b_z + -f⋅sin(β) c_x + e⋅sin(β) c_y + f⋅cos(β) c_z"
      ]
     },
     "execution_count": 8,
     "metadata": {},
     "output_type": "execute_result"
    }
   ],
   "source": [
    "v.diff(alpha, A).simplify()"
   ]
  },
  {
   "cell_type": "code",
   "execution_count": 9,
   "id": "a1a4a4ba",
   "metadata": {
    "execution": {
     "iopub.execute_input": "2022-04-18T21:54:40.362613Z",
     "iopub.status.busy": "2022-04-18T21:54:40.362100Z",
     "iopub.status.idle": "2022-04-18T21:54:41.635426Z",
     "shell.execute_reply": "2022-04-18T21:54:41.634526Z"
    }
   },
   "outputs": [
    {
     "data": {
      "text/latex": [
       "$\\displaystyle (- d \\sin{\\left(\\alpha \\right)} + e \\sin{\\left(\\beta \\right)} \\cos{\\left(\\alpha \\right)} - f \\sin{\\left(\\alpha \\right)})\\mathbf{\\hat{a}_y} + (d \\cos{\\left(\\alpha \\right)} + e \\sin{\\left(\\alpha \\right)} \\sin{\\left(\\beta \\right)} + f \\cos{\\left(\\alpha \\right)})\\mathbf{\\hat{a}_z}$"
      ],
      "text/plain": [
       "(-d⋅sin(α) + e⋅sin(β)⋅cos(α) - f⋅sin(α)) a_y + (d⋅cos(α) + e⋅sin(α)⋅sin(β) + f\n",
       "⋅cos(α)) a_z"
      ]
     },
     "execution_count": 9,
     "metadata": {},
     "output_type": "execute_result"
    }
   ],
   "source": [
    "v.diff(alpha, A).express(A).simplify()"
   ]
  },
  {
   "cell_type": "code",
   "execution_count": 10,
   "id": "326df987",
   "metadata": {
    "execution": {
     "iopub.execute_input": "2022-04-18T21:54:41.639503Z",
     "iopub.status.busy": "2022-04-18T21:54:41.639307Z",
     "iopub.status.idle": "2022-04-18T21:54:41.647968Z",
     "shell.execute_reply": "2022-04-18T21:54:41.647009Z"
    }
   },
   "outputs": [
    {
     "data": {
      "text/latex": [
       "$\\displaystyle q{\\left(t \\right)}$"
      ],
      "text/plain": [
       "q(t)"
      ]
     },
     "execution_count": 10,
     "metadata": {},
     "output_type": "execute_result"
    }
   ],
   "source": [
    "t = sm.symbols('t')\n",
    "q_of = sm.Function('q')\n",
    "\n",
    "q = q_of(t)\n",
    "q"
   ]
  },
  {
   "cell_type": "code",
   "execution_count": 11,
   "id": "da87e01a",
   "metadata": {
    "execution": {
     "iopub.execute_input": "2022-04-18T21:54:41.651039Z",
     "iopub.status.busy": "2022-04-18T21:54:41.650362Z",
     "iopub.status.idle": "2022-04-18T21:54:41.657963Z",
     "shell.execute_reply": "2022-04-18T21:54:41.657423Z"
    }
   },
   "outputs": [
    {
     "data": {
      "text/latex": [
       "$\\displaystyle \\frac{d}{d t} q{\\left(t \\right)}$"
      ],
      "text/plain": [
       "d       \n",
       "──(q(t))\n",
       "dt      "
      ]
     },
     "execution_count": 11,
     "metadata": {},
     "output_type": "execute_result"
    }
   ],
   "source": [
    "q.diff(t)"
   ]
  },
  {
   "cell_type": "code",
   "execution_count": 12,
   "id": "2b2e99aa",
   "metadata": {
    "execution": {
     "iopub.execute_input": "2022-04-18T21:54:41.660988Z",
     "iopub.status.busy": "2022-04-18T21:54:41.660676Z",
     "iopub.status.idle": "2022-04-18T21:54:41.667469Z",
     "shell.execute_reply": "2022-04-18T21:54:41.666872Z"
    }
   },
   "outputs": [
    {
     "data": {
      "text/latex": [
       "$\\displaystyle \\left( \\operatorname{q_{1}}{\\left(t \\right)}, \\  \\operatorname{q_{2}}{\\left(t \\right)}, \\  \\operatorname{q_{3}}{\\left(t \\right)}\\right)$"
      ],
      "text/plain": [
       "(q₁(t), q₂(t), q₃(t))"
      ]
     },
     "execution_count": 12,
     "metadata": {},
     "output_type": "execute_result"
    }
   ],
   "source": [
    "q1, q2, q3 = me.dynamicsymbols('q1, q2, q3')\n",
    "q1, q2, q3"
   ]
  },
  {
   "cell_type": "code",
   "execution_count": 13,
   "id": "5cf7617d",
   "metadata": {
    "execution": {
     "iopub.execute_input": "2022-04-18T21:54:41.670617Z",
     "iopub.status.busy": "2022-04-18T21:54:41.670201Z",
     "iopub.status.idle": "2022-04-18T21:54:41.674360Z",
     "shell.execute_reply": "2022-04-18T21:54:41.673798Z"
    }
   },
   "outputs": [],
   "source": [
    "t = me.dynamicsymbols._t"
   ]
  },
  {
   "cell_type": "code",
   "execution_count": 14,
   "id": "2e206b02",
   "metadata": {
    "execution": {
     "iopub.execute_input": "2022-04-18T21:54:41.677373Z",
     "iopub.status.busy": "2022-04-18T21:54:41.676886Z",
     "iopub.status.idle": "2022-04-18T21:54:41.689057Z",
     "shell.execute_reply": "2022-04-18T21:54:41.688520Z"
    }
   },
   "outputs": [
    {
     "data": {
      "text/latex": [
       "$\\displaystyle \\left( \\dot{q}_{1}, \\  \\ddot{q}_{2}, \\  \\dddot{q}_{3}\\right)$"
      ],
      "text/plain": [
       "(q₁̇, q₂̈, q₃⃛)"
      ]
     },
     "execution_count": 14,
     "metadata": {},
     "output_type": "execute_result"
    }
   ],
   "source": [
    "me.init_vprinting(use_latex='mathjax')\n",
    "q1.diff(t), q2.diff(t, 2), q3.diff(t, 3)"
   ]
  },
  {
   "cell_type": "code",
   "execution_count": 15,
   "id": "4ee37b99",
   "metadata": {
    "execution": {
     "iopub.execute_input": "2022-04-18T21:54:41.691997Z",
     "iopub.status.busy": "2022-04-18T21:54:41.691704Z",
     "iopub.status.idle": "2022-04-18T21:54:41.867199Z",
     "shell.execute_reply": "2022-04-18T21:54:41.866405Z"
    }
   },
   "outputs": [
    {
     "data": {
      "text/latex": [
       "$\\displaystyle q_{1}\\mathbf{\\hat{a}_x} + q_{2}\\mathbf{\\hat{a}_y} + t^{2}\\mathbf{\\hat{a}_z}$"
      ],
      "text/plain": [
       "                   2\n",
       "q₁ a_x + q₂ a_y + t  a_z"
      ]
     },
     "execution_count": 15,
     "metadata": {},
     "output_type": "execute_result"
    }
   ],
   "source": [
    "A = me.ReferenceFrame('A')\n",
    "B = me.ReferenceFrame('B')\n",
    "B.orient_body_fixed(A, (q1, q2, q3), 'ZXZ')\n",
    "v = q1*A.x + q2*A.y + t**2*A.z\n",
    "v"
   ]
  },
  {
   "cell_type": "code",
   "execution_count": 16,
   "id": "26856db4",
   "metadata": {
    "execution": {
     "iopub.execute_input": "2022-04-18T21:54:41.871564Z",
     "iopub.status.busy": "2022-04-18T21:54:41.871131Z",
     "iopub.status.idle": "2022-04-18T21:54:41.885422Z",
     "shell.execute_reply": "2022-04-18T21:54:41.884764Z"
    }
   },
   "outputs": [
    {
     "data": {
      "text/latex": [
       "$\\displaystyle \\dot{q}_{1}\\mathbf{\\hat{a}_x} + \\dot{q}_{2}\\mathbf{\\hat{a}_y} + 2 t\\mathbf{\\hat{a}_z}$"
      ],
      "text/plain": [
       "q₁̇ a_x + q₂̇ a_y + 2⋅t a_z"
      ]
     },
     "execution_count": 16,
     "metadata": {},
     "output_type": "execute_result"
    }
   ],
   "source": [
    "v.diff(t, A)"
   ]
  },
  {
   "cell_type": "code",
   "execution_count": 17,
   "id": "2a66d659",
   "metadata": {
    "execution": {
     "iopub.execute_input": "2022-04-18T21:54:41.889537Z",
     "iopub.status.busy": "2022-04-18T21:54:41.888296Z",
     "iopub.status.idle": "2022-04-18T21:54:41.900034Z",
     "shell.execute_reply": "2022-04-18T21:54:41.899508Z"
    }
   },
   "outputs": [
    {
     "data": {
      "text/latex": [
       "$\\displaystyle \\dot{q}_{1}\\mathbf{\\hat{a}_x} + \\dot{q}_{2}\\mathbf{\\hat{a}_y} + 2 t\\mathbf{\\hat{a}_z}$"
      ],
      "text/plain": [
       "q₁̇ a_x + q₂̇ a_y + 2⋅t a_z"
      ]
     },
     "execution_count": 17,
     "metadata": {},
     "output_type": "execute_result"
    }
   ],
   "source": [
    "v.dt(A)"
   ]
  }
 ],
 "metadata": {
  "kernelspec": {
   "display_name": "Python 3 (ipykernel)",
   "language": "python",
   "name": "python3"
  },
  "language_info": {
   "codemirror_mode": {
    "name": "ipython",
    "version": 3
   },
   "file_extension": ".py",
   "mimetype": "text/x-python",
   "name": "python",
   "nbconvert_exporter": "python",
   "pygments_lexer": "ipython3",
   "version": "3.9.12"
  }
 },
 "nbformat": 4,
 "nbformat_minor": 5
}