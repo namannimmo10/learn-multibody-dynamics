{
 "cells": [
  {
   "cell_type": "code",
   "execution_count": 1,
   "id": "e08f7e08",
   "metadata": {
    "execution": {
     "iopub.execute_input": "2022-04-18T21:54:43.716900Z",
     "iopub.status.busy": "2022-04-18T21:54:43.716647Z",
     "iopub.status.idle": "2022-04-18T21:54:44.334628Z",
     "shell.execute_reply": "2022-04-18T21:54:44.333964Z"
    }
   },
   "outputs": [],
   "source": [
    "import sympy as sm\n",
    "import sympy.physics.mechanics as me\n",
    "me.init_vprinting(use_latex='mathjax')"
   ]
  },
  {
   "cell_type": "code",
   "execution_count": 2,
   "id": "3b7e06d1",
   "metadata": {
    "execution": {
     "iopub.execute_input": "2022-04-18T21:54:44.340159Z",
     "iopub.status.busy": "2022-04-18T21:54:44.339812Z",
     "iopub.status.idle": "2022-04-18T21:54:44.354174Z",
     "shell.execute_reply": "2022-04-18T21:54:44.353552Z"
    }
   },
   "outputs": [],
   "source": [
    "L = sm.symbols('L')\n",
    "q1, q2, u1, u2 = me.dynamicsymbols('q1, q2, u1, u2')\n",
    "\n",
    "N = me.ReferenceFrame('N')\n",
    "R = me.ReferenceFrame('R')\n",
    "\n",
    "R.orient_axis(N, q2, N.z)"
   ]
  },
  {
   "cell_type": "code",
   "execution_count": 3,
   "id": "326131a9",
   "metadata": {
    "execution": {
     "iopub.execute_input": "2022-04-18T21:54:44.357306Z",
     "iopub.status.busy": "2022-04-18T21:54:44.356995Z",
     "iopub.status.idle": "2022-04-18T21:54:44.367927Z",
     "shell.execute_reply": "2022-04-18T21:54:44.367316Z"
    }
   },
   "outputs": [
    {
     "data": {
      "text/latex": [
       "$\\displaystyle u_{1}\\mathbf{\\hat{n}_x}$"
      ],
      "text/plain": [
       "u₁ n_x"
      ]
     },
     "execution_count": 3,
     "metadata": {},
     "output_type": "execute_result"
    }
   ],
   "source": [
    "N_v_A = u1*N.x\n",
    "N_v_A"
   ]
  },
  {
   "cell_type": "code",
   "execution_count": 4,
   "id": "e9f51cf5",
   "metadata": {
    "execution": {
     "iopub.execute_input": "2022-04-18T21:54:44.371146Z",
     "iopub.status.busy": "2022-04-18T21:54:44.370716Z",
     "iopub.status.idle": "2022-04-18T21:54:44.378494Z",
     "shell.execute_reply": "2022-04-18T21:54:44.377959Z"
    }
   },
   "outputs": [
    {
     "data": {
      "text/latex": [
       "$\\displaystyle u_{2}\\mathbf{\\hat{n}_z}$"
      ],
      "text/plain": [
       "u₂ n_z"
      ]
     },
     "execution_count": 4,
     "metadata": {},
     "output_type": "execute_result"
    }
   ],
   "source": [
    "N_w_R = u2*N.z\n",
    "N_w_R"
   ]
  },
  {
   "cell_type": "code",
   "execution_count": 5,
   "id": "3b7dff47",
   "metadata": {
    "execution": {
     "iopub.execute_input": "2022-04-18T21:54:44.381582Z",
     "iopub.status.busy": "2022-04-18T21:54:44.381155Z",
     "iopub.status.idle": "2022-04-18T21:54:44.398224Z",
     "shell.execute_reply": "2022-04-18T21:54:44.397682Z"
    }
   },
   "outputs": [
    {
     "data": {
      "text/latex": [
       "$\\displaystyle (L u_{2} \\sin{\\left(q_{2} \\right)} + u_{1})\\mathbf{\\hat{n}_x} -  L u_{2} \\cos{\\left(q_{2} \\right)}\\mathbf{\\hat{n}_y}$"
      ],
      "text/plain": [
       "(L⋅u₂⋅sin(q₂) + u₁) n_x + -L⋅u₂⋅cos(q₂) n_y"
      ]
     },
     "execution_count": 5,
     "metadata": {},
     "output_type": "execute_result"
    }
   ],
   "source": [
    "r_A_B = -L*R.x\n",
    "N_v_B = N_v_A + me.cross(N_w_R, r_A_B)\n",
    "\n",
    "N_v_B.express(N)"
   ]
  },
  {
   "cell_type": "code",
   "execution_count": 6,
   "id": "8ea13526",
   "metadata": {
    "execution": {
     "iopub.execute_input": "2022-04-18T21:54:44.401743Z",
     "iopub.status.busy": "2022-04-18T21:54:44.401210Z",
     "iopub.status.idle": "2022-04-18T21:54:44.419983Z",
     "shell.execute_reply": "2022-04-18T21:54:44.419417Z"
    }
   },
   "outputs": [
    {
     "data": {
      "text/latex": [
       "$\\displaystyle \\left( \\mathbf{\\hat{n}_x}, \\  0\\right)$"
      ],
      "text/plain": [
       "(n_x, 0)"
      ]
     },
     "execution_count": 6,
     "metadata": {},
     "output_type": "execute_result"
    }
   ],
   "source": [
    "v_A_1 = N_v_A.diff(u1, N)\n",
    "v_A_2 = N_v_A.diff(u2, N)\n",
    "\n",
    "v_A_1, v_A_2"
   ]
  },
  {
   "cell_type": "code",
   "execution_count": 7,
   "id": "d18a797d",
   "metadata": {
    "execution": {
     "iopub.execute_input": "2022-04-18T21:54:44.422750Z",
     "iopub.status.busy": "2022-04-18T21:54:44.422409Z",
     "iopub.status.idle": "2022-04-18T21:54:44.436500Z",
     "shell.execute_reply": "2022-04-18T21:54:44.435968Z"
    }
   },
   "outputs": [
    {
     "data": {
      "text/latex": [
       "$\\displaystyle \\left( \\mathbf{\\hat{n}_x}, \\  -  L\\mathbf{\\hat{r}_y}\\right)$"
      ],
      "text/plain": [
       "(n_x, -L r_y)"
      ]
     },
     "execution_count": 7,
     "metadata": {},
     "output_type": "execute_result"
    }
   ],
   "source": [
    "v_B_1 = N_v_B.diff(u1, N)\n",
    "v_B_2 = N_v_B.diff(u2, N)\n",
    "\n",
    "v_B_1, v_B_2"
   ]
  },
  {
   "cell_type": "code",
   "execution_count": 8,
   "id": "69964fe6",
   "metadata": {
    "execution": {
     "iopub.execute_input": "2022-04-18T21:54:44.439296Z",
     "iopub.status.busy": "2022-04-18T21:54:44.438795Z",
     "iopub.status.idle": "2022-04-18T21:54:44.448109Z",
     "shell.execute_reply": "2022-04-18T21:54:44.447562Z"
    }
   },
   "outputs": [
    {
     "data": {
      "text/latex": [
       "$\\displaystyle \\left( 0, \\  \\mathbf{\\hat{n}_z}\\right)$"
      ],
      "text/plain": [
       "(0, n_z)"
      ]
     },
     "execution_count": 8,
     "metadata": {},
     "output_type": "execute_result"
    }
   ],
   "source": [
    "w_R_1 = N_w_R.diff(u1, N)\n",
    "w_R_2 = N_w_R.diff(u2, N)\n",
    "\n",
    "w_R_1, w_R_2"
   ]
  },
  {
   "cell_type": "code",
   "execution_count": 9,
   "id": "65115ffe",
   "metadata": {
    "execution": {
     "iopub.execute_input": "2022-04-18T21:54:44.451276Z",
     "iopub.status.busy": "2022-04-18T21:54:44.450786Z",
     "iopub.status.idle": "2022-04-18T21:54:44.467476Z",
     "shell.execute_reply": "2022-04-18T21:54:44.466894Z"
    }
   },
   "outputs": [
    {
     "data": {
      "text/latex": [
       "$\\displaystyle \\left[ \\left[ \\mathbf{\\hat{n}_x}, \\  0\\right], \\  \\left[ \\mathbf{\\hat{n}_x}, \\  -  L\\mathbf{\\hat{r}_y}\\right], \\  \\left[ 0, \\  \\mathbf{\\hat{n}_z}\\right]\\right]$"
      ],
      "text/plain": [
       "[[n_x, 0], [n_x, -L r_y], [0, n_z]]"
      ]
     },
     "execution_count": 9,
     "metadata": {},
     "output_type": "execute_result"
    }
   ],
   "source": [
    "me.partial_velocity((N_v_A, N_v_B, N_w_R), (u1, u2), N)"
   ]
  },
  {
   "cell_type": "code",
   "execution_count": 10,
   "id": "5c3f11dd",
   "metadata": {
    "execution": {
     "iopub.execute_input": "2022-04-18T21:54:44.470743Z",
     "iopub.status.busy": "2022-04-18T21:54:44.470230Z",
     "iopub.status.idle": "2022-04-18T21:54:44.501692Z",
     "shell.execute_reply": "2022-04-18T21:54:44.501098Z"
    }
   },
   "outputs": [
    {
     "data": {
      "text/latex": [
       "$\\displaystyle \\left( l \\dot{q}_{1}\\mathbf{\\hat{a}_x}, \\  l \\dot{q}_{1}\\mathbf{\\hat{a}_x} + l \\dot{q}_{2}\\mathbf{\\hat{b}_x}\\right)$"
      ],
      "text/plain": [
       "(l⋅q₁̇ a_x, l⋅q₁̇ a_x + l⋅q₂̇ b_x)"
      ]
     },
     "execution_count": 10,
     "metadata": {},
     "output_type": "execute_result"
    }
   ],
   "source": [
    "l = sm.symbols('l')\n",
    "q1, q2, u1, u2 = me.dynamicsymbols('q1, q2, u1, u2')\n",
    "\n",
    "N = me.ReferenceFrame('N')\n",
    "A = me.ReferenceFrame('A')\n",
    "B = me.ReferenceFrame('B')\n",
    "\n",
    "A.orient_axis(N, q1, N.z)\n",
    "B.orient_axis(N, q2, N.z)\n",
    "\n",
    "O = me.Point('O')\n",
    "P1 = me.Point('P1')\n",
    "P2 = me.Point('P2')\n",
    "\n",
    "O.set_vel(N, 0)\n",
    "\n",
    "P1.set_pos(O, -l*A.y)\n",
    "P2.set_pos(P1, -l*B.y)\n",
    "\n",
    "P1.v2pt_theory(O, N, A)\n",
    "P2.v2pt_theory(P1, N, B)\n",
    "\n",
    "P1.vel(N), P2.vel(N)"
   ]
  },
  {
   "cell_type": "code",
   "execution_count": 11,
   "id": "53976e58",
   "metadata": {
    "execution": {
     "iopub.execute_input": "2022-04-18T21:54:44.505560Z",
     "iopub.status.busy": "2022-04-18T21:54:44.504474Z",
     "iopub.status.idle": "2022-04-18T21:54:44.513988Z",
     "shell.execute_reply": "2022-04-18T21:54:44.513407Z"
    }
   },
   "outputs": [
    {
     "data": {
      "text/latex": [
       "$\\displaystyle \\left( l u_{1}\\mathbf{\\hat{a}_x}, \\  l u_{1}\\mathbf{\\hat{a}_x} + l u_{2}\\mathbf{\\hat{b}_x}\\right)$"
      ],
      "text/plain": [
       "(l⋅u₁ a_x, l⋅u₁ a_x + l⋅u₂ b_x)"
      ]
     },
     "execution_count": 11,
     "metadata": {},
     "output_type": "execute_result"
    }
   ],
   "source": [
    "repl = {q1.diff(): u1, q2.diff(): u2}\n",
    "\n",
    "N_v_P1 = P1.vel(N).xreplace(repl)\n",
    "N_v_P2 = P2.vel(N).xreplace(repl)\n",
    "\n",
    "N_v_P1, N_v_P2"
   ]
  },
  {
   "cell_type": "code",
   "execution_count": 12,
   "id": "6c8e35d7",
   "metadata": {
    "execution": {
     "iopub.execute_input": "2022-04-18T21:54:44.517041Z",
     "iopub.status.busy": "2022-04-18T21:54:44.516555Z",
     "iopub.status.idle": "2022-04-18T21:54:44.533575Z",
     "shell.execute_reply": "2022-04-18T21:54:44.532974Z"
    }
   },
   "outputs": [
    {
     "data": {
      "text/latex": [
       "$\\displaystyle \\left( l\\mathbf{\\hat{a}_x}, \\  0, \\  l\\mathbf{\\hat{a}_x}, \\  l\\mathbf{\\hat{b}_x}\\right)$"
      ],
      "text/plain": [
       "(l a_x, 0, l a_x, l b_x)"
      ]
     },
     "execution_count": 12,
     "metadata": {},
     "output_type": "execute_result"
    }
   ],
   "source": [
    "v_P1_1 = N_v_P1.diff(u1, N)\n",
    "v_P1_2 = N_v_P1.diff(u2, N)\n",
    "v_P2_1 = N_v_P2.diff(u1, N)\n",
    "v_P2_2 = N_v_P2.diff(u2, N)\n",
    "v_P1_1, v_P1_2, v_P2_1, v_P2_2"
   ]
  },
  {
   "cell_type": "code",
   "execution_count": 13,
   "id": "2d135f6e",
   "metadata": {
    "execution": {
     "iopub.execute_input": "2022-04-18T21:54:44.536772Z",
     "iopub.status.busy": "2022-04-18T21:54:44.536295Z",
     "iopub.status.idle": "2022-04-18T21:54:44.546868Z",
     "shell.execute_reply": "2022-04-18T21:54:44.546237Z"
    }
   },
   "outputs": [
    {
     "data": {
      "text/latex": [
       "$\\displaystyle -  g m_{1}\\mathbf{\\hat{n}_y} + T_{1}\\mathbf{\\hat{a}_y} -  T_{2}\\mathbf{\\hat{b}_y}$"
      ],
      "text/plain": [
       "-g⋅m₁ n_y + T₁ a_y + -T₂ b_y"
      ]
     },
     "execution_count": 13,
     "metadata": {},
     "output_type": "execute_result"
    }
   ],
   "source": [
    "T1, T2 = me.dynamicsymbols('T1, T2')\n",
    "m1, m2, g = sm.symbols('m1, m2, g')\n",
    "\n",
    "R1 = -m1*g*N.y + T1*A.y - T2*B.y\n",
    "R1"
   ]
  },
  {
   "cell_type": "code",
   "execution_count": 14,
   "id": "663b7131",
   "metadata": {
    "execution": {
     "iopub.execute_input": "2022-04-18T21:54:44.549721Z",
     "iopub.status.busy": "2022-04-18T21:54:44.549306Z",
     "iopub.status.idle": "2022-04-18T21:54:44.555997Z",
     "shell.execute_reply": "2022-04-18T21:54:44.555397Z"
    }
   },
   "outputs": [
    {
     "data": {
      "text/latex": [
       "$\\displaystyle -  g m_{2}\\mathbf{\\hat{n}_y} + T_{2}\\mathbf{\\hat{b}_y}$"
      ],
      "text/plain": [
       "-g⋅m₂ n_y + T₂ b_y"
      ]
     },
     "execution_count": 14,
     "metadata": {},
     "output_type": "execute_result"
    }
   ],
   "source": [
    "R2 = -m2*g*N.y + T2*B.y\n",
    "R2"
   ]
  },
  {
   "cell_type": "code",
   "execution_count": 15,
   "id": "c7e51246",
   "metadata": {
    "execution": {
     "iopub.execute_input": "2022-04-18T21:54:44.559408Z",
     "iopub.status.busy": "2022-04-18T21:54:44.559094Z",
     "iopub.status.idle": "2022-04-18T21:54:44.582036Z",
     "shell.execute_reply": "2022-04-18T21:54:44.581407Z"
    }
   },
   "outputs": [
    {
     "data": {
      "text/latex": [
       "$\\displaystyle - g l m_{1} \\sin{\\left(q_{1} \\right)} - g l m_{2} \\sin{\\left(q_{1} \\right)}$"
      ],
      "text/plain": [
       "-g⋅l⋅m₁⋅sin(q₁) - g⋅l⋅m₂⋅sin(q₁)"
      ]
     },
     "execution_count": 15,
     "metadata": {},
     "output_type": "execute_result"
    }
   ],
   "source": [
    "F1 = me.dot(v_P1_1, R1) + me.dot(v_P2_1, R2)\n",
    "F1"
   ]
  },
  {
   "cell_type": "code",
   "execution_count": 16,
   "id": "9fc5cd50",
   "metadata": {
    "execution": {
     "iopub.execute_input": "2022-04-18T21:54:44.585058Z",
     "iopub.status.busy": "2022-04-18T21:54:44.584593Z",
     "iopub.status.idle": "2022-04-18T21:54:44.591982Z",
     "shell.execute_reply": "2022-04-18T21:54:44.591390Z"
    }
   },
   "outputs": [
    {
     "data": {
      "text/latex": [
       "$\\displaystyle - g l m_{2} \\sin{\\left(q_{2} \\right)}$"
      ],
      "text/plain": [
       "-g⋅l⋅m₂⋅sin(q₂)"
      ]
     },
     "execution_count": 16,
     "metadata": {},
     "output_type": "execute_result"
    }
   ],
   "source": [
    "F2 = me.dot(v_P1_2, R1) + me.dot(v_P2_2, R2)\n",
    "F2"
   ]
  },
  {
   "cell_type": "code",
   "execution_count": 17,
   "id": "fa60a371",
   "metadata": {
    "execution": {
     "iopub.execute_input": "2022-04-18T21:54:44.595453Z",
     "iopub.status.busy": "2022-04-18T21:54:44.594994Z",
     "iopub.status.idle": "2022-04-18T21:54:44.625193Z",
     "shell.execute_reply": "2022-04-18T21:54:44.624341Z"
    }
   },
   "outputs": [
    {
     "data": {
      "text/latex": [
       "$\\displaystyle \\left( \\frac{l u_{1}}{2}\\mathbf{\\hat{a}_y}, \\  l u_{1}\\mathbf{\\hat{a}_y}, \\  u_{1}\\mathbf{\\hat{n}_z}, \\  u_{2}\\mathbf{\\hat{a}_x} + u_{1}\\mathbf{\\hat{n}_z}\\right)$"
      ],
      "text/plain": [
       "⎛  l⋅u₁  , l⋅u₁ a_y, u₁ n_z, u₂ a_x + u₁ n_z⎞\n",
       "⎜──── a_y                                   ⎟\n",
       "⎝    2                                      ⎠"
      ]
     },
     "execution_count": 17,
     "metadata": {},
     "output_type": "execute_result"
    }
   ],
   "source": [
    "m, g, k, l = sm.symbols('m, g, k, l')\n",
    "q1, q2, u1, u2 = me.dynamicsymbols('q1, q2, u1, u2')\n",
    "\n",
    "N = me.ReferenceFrame('N')\n",
    "A = me.ReferenceFrame('A')\n",
    "B = me.ReferenceFrame('B')\n",
    "\n",
    "A.orient_axis(N, q1, N.z)\n",
    "B.orient_axis(A, q2, A.x)\n",
    "\n",
    "A.set_ang_vel(N, u1*N.z)\n",
    "B.set_ang_vel(A, u2*A.x)\n",
    "\n",
    "O = me.Point('O')\n",
    "Ao = me.Point('A_O')\n",
    "Bo = me.Point('B_O')\n",
    "\n",
    "Ao.set_pos(O, l/2*A.x)\n",
    "Bo.set_pos(O, l*A.x)\n",
    "\n",
    "O.set_vel(N, 0)\n",
    "Ao.v2pt_theory(O, N, A)\n",
    "Bo.v2pt_theory(O, N, A)\n",
    "\n",
    "Ao.vel(N), Bo.vel(N), A.ang_vel_in(N), B.ang_vel_in(N)"
   ]
  },
  {
   "cell_type": "code",
   "execution_count": 18,
   "id": "6446ef56",
   "metadata": {
    "execution": {
     "iopub.execute_input": "2022-04-18T21:54:44.628837Z",
     "iopub.status.busy": "2022-04-18T21:54:44.628198Z",
     "iopub.status.idle": "2022-04-18T21:54:44.642987Z",
     "shell.execute_reply": "2022-04-18T21:54:44.642376Z"
    }
   },
   "outputs": [
    {
     "data": {
      "text/latex": [
       "$\\displaystyle \\left( \\frac{l}{2}\\mathbf{\\hat{a}_y}, \\  0, \\  l\\mathbf{\\hat{a}_y}, \\  0\\right)$"
      ],
      "text/plain": [
       "⎛  l  , 0, l a_y, 0⎞\n",
       "⎜─ a_y             ⎟\n",
       "⎝  2               ⎠"
      ]
     },
     "execution_count": 18,
     "metadata": {},
     "output_type": "execute_result"
    }
   ],
   "source": [
    "v_Ao_1 = Ao.vel(N).diff(u1, N)\n",
    "v_Ao_2 = Ao.vel(N).diff(u2, N)\n",
    "v_Bo_1 = Bo.vel(N).diff(u1, N)\n",
    "v_Bo_2 = Bo.vel(N).diff(u2, N)\n",
    "\n",
    "v_Ao_1, v_Ao_2, v_Bo_1, v_Bo_2"
   ]
  },
  {
   "cell_type": "code",
   "execution_count": 19,
   "id": "fc320d4d",
   "metadata": {
    "execution": {
     "iopub.execute_input": "2022-04-18T21:54:44.645615Z",
     "iopub.status.busy": "2022-04-18T21:54:44.645402Z",
     "iopub.status.idle": "2022-04-18T21:54:44.659195Z",
     "shell.execute_reply": "2022-04-18T21:54:44.658568Z"
    }
   },
   "outputs": [
    {
     "data": {
      "text/latex": [
       "$\\displaystyle \\left( \\mathbf{\\hat{n}_z}, \\  0, \\  \\mathbf{\\hat{n}_z}, \\  \\mathbf{\\hat{a}_x}\\right)$"
      ],
      "text/plain": [
       "(n_z, 0, n_z, a_x)"
      ]
     },
     "execution_count": 19,
     "metadata": {},
     "output_type": "execute_result"
    }
   ],
   "source": [
    "w_A_1 = A.ang_vel_in(N).diff(u1, N)\n",
    "w_A_2 = A.ang_vel_in(N).diff(u2, N)\n",
    "w_B_1 = B.ang_vel_in(N).diff(u1, N)\n",
    "w_B_2 = B.ang_vel_in(N).diff(u2, N)\n",
    "\n",
    "w_A_1, w_A_2, w_B_1, w_B_2"
   ]
  },
  {
   "cell_type": "code",
   "execution_count": 20,
   "id": "3688078c",
   "metadata": {
    "execution": {
     "iopub.execute_input": "2022-04-18T21:54:44.662813Z",
     "iopub.status.busy": "2022-04-18T21:54:44.662325Z",
     "iopub.status.idle": "2022-04-18T21:54:44.670275Z",
     "shell.execute_reply": "2022-04-18T21:54:44.669659Z"
    }
   },
   "outputs": [
    {
     "data": {
      "text/latex": [
       "$\\displaystyle \\left( g m\\mathbf{\\hat{n}_x}, \\  g m\\mathbf{\\hat{n}_x}\\right)$"
      ],
      "text/plain": [
       "(g⋅m n_x, g⋅m n_x)"
      ]
     },
     "execution_count": 20,
     "metadata": {},
     "output_type": "execute_result"
    }
   ],
   "source": [
    "R_Ao = m*g*N.x\n",
    "R_Bo = m*g*N.x\n",
    "\n",
    "R_Ao, R_Bo"
   ]
  },
  {
   "cell_type": "code",
   "execution_count": 21,
   "id": "6b1a47c1",
   "metadata": {
    "execution": {
     "iopub.execute_input": "2022-04-18T21:54:44.672885Z",
     "iopub.status.busy": "2022-04-18T21:54:44.672695Z",
     "iopub.status.idle": "2022-04-18T21:54:44.682105Z",
     "shell.execute_reply": "2022-04-18T21:54:44.681350Z"
    }
   },
   "outputs": [
    {
     "data": {
      "text/latex": [
       "$\\displaystyle \\left( -  k q_{1}\\mathbf{\\hat{n}_z} + k q_{2}\\mathbf{\\hat{a}_x}, \\  -  k q_{2}\\mathbf{\\hat{a}_x}\\right)$"
      ],
      "text/plain": [
       "(-k⋅q₁ n_z + k⋅q₂ a_x, -k⋅q₂ a_x)"
      ]
     },
     "execution_count": 21,
     "metadata": {},
     "output_type": "execute_result"
    }
   ],
   "source": [
    "T_A = -k*q1*N.z + k*q2*A.x\n",
    "T_B = -k*q2*A.x\n",
    "\n",
    "T_A, T_B"
   ]
  },
  {
   "cell_type": "code",
   "execution_count": 22,
   "id": "df1cd207",
   "metadata": {
    "execution": {
     "iopub.execute_input": "2022-04-18T21:54:44.686213Z",
     "iopub.status.busy": "2022-04-18T21:54:44.685736Z",
     "iopub.status.idle": "2022-04-18T21:54:44.701424Z",
     "shell.execute_reply": "2022-04-18T21:54:44.700637Z"
    }
   },
   "outputs": [
    {
     "data": {
      "text/latex": [
       "$\\displaystyle \\left( - \\frac{g l m \\sin{\\left(q_{1} \\right)}}{2} - k q_{1}, \\  - g l m \\sin{\\left(q_{1} \\right)}, \\  0, \\  - k q_{2}\\right)$"
      ],
      "text/plain": [
       "⎛  g⋅l⋅m⋅sin(q₁)                                 ⎞\n",
       "⎜- ───────────── - k⋅q₁, -g⋅l⋅m⋅sin(q₁), 0, -k⋅q₂⎟\n",
       "⎝        2                                       ⎠"
      ]
     },
     "execution_count": 22,
     "metadata": {},
     "output_type": "execute_result"
    }
   ],
   "source": [
    "F1_A = v_Ao_1.dot(R_Ao) + w_A_1.dot(T_A)\n",
    "F1_B = v_Bo_1.dot(R_Bo) + w_B_1.dot(T_B)\n",
    "F2_A = v_Ao_2.dot(R_Ao) + w_A_2.dot(T_A)\n",
    "F2_B = v_Bo_2.dot(R_Bo) + w_B_2.dot(T_B)\n",
    "\n",
    "F1_A, F1_B, F2_A, F2_B"
   ]
  },
  {
   "cell_type": "code",
   "execution_count": 23,
   "id": "bca40af7",
   "metadata": {
    "execution": {
     "iopub.execute_input": "2022-04-18T21:54:44.704786Z",
     "iopub.status.busy": "2022-04-18T21:54:44.704299Z",
     "iopub.status.idle": "2022-04-18T21:54:44.713036Z",
     "shell.execute_reply": "2022-04-18T21:54:44.712455Z"
    }
   },
   "outputs": [
    {
     "data": {
      "text/latex": [
       "$\\displaystyle \\left[\\begin{matrix}- \\frac{3 g l m \\sin{\\left(q_{1} \\right)}}{2} - k q_{1}\\\\- k q_{2}\\end{matrix}\\right]$"
      ],
      "text/plain": [
       "⎡  3⋅g⋅l⋅m⋅sin(q₁)       ⎤\n",
       "⎢- ─────────────── - k⋅q₁⎥\n",
       "⎢         2              ⎥\n",
       "⎢                        ⎥\n",
       "⎣         -k⋅q₂          ⎦"
      ]
     },
     "execution_count": 23,
     "metadata": {},
     "output_type": "execute_result"
    }
   ],
   "source": [
    "F1 = F1_A + F1_B\n",
    "F2 = F2_A + F2_B\n",
    "\n",
    "Fr = sm.Matrix([F1, F2])\n",
    "Fr"
   ]
  },
  {
   "cell_type": "code",
   "execution_count": 24,
   "id": "73b44aaa",
   "metadata": {
    "execution": {
     "iopub.execute_input": "2022-04-18T21:54:44.716513Z",
     "iopub.status.busy": "2022-04-18T21:54:44.716024Z",
     "iopub.status.idle": "2022-04-18T21:54:44.753112Z",
     "shell.execute_reply": "2022-04-18T21:54:44.752429Z"
    }
   },
   "outputs": [],
   "source": [
    "m, g, k, l = sm.symbols('m, g, k, l')\n",
    "q1, q2, u1, u2 = me.dynamicsymbols('q1, q2, u1, u2')\n",
    "\n",
    "N = me.ReferenceFrame('N')\n",
    "A = me.ReferenceFrame('A')\n",
    "B = me.ReferenceFrame('B')\n",
    "\n",
    "A.orient_axis(N, q1, N.z)\n",
    "B.orient_axis(A, q2, A.x)\n",
    "\n",
    "A.set_ang_vel(N, u1*N.z)\n",
    "B.set_ang_vel(A, u2*A.x)\n",
    "\n",
    "O = me.Point('O')\n",
    "Ao = me.Point('A_O')\n",
    "Bo = me.Point('B_O')\n",
    "\n",
    "Ao.set_pos(O, l/2*A.x)\n",
    "Bo.set_pos(O, l*A.x)\n",
    "\n",
    "O.set_vel(N, 0)\n",
    "Ao.v2pt_theory(O, N, A)\n",
    "Bo.v2pt_theory(O, N, A)\n",
    "\n",
    "v_Ao_1 = Ao.vel(N).diff(u1, N)\n",
    "v_Ao_2 = Ao.vel(N).diff(u2, N)\n",
    "v_Bo_1 = Bo.vel(N).diff(u1, N)\n",
    "v_Bo_2 = Bo.vel(N).diff(u2, N)\n",
    "\n",
    "w_A_1 = A.ang_vel_in(N).diff(u1, N)\n",
    "w_A_2 = A.ang_vel_in(N).diff(u2, N)\n",
    "w_B_1 = B.ang_vel_in(N).diff(u1, N)\n",
    "w_B_2 = B.ang_vel_in(N).diff(u2, N)"
   ]
  },
  {
   "cell_type": "code",
   "execution_count": 25,
   "id": "cb2da65b",
   "metadata": {
    "execution": {
     "iopub.execute_input": "2022-04-18T21:54:44.756752Z",
     "iopub.status.busy": "2022-04-18T21:54:44.756546Z",
     "iopub.status.idle": "2022-04-18T21:54:44.777336Z",
     "shell.execute_reply": "2022-04-18T21:54:44.776687Z"
    }
   },
   "outputs": [
    {
     "data": {
      "text/latex": [
       "$\\displaystyle \\left( -  \\frac{l u_{1}^{2}}{2}\\mathbf{\\hat{a}_x} + \\frac{l \\dot{u}_{1}}{2}\\mathbf{\\hat{a}_y}, \\  -  l u_{1}^{2}\\mathbf{\\hat{a}_x} + l \\dot{u}_{1}\\mathbf{\\hat{a}_y}\\right)$"
      ],
      "text/plain": [
       "⎛             2        ,              2       ⎞\n",
       "⎜ -l⋅u₁         l⋅u₁̇    -l⋅u₁  a_x + l⋅u₁̇ a_y⎟\n",
       "⎜─────── a_x + ──── a_y                       ⎟\n",
       "⎝      2           2                          ⎠"
      ]
     },
     "execution_count": 25,
     "metadata": {},
     "output_type": "execute_result"
    }
   ],
   "source": [
    "Ao.acc(N), Bo.acc(N)"
   ]
  },
  {
   "cell_type": "code",
   "execution_count": 26,
   "id": "0a6f3b34",
   "metadata": {
    "execution": {
     "iopub.execute_input": "2022-04-18T21:54:44.780453Z",
     "iopub.status.busy": "2022-04-18T21:54:44.779887Z",
     "iopub.status.idle": "2022-04-18T21:54:44.796376Z",
     "shell.execute_reply": "2022-04-18T21:54:44.795746Z"
    }
   },
   "outputs": [
    {
     "data": {
      "text/latex": [
       "$\\displaystyle \\left( \\dot{u}_{1}\\mathbf{\\hat{n}_z}, \\  \\dot{u}_{2}\\mathbf{\\hat{a}_x} + u_{1} u_{2}\\mathbf{\\hat{a}_y} + \\dot{u}_{1}\\mathbf{\\hat{n}_z}\\right)$"
      ],
      "text/plain": [
       "(u₁̇ n_z, u₂̇ a_x + u₁⋅u₂ a_y + u₁̇ n_z)"
      ]
     },
     "execution_count": 26,
     "metadata": {},
     "output_type": "execute_result"
    }
   ],
   "source": [
    "A.ang_acc_in(N), B.ang_acc_in(N)"
   ]
  },
  {
   "cell_type": "code",
   "execution_count": 27,
   "id": "66afd51f",
   "metadata": {
    "execution": {
     "iopub.execute_input": "2022-04-18T21:54:44.799377Z",
     "iopub.status.busy": "2022-04-18T21:54:44.798891Z",
     "iopub.status.idle": "2022-04-18T21:54:44.804802Z",
     "shell.execute_reply": "2022-04-18T21:54:44.804361Z"
    }
   },
   "outputs": [
    {
     "data": {
      "text/latex": [
       "$\\displaystyle \\frac{l^{2} m}{12}$"
      ],
      "text/plain": [
       " 2  \n",
       "l ⋅m\n",
       "────\n",
       " 12 "
      ]
     },
     "execution_count": 27,
     "metadata": {},
     "output_type": "execute_result"
    }
   ],
   "source": [
    "I = m*l**2/12\n",
    "I"
   ]
  },
  {
   "cell_type": "code",
   "execution_count": 28,
   "id": "d337fa00",
   "metadata": {
    "execution": {
     "iopub.execute_input": "2022-04-18T21:54:44.807503Z",
     "iopub.status.busy": "2022-04-18T21:54:44.807094Z",
     "iopub.status.idle": "2022-04-18T21:54:44.817523Z",
     "shell.execute_reply": "2022-04-18T21:54:44.816904Z"
    }
   },
   "outputs": [
    {
     "data": {
      "text/latex": [
       "$\\displaystyle \\left( \\frac{l^{2} m}{12}\\mathbf{\\hat{a}_y}\\otimes \\mathbf{\\hat{a}_y} + \\frac{l^{2} m}{12}\\mathbf{\\hat{a}_z}\\otimes \\mathbf{\\hat{a}_z}, \\  \\frac{l^{2} m}{12}\\mathbf{\\hat{b}_x}\\otimes \\mathbf{\\hat{b}_x} + \\frac{l^{2} m}{12}\\mathbf{\\hat{b}_z}\\otimes \\mathbf{\\hat{b}_z}\\right)$"
      ],
      "text/plain": [
       "⎛         2         ,          2         ⎞\n",
       "⎜        l ⋅m                 l ⋅m       ⎟\n",
       "⎜        ────                 ────       ⎟\n",
       "⎜ 12  a_y⊗a_y +  2     12  b_x⊗b_x +  2  ⎟\n",
       "⎜        l ⋅m                 l ⋅m       ⎟\n",
       "⎜        ────                 ────       ⎟\n",
       "⎝     12  a_z⊗a_z          12  b_z⊗b_z   ⎠"
      ]
     },
     "execution_count": 28,
     "metadata": {},
     "output_type": "execute_result"
    }
   ],
   "source": [
    "I_A_Ao = I*me.outer(A.y, A.y) + I*me.outer(A.z, A.z)\n",
    "I_B_Bo = I*me.outer(B.x, B.x) + I*me.outer(B.z, B.z)\n",
    "I_A_Ao, I_B_Bo"
   ]
  },
  {
   "cell_type": "code",
   "execution_count": 29,
   "id": "eafab643",
   "metadata": {
    "execution": {
     "iopub.execute_input": "2022-04-18T21:54:44.820302Z",
     "iopub.status.busy": "2022-04-18T21:54:44.819903Z",
     "iopub.status.idle": "2022-04-18T21:54:44.838886Z",
     "shell.execute_reply": "2022-04-18T21:54:44.838308Z"
    }
   },
   "outputs": [
    {
     "data": {
      "text/latex": [
       "$\\displaystyle \\left( \\frac{l m u_{1}^{2}}{2}\\mathbf{\\hat{a}_x} -  \\frac{l m \\dot{u}_{1}}{2}\\mathbf{\\hat{a}_y}, \\  l m u_{1}^{2}\\mathbf{\\hat{a}_x} -  l m \\dot{u}_{1}\\mathbf{\\hat{a}_y}\\right)$"
      ],
      "text/plain": [
       "⎛               2          ,                2         ⎞\n",
       "⎜  l⋅m⋅u₁        -l⋅m⋅u₁̇    l⋅m⋅u₁  a_x + -l⋅m⋅u₁̇ a_y⎟\n",
       "⎜─────── a_x + ──────── a_y                           ⎟\n",
       "⎝       2             2                               ⎠"
      ]
     },
     "execution_count": 29,
     "metadata": {},
     "output_type": "execute_result"
    }
   ],
   "source": [
    "Rs_Ao = -m*Ao.acc(N)\n",
    "Rs_Bo = -m*Bo.acc(N)\n",
    "\n",
    "Rs_Ao, Rs_Bo"
   ]
  },
  {
   "cell_type": "code",
   "execution_count": 30,
   "id": "fda12c64",
   "metadata": {
    "execution": {
     "iopub.execute_input": "2022-04-18T21:54:44.841555Z",
     "iopub.status.busy": "2022-04-18T21:54:44.841144Z",
     "iopub.status.idle": "2022-04-18T21:54:44.858514Z",
     "shell.execute_reply": "2022-04-18T21:54:44.857918Z"
    }
   },
   "outputs": [
    {
     "data": {
      "text/latex": [
       "$\\displaystyle -  \\frac{l^{2} m \\dot{u}_{1}}{12}\\mathbf{\\hat{a}_z}$"
      ],
      "text/plain": [
       "  2\n",
       "-l ⋅m⋅u₁̇\n",
       "───────── a_z\n",
       "    12"
      ]
     },
     "execution_count": 30,
     "metadata": {},
     "output_type": "execute_result"
    }
   ],
   "source": [
    "Ts_A = -(A.ang_acc_in(N).dot(I_A_Ao) +\n",
    "         me.cross(A.ang_vel_in(N), I_A_Ao).dot(A.ang_vel_in(N)))\n",
    "Ts_A"
   ]
  },
  {
   "cell_type": "code",
   "execution_count": 31,
   "id": "8f43f951",
   "metadata": {
    "execution": {
     "iopub.execute_input": "2022-04-18T21:54:44.862219Z",
     "iopub.status.busy": "2022-04-18T21:54:44.861726Z",
     "iopub.status.idle": "2022-04-18T21:54:44.907052Z",
     "shell.execute_reply": "2022-04-18T21:54:44.906315Z"
    }
   },
   "outputs": [
    {
     "data": {
      "text/latex": [
       "$\\displaystyle (- \\frac{l^{2} m u_{1}^{2} \\sin{\\left(q_{2} \\right)} \\cos{\\left(q_{2} \\right)}}{12} - \\frac{l^{2} m \\dot{u}_{2}}{12})\\mathbf{\\hat{b}_x} + (- \\frac{l^{2} m \\left(- u_{1} u_{2} \\sin{\\left(q_{2} \\right)} + \\cos{\\left(q_{2} \\right)} \\dot{u}_{1}\\right)}{12} + \\frac{l^{2} m u_{1} u_{2} \\sin{\\left(q_{2} \\right)}}{12})\\mathbf{\\hat{b}_z}$"
      ],
      "text/plain": [
       "⎛   2     2                    2     ⎞       ⎛   2\n",
       "⎜  l ⋅m⋅u₁ ⋅sin(q₂)⋅cos(q₂)   l ⋅m⋅u₂̇⎟       ⎜  l ⋅m⋅(-u₁⋅u₂⋅sin(q₂) + cos(q₂\n",
       "⎜- ──────────────────────── - ───────⎟ b_x + ⎜- ──────────────────────────────\n",
       "⎝             12                 12  ⎠       ⎝                  12\n",
       "\n",
       "        2                ⎞\n",
       ")⋅u₁̇)   l ⋅m⋅u₁⋅u₂⋅sin(q₂)⎟\n",
       "──── + ──────────────────⎟ b_z\n",
       "               12        ⎠"
      ]
     },
     "execution_count": 31,
     "metadata": {},
     "output_type": "execute_result"
    }
   ],
   "source": [
    "Ts_B = -(B.ang_acc_in(N).dot(I_B_Bo) +\n",
    "         me.cross(B.ang_vel_in(N), I_B_Bo).dot(B.ang_vel_in(N)))\n",
    "Ts_B"
   ]
  },
  {
   "cell_type": "code",
   "execution_count": 32,
   "id": "75cc8188",
   "metadata": {
    "execution": {
     "iopub.execute_input": "2022-04-18T21:54:44.910836Z",
     "iopub.status.busy": "2022-04-18T21:54:44.910646Z",
     "iopub.status.idle": "2022-04-18T21:54:44.928569Z",
     "shell.execute_reply": "2022-04-18T21:54:44.928016Z"
    }
   },
   "outputs": [],
   "source": [
    "F1s_A = v_Ao_1.dot(Rs_Ao) + w_A_1.dot(Ts_A)\n",
    "F1s_B = v_Bo_1.dot(Rs_Bo) + w_B_1.dot(Ts_B)\n",
    "F2s_A = v_Ao_2.dot(Rs_Ao) + w_A_2.dot(Ts_A)\n",
    "F2s_B = v_Bo_2.dot(Rs_Bo) + w_B_2.dot(Ts_B)"
   ]
  },
  {
   "cell_type": "code",
   "execution_count": 33,
   "id": "01fd7023",
   "metadata": {
    "execution": {
     "iopub.execute_input": "2022-04-18T21:54:44.931418Z",
     "iopub.status.busy": "2022-04-18T21:54:44.930950Z",
     "iopub.status.idle": "2022-04-18T21:54:44.950443Z",
     "shell.execute_reply": "2022-04-18T21:54:44.949820Z"
    }
   },
   "outputs": [
    {
     "data": {
      "text/latex": [
       "$\\displaystyle \\left[\\begin{matrix}- \\frac{4 l^{2} m \\dot{u}_{1}}{3} + \\left(- \\frac{l^{2} m \\left(- u_{1} u_{2} \\sin{\\left(q_{2} \\right)} + \\cos{\\left(q_{2} \\right)} \\dot{u}_{1}\\right)}{12} + \\frac{l^{2} m u_{1} u_{2} \\sin{\\left(q_{2} \\right)}}{12}\\right) \\cos{\\left(q_{2} \\right)}\\\\- \\frac{l^{2} m u_{1}^{2} \\sin{\\left(q_{2} \\right)} \\cos{\\left(q_{2} \\right)}}{12} - \\frac{l^{2} m \\dot{u}_{2}}{12}\\end{matrix}\\right]$"
      ],
      "text/plain": [
       "⎡     2        ⎛   2                                    2                ⎞    \n",
       "⎢  4⋅l ⋅m⋅u₁̇   ⎜  l ⋅m⋅(-u₁⋅u₂⋅sin(q₂) + cos(q₂)⋅u₁̇)   l ⋅m⋅u₁⋅u₂⋅sin(q₂)⎟  \n",
       "⎢- ───────── + ⎜- ────────────────────────────────── + ──────────────────⎟⋅cos\n",
       "⎢      3       ⎝                  12                           12        ⎠    \n",
       "⎢                                                                             \n",
       "⎢                         2     2                    2                        \n",
       "⎢                        l ⋅m⋅u₁ ⋅sin(q₂)⋅cos(q₂)   l ⋅m⋅u₂̇                  \n",
       "⎢                      - ──────────────────────── - ───────                   \n",
       "⎣                                   12                 12                     \n",
       "\n",
       "    ⎤\n",
       "      ⎥\n",
       "(q₂)⎥\n",
       "    ⎥\n",
       "    ⎥\n",
       "    ⎥\n",
       "     ⎥\n",
       "    ⎥\n",
       "    ⎦"
      ]
     },
     "execution_count": 33,
     "metadata": {},
     "output_type": "execute_result"
    }
   ],
   "source": [
    "F1s = F1s_A + F1s_B\n",
    "F2s = F2s_A + F2s_B\n",
    "\n",
    "Frs = sm.Matrix([F1s, F2s])\n",
    "Frs"
   ]
  }
 ],
 "metadata": {
  "kernelspec": {
   "display_name": "Python 3 (ipykernel)",
   "language": "python",
   "name": "python3"
  },
  "language_info": {
   "codemirror_mode": {
    "name": "ipython",
    "version": 3
   },
   "file_extension": ".py",
   "mimetype": "text/x-python",
   "name": "python",
   "nbconvert_exporter": "python",
   "pygments_lexer": "ipython3",
   "version": "3.9.12"
  }
 },
 "nbformat": 4,
 "nbformat_minor": 5
}